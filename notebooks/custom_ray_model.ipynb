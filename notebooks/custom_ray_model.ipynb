{
 "cells": [
  {
   "cell_type": "code",
   "execution_count": 1,
   "metadata": {},
   "outputs": [
    {
     "name": "stderr",
     "output_type": "stream",
     "text": [
      "2020-05-08 12:40:32,702\tWARNING services.py:597 -- setpgrp failed, processes may not be cleaned up properly: [Errno 1] Operation not permitted.\n",
      "2020-05-08 12:40:32,703\tINFO resource_spec.py:216 -- Starting Ray with 1.76 GiB memory available for workers and up to 0.88 GiB for objects. You can adjust these settings with ray.init(memory=<bytes>, object_store_memory=<bytes>).\n"
     ]
    }
   ],
   "source": [
    "import ray\n",
    "from ray.rllib import agents\n",
    "from ray import tune\n",
    "from ray.rllib.models.tf.tf_modelv2 import TFModelV2\n",
    "from ray.rllib.models.tf.fcnet_v2 import FullyConnectedNetwork\n",
    "from ray.rllib.models import ModelCatalog\n",
    "from ray.rllib.utils import try_import_tf\n",
    "import gym\n",
    "from gym import spaces\n",
    "import or_gym\n",
    "from or_gym.utils.env_config import *\n",
    "from or_gym.algos.rl_utils import create_env\n",
    "import numpy as np\n",
    "import time\n",
    "from copy import deepcopy\n",
    "import matplotlib.pyplot as plt\n",
    "%matplotlib inline\n",
    "ray.init(ignore_reinit_error=True)\n",
    "tf = try_import_tf()"
   ]
  },
  {
   "cell_type": "code",
   "execution_count": 2,
   "metadata": {},
   "outputs": [
    {
     "data": {
      "text/plain": [
       "{'action_mask': array([1, 0, 1]),\n",
       " 'avail_actions': array([1., 1., 1.]),\n",
       " 'state': array([0.        , 0.        , 4.58033246, 0.        , 0.        ,\n",
       "        0.        , 5.        , 0.        , 0.        ])}"
      ]
     },
     "execution_count": 2,
     "metadata": {},
     "output_type": "execute_result"
    }
   ],
   "source": [
    "env = or_gym.make('SCSched-v3')\n",
    "s = env.reset()\n",
    "s"
   ]
  },
  {
   "cell_type": "code",
   "execution_count": 3,
   "metadata": {},
   "outputs": [],
   "source": [
    "config = agents.a3c.DEFAULT_CONFIG"
   ]
  },
  {
   "cell_type": "code",
   "execution_count": 18,
   "metadata": {},
   "outputs": [],
   "source": [
    "def test(s):\n",
    "    avail_actions = s['avail_actions']\n",
    "    avail_actions[0] = 0\n",
    "    action_mask = s['action_mask']\n",
    "    action_embed_model = FullyConnectedNetwork(\n",
    "        spaces.Box(0, 1, shape=(9,)), env.action_space, 3, config['model'], 'scsched3')\n",
    "    action_embedding, _ = action_embed_model({'obs': s['state'].reshape(1, -1)})\n",
    "    intent_vector = tf.expand_dims(action_embedding, 1)\n",
    "    action_logits = tf.reduce_sum(avail_actions * intent_vector, axis=1)\n",
    "    inf_mask = tf.maximum(tf.log(action_mask.astype('float')), tf.float32.min)\n",
    "#     output = tf.reduce_sum(action_embedding + inf_mask, 1)\n",
    "    return action_embedding, intent_vector, action_logits, inf_mask#, output"
   ]
  },
  {
   "cell_type": "code",
   "execution_count": 19,
   "metadata": {
    "scrolled": false
   },
   "outputs": [
    {
     "data": {
      "text/plain": [
       "(array([[ 0.00544533, -0.00944633, -0.0045386 ]], dtype=float32),\n",
       " array([[[ 0.00544533, -0.00944633, -0.0045386 ]]], dtype=float32),\n",
       " array([[ 0.        , -0.00944633, -0.0045386 ]], dtype=float32),\n",
       " array([ 0.00000000e+00, -3.40282347e+38,  0.00000000e+00]))"
      ]
     },
     "execution_count": 19,
     "metadata": {},
     "output_type": "execute_result"
    }
   ],
   "source": [
    "with tf.Session() as sess:\n",
    "    a, b, c, d = test(s)\n",
    "    init = tf.global_variables_initializer()\n",
    "    sess.run(init)\n",
    "    out = (a.eval(), b.eval(), c.eval(), d.eval())\n",
    "out"
   ]
  },
  {
   "cell_type": "code",
   "execution_count": 6,
   "metadata": {},
   "outputs": [
    {
     "data": {
      "text/plain": [
       "array([[ 0.00000000e+00, -3.40282347e+38, -1.61058793e-03]])"
      ]
     },
     "execution_count": 6,
     "metadata": {},
     "output_type": "execute_result"
    }
   ],
   "source": [
    "out[2] + out[3]"
   ]
  },
  {
   "cell_type": "code",
   "execution_count": 20,
   "metadata": {},
   "outputs": [
    {
     "data": {
      "text/plain": [
       "array([[ 5.44532668e-03, -3.40282347e+38, -4.53860499e-03]])"
      ]
     },
     "execution_count": 20,
     "metadata": {},
     "output_type": "execute_result"
    }
   ],
   "source": [
    "out[0] + out[3]"
   ]
  },
  {
   "cell_type": "code",
   "execution_count": 30,
   "metadata": {},
   "outputs": [],
   "source": [
    "class SCSchedMaskModel2(TFModelV2):\n",
    "    \n",
    "    def __init__(self, obs_space, action_space, num_outputs,\n",
    "        model_config, name, true_obs_shape=(9,), action_embed_size=3,\n",
    "        *args, **kwargs):\n",
    "        super(SCSchedMaskModel2, self).__init__(obs_space,\n",
    "            action_space, num_outputs, model_config, name, *args, **kwargs)\n",
    "        self.action_embed_model = FullyConnectedNetwork(\n",
    "            spaces.Box(0, 100, shape=true_obs_shape), action_space, action_embed_size,\n",
    "            model_config, name + \"_action_embedding\")\n",
    "        self.register_variables(self.action_embed_model.variables())\n",
    "        \n",
    "    def forward(self, state):\n",
    "        action_mask = state[\"action_mask\"]\n",
    "        action_embedding, _ = self.action_embed_model({\n",
    "            \"obs\": state[\"state\"].reshape(1, -1)\n",
    "        })\n",
    "        intent_vector = tf.expand_dims(action_embedding, 1)\n",
    "        action_logits = tf.reduce_sum(action_mask * intent_vector, axis=1)\n",
    "        return action_logits, intent_vector\n",
    "    \n",
    "    def value_function(self):\n",
    "        return self.action_embed_model.value_function()"
   ]
  },
  {
   "cell_type": "code",
   "execution_count": 31,
   "metadata": {},
   "outputs": [
    {
     "name": "stdout",
     "output_type": "stream",
     "text": [
      "{'action_mask': array([1, 0, 1]), 'avail_actions': array([1., 1., 1.]), 'state': array([0.        , 0.        , 6.64042218, 0.        , 0.        ,\n",
      "       0.        , 5.        , 0.        , 0.        ])}\n"
     ]
    },
    {
     "data": {
      "text/plain": [
       "(array([[ 0.00182259, -0.        , -0.00247612]], dtype=float32),\n",
       " array([[[ 0.00182259, -0.0039382 , -0.00247612]]], dtype=float32))"
      ]
     },
     "execution_count": 31,
     "metadata": {},
     "output_type": "execute_result"
    }
   ],
   "source": [
    "env = or_gym.make('SCSched-v3')\n",
    "state = env.reset()\n",
    "print(state)\n",
    "with tf.Session() as sess:\n",
    "    model = SCSchedMaskModel2(\n",
    "        env.observation_space, env.action_space, env.action_space.shape[0],\n",
    "        config['model'], 'scsched')\n",
    "    action_logits, intent_vector = model.forward(state)\n",
    "    init = tf.global_variables_initializer()\n",
    "    sess.run(init)\n",
    "    out = (action_logits.eval(), intent_vector.eval())\n",
    "    \n",
    "out"
   ]
  },
  {
   "cell_type": "code",
   "execution_count": null,
   "metadata": {},
   "outputs": [],
   "source": []
  }
 ],
 "metadata": {
  "kernelspec": {
   "display_name": "Python 3",
   "language": "python",
   "name": "python3"
  },
  "language_info": {
   "codemirror_mode": {
    "name": "ipython",
    "version": 3
   },
   "file_extension": ".py",
   "mimetype": "text/x-python",
   "name": "python",
   "nbconvert_exporter": "python",
   "pygments_lexer": "ipython3",
   "version": "3.6.10"
  }
 },
 "nbformat": 4,
 "nbformat_minor": 4
}
