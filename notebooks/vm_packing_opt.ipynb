{
 "cells": [
  {
   "cell_type": "markdown",
   "metadata": {},
   "source": [
    "# 2-D Bin Packing\n",
    "\n",
    "The algorithm we'll be implementing is from [Bansal et al. (2014)](https://pdfs.semanticscholar.org/8e28/d9f9b90825660c57bab99a6ad7ec1d22d755.pdf). This algorithm is given in section 4 of the paper and yields a 1.5-approximation using rounding. I'll see if it's applicable to this set up.\n",
    "\n",
    "## Algorithm\n",
    "\n",
    "Input: set of items $i \\in I$, where each item $i$ has two dimensions defined by $j$ and $k$ (compute and memory). \n",
    "\n",
    "1. Guess the optimum by trying all values between $1$ and $n$.\n",
    "2. For each guessed value of Opt, do:\n",
    "\n",
    "    a. Compute $\\delta$ to classify values and pack medium VM's using Next Fit Decreasing Height (NFDH).\n",
    "    \n",
    "    b. Enumerate over all sizes that are rounded to and for each size the number of items that are rounded to that size, of the set of big, long, wide rectangles and the set of wide and long containers. **Map width to compute and height to memory.**\n",
    "    \n",
    "    c. For each guess, do Packing:\n",
    "        - Assign big rectangles by solving flow network with the algorithm of Dinic.\n",
    "        - Do greedy assignment of long and wide rectangles into $O(1)$ groups.\n",
    "        - Pack $0(1)$ number of groups of long and wide rectangles into containers by brute force.\n",
    "        - Pack the small rectangels using NFDH.\n",
    "        - Pack $O(1)$ types of containers and $O(1)$ types of big rectangles using brute force.\n",
    "        \n",
    "3. Return a feasible packing."
   ]
  },
  {
   "cell_type": "code",
   "execution_count": 12,
   "metadata": {},
   "outputs": [],
   "source": [
    "import or_gym\n",
    "import numpy as np\n",
    "import matplotlib.pyplot as plt\n",
    "import copy\n",
    "from pyomo.environ import *\n",
    "from pyomo.opt import SolverFactory\n",
    "import time\n",
    "%matplotlib inline\n",
    "plt.style.use('cmu_paper')"
   ]
  },
  {
   "cell_type": "code",
   "execution_count": 24,
   "metadata": {},
   "outputs": [],
   "source": [
    "env = or_gym.make('VMPacking-v0')"
   ]
  },
  {
   "cell_type": "code",
   "execution_count": 25,
   "metadata": {},
   "outputs": [
    {
     "data": {
      "text/plain": [
       "{'action_mask': array([1., 1., 1., 1., 1., 1., 1., 1., 1., 1., 1., 1., 1., 1., 1., 1., 1.,\n",
       "        1., 1., 1., 1., 1., 1., 1., 1., 1., 1., 1., 1., 1., 1., 1., 1., 1.,\n",
       "        1., 1., 1., 1., 1., 1., 1., 1., 1., 1., 1., 1., 1., 1., 1., 1.]),\n",
       " 'avail_actions': array([1., 1., 1., 1., 1., 1., 1., 1., 1., 1., 1., 1., 1., 1., 1., 1., 1.,\n",
       "        1., 1., 1., 1., 1., 1., 1., 1., 1., 1., 1., 1., 1., 1., 1., 1., 1.,\n",
       "        1., 1., 1., 1., 1., 1., 1., 1., 1., 1., 1., 1., 1., 1., 1., 1.]),\n",
       " 'state': array([[0.        , 0.        , 0.        ],\n",
       "        [0.        , 0.        , 0.        ],\n",
       "        [0.        , 0.        , 0.        ],\n",
       "        [0.        , 0.        , 0.        ],\n",
       "        [0.        , 0.        , 0.        ],\n",
       "        [0.        , 0.        , 0.        ],\n",
       "        [0.        , 0.        , 0.        ],\n",
       "        [0.        , 0.        , 0.        ],\n",
       "        [0.        , 0.        , 0.        ],\n",
       "        [0.        , 0.        , 0.        ],\n",
       "        [0.        , 0.        , 0.        ],\n",
       "        [0.        , 0.        , 0.        ],\n",
       "        [0.        , 0.        , 0.        ],\n",
       "        [0.        , 0.        , 0.        ],\n",
       "        [0.        , 0.        , 0.        ],\n",
       "        [0.        , 0.        , 0.        ],\n",
       "        [0.        , 0.        , 0.        ],\n",
       "        [0.        , 0.        , 0.        ],\n",
       "        [0.        , 0.        , 0.        ],\n",
       "        [0.        , 0.        , 0.        ],\n",
       "        [0.        , 0.        , 0.        ],\n",
       "        [0.        , 0.        , 0.        ],\n",
       "        [0.        , 0.        , 0.        ],\n",
       "        [0.        , 0.        , 0.        ],\n",
       "        [0.        , 0.        , 0.        ],\n",
       "        [0.        , 0.        , 0.        ],\n",
       "        [0.        , 0.        , 0.        ],\n",
       "        [0.        , 0.        , 0.        ],\n",
       "        [0.        , 0.        , 0.        ],\n",
       "        [0.        , 0.        , 0.        ],\n",
       "        [0.        , 0.        , 0.        ],\n",
       "        [0.        , 0.        , 0.        ],\n",
       "        [0.        , 0.        , 0.        ],\n",
       "        [0.        , 0.        , 0.        ],\n",
       "        [0.        , 0.        , 0.        ],\n",
       "        [0.        , 0.        , 0.        ],\n",
       "        [0.        , 0.        , 0.        ],\n",
       "        [0.        , 0.        , 0.        ],\n",
       "        [0.        , 0.        , 0.        ],\n",
       "        [0.        , 0.        , 0.        ],\n",
       "        [0.        , 0.        , 0.        ],\n",
       "        [0.        , 0.        , 0.        ],\n",
       "        [0.        , 0.        , 0.        ],\n",
       "        [0.        , 0.        , 0.        ],\n",
       "        [0.        , 0.        , 0.        ],\n",
       "        [0.        , 0.        , 0.        ],\n",
       "        [0.        , 0.        , 0.        ],\n",
       "        [0.        , 0.        , 0.        ],\n",
       "        [0.        , 0.        , 0.        ],\n",
       "        [0.        , 0.        , 0.        ],\n",
       "        [0.        , 0.14314996, 0.02857143]])}"
      ]
     },
     "execution_count": 25,
     "metadata": {},
     "output_type": "execute_result"
    }
   ],
   "source": [
    "env.reset()"
   ]
  },
  {
   "cell_type": "code",
   "execution_count": 28,
   "metadata": {},
   "outputs": [],
   "source": [
    "state = env.reset()['state']\n",
    "s_bins = state[:-1]\n",
    "s_item = state[-1]"
   ]
  },
  {
   "cell_type": "code",
   "execution_count": 37,
   "metadata": {},
   "outputs": [],
   "source": [
    "# First fit: Pack item into lowest current bin where it fits, else into a new bin\n",
    "def first_fit(state):\n",
    "    s_bins, s_items = state[:-1], state[-1, 1:]\n",
    "    action = None\n",
    "    open_bins = np.where(s_bins[:,0]==1)[0]\n",
    "    if len(open_bins) < 1:\n",
    "        # Open first bin for item\n",
    "        action = 0\n",
    "    else:\n",
    "        # Check each bin until one is found to fit the item\n",
    "        for b in open_bins:\n",
    "            if all(s_bins[b, [1, 2]] + s_items <= 1):\n",
    "                action = b\n",
    "        if action is None:\n",
    "            action = np.max(open_bins) + 1\n",
    "    return action\n",
    "\n",
    "# Next fit: Pack item into current bin, else into a new bin\n",
    "def next_fit(state):\n",
    "    s_bins, s_items = state[:-1], state[-1, 1:]\n",
    "    action = None\n",
    "    current_bin = np.where(s_bins[:,0]==1)[0]\n",
    "    if len(current_bin) < 1:\n",
    "        # Open first bin\n",
    "        action = 0\n",
    "    else:\n",
    "        # Check if it fits into current bin\n",
    "        b = current_bin[-1]\n",
    "        if all(s_bins[b, [1, 2]] + s_items <= 1):\n",
    "            action = b\n",
    "        else:\n",
    "            action = b + 1\n",
    "    return action    "
   ]
  },
  {
   "cell_type": "code",
   "execution_count": 38,
   "metadata": {},
   "outputs": [],
   "source": [
    "state = env.reset()['state']\n",
    "done = False\n",
    "rewards, actions, items = [], [], []\n",
    "while done == False:\n",
    "    items.append(state[-1])\n",
    "    action = first_fit(state)\n",
    "    state_dict, reward, done, _ = env.step(action)\n",
    "    state = state_dict['state'].copy()\n",
    "    actions.append(action)\n",
    "    rewards.append(reward)"
   ]
  },
  {
   "cell_type": "code",
   "execution_count": 40,
   "metadata": {},
   "outputs": [],
   "source": [
    "# Average FF and NF\n",
    "algos = ['FF']\n",
    "algo_rewards = {}\n",
    "N = 100\n",
    "for a in algos:\n",
    "    algo_rewards[a] = []\n",
    "    for i in range(N):\n",
    "        state = env.reset()['state']\n",
    "        done = False\n",
    "        rewards = []\n",
    "        while done == False:\n",
    "            if a == 'FF':\n",
    "                action = first_fit(state)\n",
    "#             elif a == 'NF':\n",
    "#                 continue\n",
    "#                 action = next_fit(state)\n",
    "            state_dict, reward, done, _ = env.step(action)\n",
    "            state = state_dict['state'].copy()\n",
    "            rewards.append(reward)\n",
    "        algo_rewards[a].append(sum(rewards))\n",
    "    algo_rewards[a] = np.array(algo_rewards[a])"
   ]
  },
  {
   "cell_type": "code",
   "execution_count": 41,
   "metadata": {},
   "outputs": [
    {
     "data": {
      "image/png": "[encoded data removed]",
      "text/plain": [
       "<Figure size 864x576 with 1 Axes>"
      ]
     },
     "metadata": {},
     "output_type": "display_data"
    }
   ],
   "source": [
    "plt.figure(figsize=(12,8))\n",
    "# plt.hist(algo_rewards['NF'], label='Next Fit')\n",
    "# plt.axvline(algo_rewards['NF'].mean(), label='NF Mean')\n",
    "plt.hist(algo_rewards['FF'], label='First Fit')\n",
    "plt.axvline(algo_rewards['FF'].mean(), label='FF Mean', c='r')\n",
    "plt.legend()\n",
    "plt.show()"
   ]
  },
  {
   "cell_type": "markdown",
   "metadata": {},
   "source": [
    "## MIP for VM Packing"
   ]
  },
  {
   "cell_type": "code",
   "execution_count": 3,
   "metadata": {},
   "outputs": [
    {
     "name": "stdout",
     "output_type": "stream",
     "text": [
      "72\n"
     ]
    }
   ],
   "source": [
    "env.step_limit = 5\n",
    "env.n_pms = 10\n",
    "env = or_gym.make('VMPacking-v0')\n",
    "env.reset()\n",
    "\n",
    "print(env.step_limit)"
   ]
  },
  {
   "cell_type": "code",
   "execution_count": 4,
   "metadata": {
    "scrolled": false
   },
   "outputs": [
    {
     "ename": "AttributeError",
     "evalue": "'VMPackingEnv' object has no attribute 'cpu_capacity'",
     "output_type": "error",
     "traceback": [
      "\u001b[0;31m---------------------------------------------------------------------------\u001b[0m",
      "\u001b[0;31mAttributeError\u001b[0m                            Traceback (most recent call last)",
      "\u001b[0;32m<ipython-input-4-beca08d53b4b>\u001b[0m in \u001b[0;36m<module>\u001b[0;34m\u001b[0m\n\u001b[1;32m     18\u001b[0m     initialize={i: env.step_limit - i for i in range(env.step_limit)})\n\u001b[1;32m     19\u001b[0m \u001b[0mmin_demand\u001b[0m \u001b[0;34m=\u001b[0m \u001b[0mmin\u001b[0m\u001b[0;34m(\u001b[0m\u001b[0mm\u001b[0m\u001b[0;34m.\u001b[0m\u001b[0mmem_demand\u001b[0m\u001b[0;34m[\u001b[0m\u001b[0mt\u001b[0m\u001b[0;34m]\u001b[0m \u001b[0;32mfor\u001b[0m \u001b[0mt\u001b[0m \u001b[0;32min\u001b[0m \u001b[0mm\u001b[0m\u001b[0;34m.\u001b[0m\u001b[0mt\u001b[0m\u001b[0;34m)\u001b[0m\u001b[0;34m\u001b[0m\u001b[0;34m\u001b[0m\u001b[0m\n\u001b[0;32m---> 20\u001b[0;31m \u001b[0mm\u001b[0m\u001b[0;34m.\u001b[0m\u001b[0mcpu_limit\u001b[0m \u001b[0;34m=\u001b[0m \u001b[0menv\u001b[0m\u001b[0;34m.\u001b[0m\u001b[0mcpu_capacity\u001b[0m\u001b[0;34m\u001b[0m\u001b[0;34m\u001b[0m\u001b[0m\n\u001b[0m\u001b[1;32m     21\u001b[0m \u001b[0mm\u001b[0m\u001b[0;34m.\u001b[0m\u001b[0mmem_limit\u001b[0m \u001b[0;34m=\u001b[0m \u001b[0menv\u001b[0m\u001b[0;34m.\u001b[0m\u001b[0mmem_capacity\u001b[0m\u001b[0;34m\u001b[0m\u001b[0;34m\u001b[0m\u001b[0m\n\u001b[1;32m     22\u001b[0m \u001b[0;34m\u001b[0m\u001b[0m\n",
      "\u001b[0;31mAttributeError\u001b[0m: 'VMPackingEnv' object has no attribute 'cpu_capacity'"
     ]
    }
   ],
   "source": [
    "env.step_limit = 5\n",
    "env.n_pms = 10\n",
    "%timeit\n",
    "env = or_gym.make('VMPacking-v0')\n",
    "env.step_limit = 20\n",
    "env.reset()\n",
    "# env.demand = fixed_demand.copy()\n",
    "m = ConcreteModel()\n",
    "\n",
    "m.n = Set(initialize=[i for i in range(env.n_pms)]) # Num Physical Machines\n",
    "m.v = Set(initialize=[i for i in range(env.step_limit)]) # Num Virtual Machines\n",
    "m.t = Set(initialize=[i for i in range(env.step_limit)])\n",
    "m.cpu_demand = Param(m.t,\n",
    "    initialize={i: j[0] for i, j in enumerate(env.demand)})\n",
    "m.mem_demand = Param(m.t,\n",
    "    initialize={i: j[1] for i, j in enumerate(env.demand)})\n",
    "m.durations = Param(m.v,\n",
    "    initialize={i: env.step_limit - i for i in range(env.step_limit)})\n",
    "min_demand = min(m.mem_demand[t] for t in m.t)\n",
    "m.cpu_limit = env.cpu_capacity\n",
    "m.mem_limit = env.mem_capacity\n",
    "\n",
    "m.x = Var(m.n, m.v, m.t, within=Binary) # Assign VM's to machines\n",
    "m.y = Var(m.n, m.v, within=Binary)\n",
    "m.z = Var(m.n, m.t, within=Binary) # Number of Machine\n",
    "\n",
    "@m.Constraint(m.n, m.t)\n",
    "def cpu_constraint(m, n, t):\n",
    "    return sum(m.x[n, v, t] * m.cpu_demand[v] \n",
    "               for v in m.v) - m.cpu_limit <= 0\n",
    "\n",
    "@m.Constraint(m.n, m.t)\n",
    "def mem_constraint(m, n, t):\n",
    "    return sum(m.x[n, v, t] * m.mem_demand[v]\n",
    "               for v in m.v) - m.mem_limit <= 0\n",
    "\n",
    "@m.Constraint(m.n, m.v)\n",
    "def duration_constraint(m, n, v):\n",
    "    return sum(m.x[n, v, t] \n",
    "            for t in m.t)- m.y[n, v] * m.durations[v] == 0\n",
    "\n",
    "@m.Constraint(m.v)\n",
    "def vm_machine_assignment(m, v):\n",
    "    return sum(m.y[n, v] for n in m.n) == 1\n",
    "\n",
    "@m.Constraint(m.v, m.t)\n",
    "def assignment_constraint(m, v, t):\n",
    "    if t >= v:\n",
    "        return sum(m.x[n, v, t] for n in m.n) <= 1\n",
    "    else:\n",
    "        return sum(m.x[n, v, t] for n in m.n) == 0\n",
    "    \n",
    "@m.Constraint(m.n, m.v, m.t)\n",
    "def time_constraint(m, n, v, t):\n",
    "    return (m.z[n, t] - m.x[n, v, t]) >= 0\n",
    "    \n",
    "# Maximize PM Packing\n",
    "# m.obj = Objective(expr=(\n",
    "#     sum(m.y[n, v] for v in m.v for n in m.n)),\n",
    "#     sense=minimize)\n",
    "# m.obj = Objective(expr=(\n",
    "#     sum(m.x[n, v, t]\n",
    "#         for n in m.n\n",
    "#         for v in m.v\n",
    "#         for t in m.t)),\n",
    "#     sense=minimize)\n",
    "m.obj = Objective(expr=(\n",
    "    sum(sum(m.x[n, v, t] * (m.cpu_demand[v] + m.mem_demand[v])\n",
    "        for v in m.v) - 2 * m.z[n, t]\n",
    "        for n in m.n\n",
    "        for t in m.t)),\n",
    "    sense=maximize)\n",
    "\n",
    "solver = SolverFactory('gurobi')\n",
    "solver.options['MIPGap'] = 0.05\n",
    "solver.options['Threads'] = 4\n",
    "# solver.options\n",
    "results = solver.solve(m, tee=True)\n",
    "\n",
    "plan = []\n",
    "for v in m.v:\n",
    "    for t in m.t:\n",
    "        if v == t:\n",
    "            for n in m.n:\n",
    "                if m.x[n, v, t].value is None:\n",
    "                    continue\n",
    "                if m.x[n, v, t].value > 0:\n",
    "                    plan.append([n, v, t])\n",
    "\n",
    "plan = np.vstack(plan)\n",
    "print(plan)\n",
    "rewards = []\n",
    "actions = []\n",
    "states = []\n",
    "done = False\n",
    "for a in plan:\n",
    "    t = a[1]\n",
    "    action = a[0]\n",
    "    state, r, done, _ = env.step(action)\n",
    "    states.append(copy.deepcopy(state))\n",
    "    actions.append(action)\n",
    "    rewards.append(r)\n",
    "    if done:\n",
    "        print(sum(rewards), len(rewards), t)\n",
    "        break\n",
    "        \n",
    "print(m.obj.expr())"
   ]
  },
  {
   "cell_type": "code",
   "execution_count": 8,
   "metadata": {},
   "outputs": [
    {
     "data": {
      "text/plain": [
       "[<matplotlib.lines.Line2D at 0x7f934c79b2b0>]"
      ]
     },
     "execution_count": 8,
     "metadata": {},
     "output_type": "execute_result"
    },
    {
     "data": {
      "image/png": "[encoded data removed]",
      "text/plain": [
       "<Figure size 432x288 with 1 Axes>"
      ]
     },
     "metadata": {
      "needs_background": "light"
     },
     "output_type": "display_data"
    }
   ],
   "source": [
    "plt.plot(rewards)\n",
    "plt.plot(np.cumsum(rewards))"
   ]
  },
  {
   "cell_type": "code",
   "execution_count": 5,
   "metadata": {},
   "outputs": [],
   "source": [
    "def test_env(env, n_episodes, print_output=True):\n",
    "    rewards, eps, eps_total = [], [], []\n",
    "    training = True\n",
    "    batch = 0\n",
    "    t_start = time.time()\n",
    "    while training:\n",
    "        t_batch = time.time()\n",
    "        results = trainer.train()\n",
    "        rewards.append(results['episode_reward_mean'])\n",
    "        eps.append(results['episodes_this_iter'])\n",
    "        eps_total.append(results['episodes_total'])\n",
    "        batch += 1\n",
    "        t_end = time.time()\n",
    "        if sum(eps) >= n_episodes:\n",
    "            training = False\n",
    "            break\n",
    "        if batch % 10 == 0 and print_output:\n",
    "            t = t_end - t_batch\n",
    "            t_tot = t_end - t_start\n",
    "            print(\"\\rEpisode: {}\\tMean Rewards: {:.1f}\\tEpisodes/sec: {:.2f}\\tTotal Time: {:.1f}s\".format(\n",
    "                eps_total[-1], rewards[-1], eps[-1]/t, t_tot), end=\"\")\n",
    "            \n",
    "    print(\"\\nTotal Training Time: {:.1f}s\\t\".format(t_end - t_start))\n",
    "    return trainer, results"
   ]
  },
  {
   "cell_type": "code",
   "execution_count": 6,
   "metadata": {},
   "outputs": [],
   "source": [
    "from or_gym.algos.rl_utils import *\n",
    "import ray\n",
    "from ray.rllib.agents import ppo\n",
    "import time"
   ]
  },
  {
   "cell_type": "code",
   "execution_count": 7,
   "metadata": {
    "scrolled": false
   },
   "outputs": [
    {
     "name": "stderr",
     "output_type": "stream",
     "text": [
      "2020-04-13 17:48:32,484\tERROR worker.py:679 -- Calling ray.init() again after it has already been called.\n",
      "2020-04-13 17:48:35,996\tWARNING util.py:45 -- Install gputil for GPU system monitoring.\n"
     ]
    },
    {
     "name": "stdout",
     "output_type": "stream",
     "text": [
      "Testing VMPacking-v0\n",
      "Episode: 19384\tMean Rewards: -401.3\tEpisodes/sec: 31.76s\tTotal Time: 585.2sTotal Training Time: 604.1s\t\n"
     ]
    }
   ],
   "source": [
    "env_name = 'VMPacking-v0'\n",
    "n_episodes = 20000\n",
    "print_output = True\n",
    "ray.init(ignore_reinit_error=True)\n",
    "trainer = ppo.PPOTrainer(env=create_env(env_name),\n",
    "    config={\n",
    "    \"env_config\": {\n",
    "        \"reuse_actors\":True},\n",
    "    \"vf_clip_param\": 10000, # Set to high number to avoid any warnings\n",
    "    \"model\": {\n",
    "        \"fcnet_activation\": \"elu\",\n",
    "        \"fcnet_hiddens\": [128, 128, 128]}\n",
    "    })\n",
    "env = gym.make(env_name)\n",
    "print('Testing {}'.format(env_name))\n",
    "trainer, results = test_env(env, n_episodes, print_output)"
   ]
  },
  {
   "cell_type": "code",
   "execution_count": 8,
   "metadata": {},
   "outputs": [
    {
     "data": {
      "text/plain": [
       "{'episode_reward_max': -207.9849976284188,\n",
       " 'episode_reward_min': -1281.3886322041612,\n",
       " 'episode_reward_mean': -485.21976611436634,\n",
       " 'episode_len_mean': 18.830985915492956,\n",
       " 'episodes_this_iter': 213,\n",
       " 'policy_reward_min': {},\n",
       " 'policy_reward_max': {},\n",
       " 'policy_reward_mean': {},\n",
       " 'custom_metrics': {},\n",
       " 'sampler_perf': {'mean_env_wait_ms': 0.11419706916459613,\n",
       "  'mean_processing_ms': 0.20324339069410527,\n",
       "  'mean_inference_ms': 0.7420270892431968},\n",
       " 'off_policy_estimator': {},\n",
       " 'info': {'num_steps_trained': 369024,\n",
       "  'num_steps_sampled': 372000,\n",
       "  'sample_time_ms': 2165.83,\n",
       "  'load_time_ms': 6.247,\n",
       "  'grad_time_ms': 4216.799,\n",
       "  'update_time_ms': 7.276,\n",
       "  'learner': {'default_policy': {'cur_kl_coeff': 1.0125000476837158,\n",
       "    'cur_lr': 4.999999873689376e-05,\n",
       "    'total_loss': 61899.156,\n",
       "    'policy_loss': -0.12169668,\n",
       "    'vf_loss': 61899.258,\n",
       "    'vf_explained_var': 0.37244275,\n",
       "    'kl': 0.018940274,\n",
       "    'entropy': 3.2505357,\n",
       "    'entropy_coeff': 0.0}}},\n",
       " 'timesteps_this_iter': 4000,\n",
       " 'done': False,\n",
       " 'timesteps_total': 372000,\n",
       " 'episodes_total': 20018,\n",
       " 'training_iteration': 93,\n",
       " 'experiment_id': 'a6b9eadfc8354b6ab179c3e2cb189557',\n",
       " 'date': '2020-04-13_17-58-40',\n",
       " 'timestamp': 1586818720,\n",
       " 'time_this_iter_s': 6.2179930210113525,\n",
       " 'time_total_s': 603.584148645401,\n",
       " 'pid': 10768,\n",
       " 'hostname': 'ubuntu',\n",
       " 'node_ip': '192.168.0.11',\n",
       " 'config': {'num_workers': 2,\n",
       "  'num_envs_per_worker': 1,\n",
       "  'sample_batch_size': 200,\n",
       "  'batch_mode': 'truncate_episodes',\n",
       "  'num_gpus': 0,\n",
       "  'train_batch_size': 4000,\n",
       "  'model': {'conv_filters': None,\n",
       "   'conv_activation': 'relu',\n",
       "   'fcnet_activation': 'elu',\n",
       "   'fcnet_hiddens': [128, 128, 128],\n",
       "   'free_log_std': False,\n",
       "   'no_final_linear': False,\n",
       "   'vf_share_layers': True,\n",
       "   'use_lstm': False,\n",
       "   'max_seq_len': 20,\n",
       "   'lstm_cell_size': 256,\n",
       "   'lstm_use_prev_action_reward': False,\n",
       "   'state_shape': None,\n",
       "   'framestack': True,\n",
       "   'dim': 84,\n",
       "   'grayscale': False,\n",
       "   'zero_mean': True,\n",
       "   'custom_preprocessor': None,\n",
       "   'custom_model': None,\n",
       "   'custom_action_dist': None,\n",
       "   'custom_options': {}},\n",
       "  'optimizer': {},\n",
       "  'gamma': 0.99,\n",
       "  'horizon': None,\n",
       "  'soft_horizon': False,\n",
       "  'no_done_at_end': False,\n",
       "  'env_config': {'reuse_actors': True},\n",
       "  'env': 'VMPackingEnv',\n",
       "  'clip_rewards': None,\n",
       "  'clip_actions': True,\n",
       "  'preprocessor_pref': 'deepmind',\n",
       "  'lr': 5e-05,\n",
       "  'monitor': False,\n",
       "  'log_level': 'WARN',\n",
       "  'callbacks': {'on_episode_start': None,\n",
       "   'on_episode_step': None,\n",
       "   'on_episode_end': None,\n",
       "   'on_sample_end': None,\n",
       "   'on_train_result': None,\n",
       "   'on_postprocess_traj': None},\n",
       "  'ignore_worker_failures': False,\n",
       "  'log_sys_usage': True,\n",
       "  'eager': False,\n",
       "  'eager_tracing': False,\n",
       "  'no_eager_on_workers': False,\n",
       "  'evaluation_interval': None,\n",
       "  'evaluation_num_episodes': 10,\n",
       "  'evaluation_config': {},\n",
       "  'sample_async': False,\n",
       "  'observation_filter': 'NoFilter',\n",
       "  'synchronize_filters': True,\n",
       "  'tf_session_args': {'intra_op_parallelism_threads': 2,\n",
       "   'inter_op_parallelism_threads': 2,\n",
       "   'gpu_options': {'allow_growth': True},\n",
       "   'log_device_placement': False,\n",
       "   'device_count': {'CPU': 1},\n",
       "   'allow_soft_placement': True},\n",
       "  'local_tf_session_args': {'intra_op_parallelism_threads': 8,\n",
       "   'inter_op_parallelism_threads': 8},\n",
       "  'compress_observations': False,\n",
       "  'collect_metrics_timeout': 180,\n",
       "  'metrics_smoothing_episodes': 100,\n",
       "  'remote_worker_envs': False,\n",
       "  'remote_env_batch_wait_ms': 0,\n",
       "  'min_iter_time_s': 0,\n",
       "  'timesteps_per_iteration': 0,\n",
       "  'seed': None,\n",
       "  'num_cpus_per_worker': 1,\n",
       "  'num_gpus_per_worker': 0,\n",
       "  'custom_resources_per_worker': {},\n",
       "  'num_cpus_for_driver': 1,\n",
       "  'memory': 0,\n",
       "  'object_store_memory': 0,\n",
       "  'memory_per_worker': 0,\n",
       "  'object_store_memory_per_worker': 0,\n",
       "  'input': 'sampler',\n",
       "  'input_evaluation': ['is', 'wis'],\n",
       "  'postprocess_inputs': False,\n",
       "  'shuffle_buffer_size': 0,\n",
       "  'output': None,\n",
       "  'output_compress_columns': ['obs', 'new_obs'],\n",
       "  'output_max_file_size': 67108864,\n",
       "  'multiagent': {'policies': {},\n",
       "   'policy_mapping_fn': None,\n",
       "   'policies_to_train': None},\n",
       "  'use_gae': True,\n",
       "  'lambda': 1.0,\n",
       "  'kl_coeff': 0.2,\n",
       "  'sgd_minibatch_size': 128,\n",
       "  'shuffle_sequences': True,\n",
       "  'num_sgd_iter': 30,\n",
       "  'lr_schedule': None,\n",
       "  'vf_share_layers': False,\n",
       "  'vf_loss_coeff': 1.0,\n",
       "  'entropy_coeff': 0.0,\n",
       "  'entropy_coeff_schedule': None,\n",
       "  'clip_param': 0.3,\n",
       "  'vf_clip_param': 10000,\n",
       "  'grad_clip': None,\n",
       "  'kl_target': 0.01,\n",
       "  'simple_optimizer': False},\n",
       " 'time_since_restore': 603.584148645401,\n",
       " 'timesteps_since_restore': 372000,\n",
       " 'iterations_since_restore': 93,\n",
       " 'perf': {'cpu_util_percent': 49.07777777777778, 'ram_util_percent': 38.3},\n",
       " 'num_healthy_workers': 2}"
      ]
     },
     "execution_count": 8,
     "metadata": {},
     "output_type": "execute_result"
    }
   ],
   "source": [
    "results"
   ]
  },
  {
   "cell_type": "code",
   "execution_count": 52,
   "metadata": {},
   "outputs": [
    {
     "data": {
      "image/png": "[encoded data removed]",
      "text/plain": [
       "<Figure size 864x864 with 2 Axes>"
      ]
     },
     "metadata": {
      "needs_background": "light"
     },
     "output_type": "display_data"
    }
   ],
   "source": [
    "colors = plt.rcParams['axes.prop_cycle'].by_key()['color']\n",
    "fig, ax = plt.subplots(2, 1, sharex=True, figsize=(12,12))\n",
    "for idx in m.x:\n",
    "    if m.x[idx].value > 0:\n",
    "        start = idx[-1]\n",
    "        ax[1].barh(idx[0], 1, left=start, color=colors[idx[1]])\n",
    "        \n",
    "ax[1].set_ylabel('Machine')\n",
    "ax[1].set_xlabel('Time Period')\n",
    "ax[1].set_title('MIP Schedule')\n",
    "ax[1].set_ylim([-1, 10])\n",
    "\n",
    "for i, a in enumerate(actions):\n",
    "    ax[0].barh(a, env.step_limit - i, left=i, color=colors[i], label='VM {}'.format(i))\n",
    "    \n",
    "ax[0].set_title('Environment')\n",
    "ax[0].legend()\n",
    "ax[0].set_ylim([-1, 10])\n",
    "plt.show()"
   ]
  },
  {
   "cell_type": "code",
   "execution_count": 398,
   "metadata": {},
   "outputs": [
    {
     "data": {
      "text/plain": [
       "4.0"
      ]
     },
     "execution_count": 398,
     "metadata": {},
     "output_type": "execute_result"
    }
   ],
   "source": [
    "env.state[0][:, 0].sum()"
   ]
  },
  {
   "cell_type": "code",
   "execution_count": 36,
   "metadata": {},
   "outputs": [
    {
     "name": "stdout",
     "output_type": "stream",
     "text": [
      "[1]\n",
      "Order 0 appears 5 times\n",
      "[0 1]\n",
      "Order 1 appears 4 times\n",
      "[0 1 1]\n",
      "Order 2 appears 3 times\n",
      "[0 1 1 1]\n",
      "Order 3 appears 2 times\n",
      "[0 1 1 1 1]\n",
      "Order 4 appears 1 times\n"
     ]
    }
   ],
   "source": [
    "assignments = np.array([i for i in m.x if m.x[i].value > 0])\n",
    "for i in range(env.step_limit):\n",
    "    machines = assignments[np.where(assignments[:, 2]==i)[0], 0]\n",
    "    print(machines)\n",
    "    print(\"Order {} appears {} times\".format(i, len(np.where(assignments[:, 1]==i)[0])))"
   ]
  },
  {
   "cell_type": "code",
   "execution_count": 37,
   "metadata": {},
   "outputs": [
    {
     "data": {
      "text/plain": [
       "array([[0, 1, 1],\n",
       "       [1, 0, 0],\n",
       "       [1, 2, 2],\n",
       "       [1, 3, 3],\n",
       "       [1, 4, 4]])"
      ]
     },
     "execution_count": 37,
     "metadata": {},
     "output_type": "execute_result"
    }
   ],
   "source": [
    "assignments[np.where(assignments[:, 1]==assignments[:, 2])[0]]"
   ]
  },
  {
   "cell_type": "code",
   "execution_count": 38,
   "metadata": {},
   "outputs": [
    {
     "name": "stdout",
     "output_type": "stream",
     "text": [
      "True\n"
     ]
    },
    {
     "data": {
      "text/plain": [
       "-13.314997412319817"
      ]
     },
     "execution_count": 38,
     "metadata": {},
     "output_type": "execute_result"
    }
   ],
   "source": [
    "# Calc rewards from env states\n",
    "_rewards = []\n",
    "for s in states:\n",
    "    pm_state = s[0].copy()\n",
    "    _r = np.sum(pm_state[:, 0] * (pm_state[:, 1] - 1 + pm_state[:, 2] - 1))\n",
    "    _rewards.append(_r)\n",
    "    \n",
    "print(sum(rewards) == sum(_rewards))\n",
    "sum(_rewards)"
   ]
  },
  {
   "cell_type": "code",
   "execution_count": 39,
   "metadata": {},
   "outputs": [
    {
     "data": {
      "text/plain": [
       "-2.354107317715701"
      ]
     },
     "execution_count": 39,
     "metadata": {},
     "output_type": "execute_result"
    }
   ],
   "source": [
    "sum(pm_state[:, 0] * (pm_state[:, 1:].sum(axis=1) - 2))"
   ]
  },
  {
   "cell_type": "code",
   "execution_count": 40,
   "metadata": {},
   "outputs": [
    {
     "data": {
      "text/plain": [
       "array([0.24194459, 1.40394809, 0.        , 0.        , 0.        ,\n",
       "       0.        , 0.        , 0.        , 0.        , 0.        ])"
      ]
     },
     "execution_count": 40,
     "metadata": {},
     "output_type": "execute_result"
    }
   ],
   "source": [
    "pm_state[:, 1] + pm_state[:, 2]"
   ]
  },
  {
   "cell_type": "code",
   "execution_count": 41,
   "metadata": {},
   "outputs": [
    {
     "data": {
      "text/plain": [
       "[-1.7178341169347118,\n",
       " -3.4758895265631686,\n",
       " -3.206147101794529,\n",
       " -2.561019349311707,\n",
       " -2.3541073177157013]"
      ]
     },
     "execution_count": 41,
     "metadata": {},
     "output_type": "execute_result"
    }
   ],
   "source": [
    "rewards"
   ]
  },
  {
   "cell_type": "code",
   "execution_count": 42,
   "metadata": {},
   "outputs": [
    {
     "data": {
      "text/plain": [
       "[-1.7178341169347118,\n",
       " -3.4758895265631686,\n",
       " -3.206147101794529,\n",
       " -2.561019349311707,\n",
       " -2.3541073177157013]"
      ]
     },
     "execution_count": 42,
     "metadata": {},
     "output_type": "execute_result"
    }
   ],
   "source": [
    "_rewards"
   ]
  },
  {
   "cell_type": "code",
   "execution_count": 45,
   "metadata": {},
   "outputs": [
    {
     "data": {
      "text/plain": [
       "array([-1.75805541, -1.44809169, -2.        , -2.        , -2.        ,\n",
       "       -2.        , -2.        , -2.        , -2.        , -2.        ])"
      ]
     },
     "execution_count": 45,
     "metadata": {},
     "output_type": "execute_result"
    }
   ],
   "source": [
    "t = 2\n",
    "rew = np.array([sum(m.x[n, v, t].value * (m.cpu_demand[v] + m.mem_demand[v])\n",
    "                for v in m.v) - 2\n",
    "                for n in m.n])\n",
    "rew"
   ]
  },
  {
   "cell_type": "code",
   "execution_count": 375,
   "metadata": {},
   "outputs": [
    {
     "name": "stdout",
     "output_type": "stream",
     "text": [
      "-0.9515527922119307 2 1 2\n",
      "-1.8136776514843778 5 2 2\n",
      "-1.7295896982947734 8 0 2\n"
     ]
    }
   ],
   "source": [
    "for n in m.n:\n",
    "    for v in m.v:\n",
    "        if m.x[n, v, t].value > 0:\n",
    "            val = m.x[n, v, t].value * (m.cpu_demand[v] + m.mem_demand[v] - 2)\n",
    "            print(val, n, v, t)"
   ]
  },
  {
   "cell_type": "code",
   "execution_count": 376,
   "metadata": {},
   "outputs": [
    {
     "name": "stdout",
     "output_type": "stream",
     "text": [
      "False\n"
     ]
    },
    {
     "data": {
      "text/plain": [
       "-43.06453278147045"
      ]
     },
     "execution_count": 376,
     "metadata": {},
     "output_type": "execute_result"
    }
   ],
   "source": [
    "o_rews = []\n",
    "for t in m.t:\n",
    "    for n in m.n:\n",
    "        o_rew = sum(m.x[n, v, t].value * (m.cpu_demand[v] + m.mem_demand[v])\n",
    "                    for v in m.v) - sum(2 * m.y[n, v].value for v in m.v)\n",
    "        o_rews.append(o_rew)\n",
    "\n",
    "opt_rewards = sum(o_rews)\n",
    "\n",
    "print(sum(rewards) == opt_rewards)\n",
    "opt_rewards"
   ]
  },
  {
   "cell_type": "code",
   "execution_count": 345,
   "metadata": {},
   "outputs": [
    {
     "data": {
      "text/plain": [
       "-25.028200824223646"
      ]
     },
     "execution_count": 345,
     "metadata": {},
     "output_type": "execute_result"
    }
   ],
   "source": [
    "opt_rewards"
   ]
  },
  {
   "cell_type": "code",
   "execution_count": 377,
   "metadata": {},
   "outputs": [
    {
     "data": {
      "text/plain": [
       "-23.06453278147045"
      ]
     },
     "execution_count": 377,
     "metadata": {},
     "output_type": "execute_result"
    }
   ],
   "source": [
    "rew = np.array(sum([sum(m.x[n, v, t].value * (m.cpu_demand[v] - 1 + m.mem_demand[v] - 1) \n",
    "                for v in m.v \n",
    "                for n in m.n) \n",
    "                for t in m.t]))\n",
    "rew[rew!=0].sum()"
   ]
  },
  {
   "cell_type": "code",
   "execution_count": 324,
   "metadata": {},
   "outputs": [],
   "source": [
    "x_n = np.array([m.x[n, v, t].value for v in m.v for n in m.n for t in m.t]).reshape(max(m.n)+1, -1)"
   ]
  },
  {
   "cell_type": "markdown",
   "metadata": {},
   "source": [
    "# Online Optimization"
   ]
  },
  {
   "cell_type": "code",
   "execution_count": 3,
   "metadata": {},
   "outputs": [],
   "source": [
    "for i in range(env.step_limit):\n",
    "    action = env.action_space.sample()\n",
    "    s, r, done, _ = env.step(action)\n",
    "    if done:\n",
    "        break"
   ]
  },
  {
   "cell_type": "code",
   "execution_count": 58,
   "metadata": {},
   "outputs": [],
   "source": [
    "env.n_pms = 10\n",
    "_ = env.reset()"
   ]
  },
  {
   "cell_type": "code",
   "execution_count": 8,
   "metadata": {},
   "outputs": [],
   "source": [
    "def build_online_vm_opt(env):\n",
    "#     print(\"Solving from t={}\".format(env.step_count))\n",
    "    m = ConcreteModel()\n",
    "    \n",
    "    t0 = env.current_step\n",
    "    m.n = Set(initialize=[i for i in range(env.n_pms)]) # Num Physical Machines\n",
    "    # One new VM at each time step\n",
    "    m.v = Set(initialize=[v for v in range(t0+1)])\n",
    "    m.t = Set(initialize=[t for t in range(env.step_limit)])\n",
    "    \n",
    "    m.cpu_demand = Param(m.v,\n",
    "        initialize={i: j[1] for i, j in enumerate(env.demand[:t0+1])})\n",
    "    m.mem_demand = Param(m.v,\n",
    "        initialize={i: j[2] for i, j in enumerate(env.demand[:t0+1])})\n",
    "    m.durations = Param(m.v,\n",
    "        initialize={v: env.step_limit - v for v in m.v})\n",
    "    m.cpu_limit = env.cpu_capacity\n",
    "    m.mem_limit = env.mem_capacity\n",
    "\n",
    "    m.x = Var(m.n, m.v, m.t, within=Binary) # Assign VM's to machines\n",
    "    m.y = Var(m.n, m.v, within=Binary)\n",
    "    m.z = Var(m.n, m.t, within=Binary) # Number of Machine\n",
    "    \n",
    "    # Fix variables for pre-existing values\n",
    "    if t0 > 0:\n",
    "        for k in env.assignment:\n",
    "            n = env.assignment[k]\n",
    "            for t in m.t:\n",
    "                if t >= k:\n",
    "                    m.x[n, k, t].fix(1)\n",
    "                else:\n",
    "                    m.x[n, k, t].fix(0)\n",
    "            m.y[n, k].fix(1)\n",
    "        \n",
    "    @m.Constraint(m.n, m.t)\n",
    "    def cpu_constraint(m, n, t):\n",
    "        return sum(m.x[n, v, t] * m.cpu_demand[v] \n",
    "                   for v in m.v) - m.cpu_limit <= 0\n",
    "\n",
    "    @m.Constraint(m.n, m.t)\n",
    "    def mem_constraint(m, n, t):\n",
    "        return sum(m.x[n, v, t] * m.mem_demand[v]\n",
    "                   for v in m.v) - m.mem_limit <= 0\n",
    "\n",
    "    @m.Constraint(m.n, m.v)\n",
    "    def duration_constraint(m, n, v):\n",
    "        return sum(m.x[n, v, t] \n",
    "                for t in m.t)- m.y[n, v] * m.durations[v] == 0\n",
    "\n",
    "    @m.Constraint(m.v)\n",
    "    def vm_machine_assignment(m, v):\n",
    "        return sum(m.y[n, v] for n in m.n) == 1\n",
    "\n",
    "    @m.Constraint(m.v, m.t)\n",
    "    def assignment_constraint(m, v, t):\n",
    "        if t >= v:\n",
    "            return sum(m.x[n, v, t] for n in m.n) <= 1\n",
    "        else:\n",
    "            return sum(m.x[n, v, t] for n in m.n) == 0\n",
    "\n",
    "    @m.Constraint(m.n, m.v, m.t)\n",
    "    def time_constraint(m, n, v, t):\n",
    "        return (m.z[n, t] - m.x[n, v, t]) >= 0\n",
    "\n",
    "    # Maximize PM Packing\n",
    "    m.obj = Objective(expr=(\n",
    "        sum(sum(m.x[n, v, t] * (m.cpu_demand[v] + m.mem_demand[v])\n",
    "            for v in m.v) - 2 * m.z[n, t]\n",
    "            for n in m.n\n",
    "            for t in m.t)),\n",
    "        sense=maximize)\n",
    "    return m"
   ]
  },
  {
   "cell_type": "code",
   "execution_count": 108,
   "metadata": {},
   "outputs": [
    {
     "name": "stdout",
     "output_type": "stream",
     "text": [
      "Solving from t=1\n"
     ]
    }
   ],
   "source": [
    "print(\"Solving from t={}\".format(env.step_count))\n",
    "m = ConcreteModel()\n",
    "\n",
    "t0 = env.step_count # Current time\n",
    "m.n = Set(initialize=[i for i in range(env.n_pms)]) # Num Physical Machines\n",
    "# One new VM at each time step\n",
    "m.v = Set(initialize=[v for v in range(env.step_count+1)])\n",
    "m.t = Set(initialize=[t for t in range(env.step_limit)])\n",
    "\n",
    "m.cpu_demand = Param(m.v,\n",
    "    initialize={i: j[0] for i, j in enumerate(env.demand[:t0+1])})\n",
    "m.mem_demand = Param(m.v,\n",
    "    initialize={i: j[1] for i, j in enumerate(env.demand[:t0+1])})\n",
    "m.durations = Param(m.v,\n",
    "    initialize={v: env.step_limit - v for v in m.v})\n",
    "m.cpu_limit = env.cpu_capacity\n",
    "m.mem_limit = env.mem_capacity\n",
    "\n",
    "m.x = Var(m.n, m.v, m.t, within=Binary) # Assign VM's to machines\n",
    "m.y = Var(m.n, m.v, within=Binary)\n",
    "m.z = Var(m.n, m.t, within=Binary) # Number of Machine\n",
    "\n",
    "# Fix variables for pre-existing values\n",
    "if env.step_count > 0:\n",
    "    for k in env.assignments:\n",
    "        n = env.assignments[k]\n",
    "        for t in m.t:\n",
    "            if t >= k:\n",
    "#                 print('Fixing x({},{},{})=1'.format(n, k, t))\n",
    "                m.x[n, k, t].fix(1)\n",
    "                m.z[n, t].fix(1)\n",
    "            else:\n",
    "                m.x[n, k, t].fix(0)\n",
    "                m.z[n, t].fix(0)\n",
    "        m.y[n, k].fix(1)"
   ]
  },
  {
   "cell_type": "code",
   "execution_count": 111,
   "metadata": {},
   "outputs": [
    {
     "name": "stdout",
     "output_type": "stream",
     "text": [
      "Solving from t=1\n",
      "Read LP format model from file /tmp/tmpouo8k3ng.pyomo.lp\n",
      "Reading time = 0.00 seconds\n",
      "x621: 863 rows, 580 columns, 2299 nonzeros\n",
      "Optimize a model with 863 rows, 580 columns and 2299 nonzeros\n",
      "Variable types: 1 continuous, 579 integer (579 binary)\n",
      "Coefficient statistics:\n",
      "  Matrix range     [3e-02, 2e+01]\n",
      "  Objective range  [2e-01, 4e+01]\n",
      "  Bounds range     [1e+00, 1e+00]\n",
      "  RHS range        [8e-01, 1e+00]\n",
      "Presolve removed 863 rows and 580 columns\n",
      "Presolve time: 0.00s\n",
      "Presolve: All rows and columns removed\n",
      "\n",
      "Explored 0 nodes (0 simplex iterations) in 0.00 seconds\n",
      "Thread count was 1 (of 8 available processors)\n",
      "\n",
      "Solution count 1: -32.0199 \n",
      "\n",
      "Optimal solution found (tolerance 1.00e-04)\n",
      "Best objective -3.201990200226e+01, best bound -3.201990200226e+01, gap 0.0000%\n"
     ]
    }
   ],
   "source": [
    "m = build_online_vm_opt(env)\n",
    "solver = SolverFactory('gurobi')\n",
    "results = solver.solve(m, tee=True)"
   ]
  },
  {
   "cell_type": "code",
   "execution_count": 4,
   "metadata": {},
   "outputs": [],
   "source": [
    "# Get plan\n",
    "def extract_vm_packing_plan(model):\n",
    "    plan = []\n",
    "    for v in m.v:\n",
    "        for t in m.t:\n",
    "            if v == t:\n",
    "                for n in m.n:\n",
    "                    if m.x[n, v, t].value is None:\n",
    "                        continue\n",
    "                    if m.x[n, v, t].value > 0:\n",
    "                        plan.append(n)\n",
    "\n",
    "    return np.vstack(plan)"
   ]
  },
  {
   "cell_type": "code",
   "execution_count": 9,
   "metadata": {},
   "outputs": [],
   "source": [
    "env = or_gym.make('VMPacking-v0')\n",
    "env.n_pms = 10\n",
    "env.step_limit = 5\n",
    "solver = SolverFactory('gurobi')\n",
    "env.reset()\n",
    "# print(env.n_pms)\n",
    "# print(env.step_limit)\n",
    "done = False\n",
    "actions = []\n",
    "rewards = []\n",
    "times, obj_vals, bin_vars = [], [], []\n",
    "count = 0\n",
    "t0 = time.time()\n",
    "while done==False:\n",
    "    t1 = time.time()\n",
    "    m = build_online_vm_opt(env)\n",
    "    results = solver.solve(m)\n",
    "    # Get action plan\n",
    "    plan = extract_vm_packing_plan(m)\n",
    "    action = plan[-1].take(0)\n",
    "    s, r, done, _ = env.step(action)\n",
    "    actions.append(action)\n",
    "    rewards.append(r)\n",
    "    t2 = time.time()\n",
    "    count += 1\n",
    "    times.append(t2-t1)\n",
    "    obj_vals.append(m.obj.expr())\n",
    "    bin_vars.append(results['Problem'][0]['Number of binary variables'])\n",
    "    if count % 10 == 0:\n",
    "        print(\"Ep: {}\\tSteps/s: {:.2f}\\tTotal time (s): {:.2f}\\tProjected Reward: {:.2f}\".format(\n",
    "            count, 10/np.mean(times[-10:]), t2-t0, obj_vals[-1]))"
   ]
  },
  {
   "cell_type": "code",
   "execution_count": 10,
   "metadata": {},
   "outputs": [
    {
     "data": {
      "text/plain": [
       "[-6.879288565766833,\n",
       " -5.740341785679621,\n",
       " -8.604289504615744,\n",
       " -11.336066707521216,\n",
       " -11.05476074496983]"
      ]
     },
     "execution_count": 10,
     "metadata": {},
     "output_type": "execute_result"
    }
   ],
   "source": [
    "obj_vals"
   ]
  },
  {
   "cell_type": "code",
   "execution_count": 11,
   "metadata": {},
   "outputs": [
    {
     "data": {
      "text/plain": [
       "[-1.3758577131533667,\n",
       " -1.0911210181315636,\n",
       " -2.0457702577769377,\n",
       " -3.411658859229675,\n",
       " -3.1303528966782883]"
      ]
     },
     "execution_count": 11,
     "metadata": {},
     "output_type": "execute_result"
    }
   ],
   "source": [
    "rewards"
   ]
  },
  {
   "cell_type": "code",
   "execution_count": 17,
   "metadata": {},
   "outputs": [
    {
     "data": {
      "image/png": "[encoded data removed]",
      "text/plain": [
       "<Figure size 864x576 with 3 Axes>"
      ]
     },
     "metadata": {
      "needs_background": "light"
     },
     "output_type": "display_data"
    }
   ],
   "source": [
    "fig, ax = plt.subplots(3, 1, figsize=(12,8), sharex=True)\n",
    "ax[0].plot(times)\n",
    "ax[0].set_title('Time to Solve by Step')\n",
    "ax[0].set_ylabel('Time (s)')\n",
    "\n",
    "ax[1].plot(obj_vals)\n",
    "ax[1].set_title('Final Reward Projection by Step')\n",
    "ax[1].set_ylabel('Projected Final Reward')\n",
    "\n",
    "ax[2].plot(bin_vars)\n",
    "ax[2].set_title('Binary Variables by Step')\n",
    "ax[2].set_ylabel('Binary Variables')\n",
    "ax[2].semilogy()\n",
    "ax[2].set_xlabel('Time Step')\n",
    "plt.show()"
   ]
  },
  {
   "cell_type": "code",
   "execution_count": 23,
   "metadata": {},
   "outputs": [
    {
     "name": "stdout",
     "output_type": "stream",
     "text": [
      "36.487353490458595\n"
     ]
    }
   ],
   "source": [
    "print(sum(times)/60*100/60)"
   ]
  },
  {
   "cell_type": "code",
   "execution_count": 4,
   "metadata": {},
   "outputs": [],
   "source": [
    "x = np.array([[0.1, 0.4],\n",
    "             [0.8, 0.9],\n",
    "             [1, 0.3]])\n",
    "\n",
    "y = np.array([0.1, 0.2])"
   ]
  },
  {
   "cell_type": "code",
   "execution_count": 21,
   "metadata": {},
   "outputs": [
    {
     "data": {
      "text/plain": [
       "array([0, 1, 1])"
      ]
     },
     "execution_count": 21,
     "metadata": {},
     "output_type": "execute_result"
    }
   ],
   "source": [
    "z = (x + y) < 1\n",
    "(z.sum(axis=1)!=2).astype(int)"
   ]
  },
  {
   "cell_type": "code",
   "execution_count": 17,
   "metadata": {},
   "outputs": [
    {
     "data": {
      "text/plain": [
       "array([[ True,  True],\n",
       "       [ True, False],\n",
       "       [False,  True]])"
      ]
     },
     "execution_count": 17,
     "metadata": {},
     "output_type": "execute_result"
    }
   ],
   "source": [
    "z"
   ]
  },
  {
   "cell_type": "code",
   "execution_count": null,
   "metadata": {},
   "outputs": [],
   "source": []
  }
 ],
 "metadata": {
  "kernelspec": {
   "display_name": "Python 3",
   "language": "python",
   "name": "python3"
  },
  "language_info": {
   "codemirror_mode": {
    "name": "ipython",
    "version": 3
   },
   "file_extension": ".py",
   "mimetype": "text/x-python",
   "name": "python",
   "nbconvert_exporter": "python",
   "pygments_lexer": "ipython3",
   "version": "3.6.10"
  }
 },
 "nbformat": 4,
 "nbformat_minor": 4
}
