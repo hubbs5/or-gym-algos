{
 "cells": [
  {
   "cell_type": "code",
   "execution_count": 1,
   "metadata": {},
   "outputs": [],
   "source": [
    "import gym\n",
    "import or_gym\n",
    "from pyomo.environ import *\n",
    "from or_gym.algos.math_prog_utils import *\n",
    "import numpy as np"
   ]
  },
  {
   "cell_type": "code",
   "execution_count": 2,
   "metadata": {},
   "outputs": [],
   "source": [
    "env_name = 'Knapsack-v1'\n",
    "env = gym.make(env_name)\n",
    "\n",
    "# Initialize model\n",
    "m = ConcreteModel()\n",
    "\n",
    "# Sets, parameters, and variables\n",
    "m.W = env.max_weight\n",
    "m.i = Set(initialize=env.item_numbers)\n",
    "m.w = Param(m.i, \n",
    "    initialize={i: j for i, j in zip(env.item_numbers, env.item_weights)})\n",
    "m.v = Param(m.i, \n",
    "    initialize={i: j for i, j in zip(env.item_numbers, env.item_values)})\n",
    "m.b = Param(m.i,\n",
    "    initialize={i: j for i, j in zip(env.item_numbers, env.item_limits)})\n",
    "m.x = Var(m.i, within=NonNegativeIntegers)\n",
    "\n",
    "@m.Constraint()\n",
    "def weight_constraint(m):\n",
    "    return sum(m.w[i] * m.x[i] for i in m.i) - m.W <= 0\n",
    "\n",
    "@m.Constraint(m.i)\n",
    "def item_constraint(m, i):\n",
    "    return m.x[i] - m.b[i] <= 0\n",
    "\n",
    "m.obj = Objective(expr=(\n",
    "    sum([m.v[i] * m.x[i] for i in m.i])),\n",
    "    sense=maximize)"
   ]
  },
  {
   "cell_type": "code",
   "execution_count": 3,
   "metadata": {},
   "outputs": [
    {
     "data": {
      "text/plain": [
       "2045.0"
      ]
     },
     "execution_count": 3,
     "metadata": {},
     "output_type": "execute_result"
    }
   ],
   "source": [
    "m, results = solve_math_program(m, print_results=False)\n",
    "m.obj.expr()"
   ]
  },
  {
   "cell_type": "code",
   "execution_count": 22,
   "metadata": {},
   "outputs": [
    {
     "data": {
      "text/plain": [
       "[0.0, 0.0, 1.0, 2.0, 0.0, 0.0]"
      ]
     },
     "execution_count": 22,
     "metadata": {},
     "output_type": "execute_result"
    }
   ],
   "source": [
    "[m.x[i].value for i in m.x]"
   ]
  },
  {
   "cell_type": "markdown",
   "metadata": {},
   "source": [
    "# Knapsack Heuristic\n",
    "\n",
    "If an item is available, select the item that maximizes value/weight ratio if it fits in the knapsack."
   ]
  },
  {
   "cell_type": "code",
   "execution_count": 23,
   "metadata": {},
   "outputs": [
    {
     "data": {
      "text/plain": [
       "(array([ 1,  2,  3,  6, 10, 18]),\n",
       " array([  0,   1,   3,  14,  20, 100]),\n",
       " array([2, 1, 3, 4, 5, 6]),\n",
       " 15,\n",
       " 0)"
      ]
     },
     "execution_count": 23,
     "metadata": {},
     "output_type": "execute_result"
    }
   ],
   "source": [
    "env.state"
   ]
  },
  {
   "cell_type": "code",
   "execution_count": 4,
   "metadata": {},
   "outputs": [],
   "source": [
    "env = gym.make('Knapsack-v1')\n",
    "# Get value-weight ratios\n",
    "vw_ratio = env.item_values / env.item_weights\n",
    "vw_order = env.item_numbers[np.argsort(vw_ratio)[::-1]]\n",
    "actions = []\n",
    "rewards = []\n",
    "done = False\n",
    "while not done:\n",
    "    # Check that max item is available\n",
    "    max_item = vw_order[0]\n",
    "    if env.item_limits[max_item] == 0:\n",
    "        # Remove item from list\n",
    "        vw_order = vw_order[1:].copy()\n",
    "        continue\n",
    "    # Check that item fits\n",
    "    if env.item_weights[max_item] > (env.max_weight - env.current_weight):\n",
    "        # Remove item from list\n",
    "        vw_order = vw_order[1:].copy()\n",
    "        continue\n",
    "    # Select max_item\n",
    "    state, reward, done, _ = env.step(max_item)\n",
    "    actions.append(max_item)\n",
    "    rewards.append(reward)"
   ]
  },
  {
   "cell_type": "code",
   "execution_count": 5,
   "metadata": {},
   "outputs": [],
   "source": [
    "def bkp_heuristic(env):\n",
    "    assert env.spec.id == 'Knapsack-v1', \\\n",
    "        '{} received. Heuristic designed for Knapsack-v1.'.format(env.spec.id)\n",
    "    env.reset()\n",
    "    # Get value-weight ratios\n",
    "    vw_ratio = env.item_values / env.item_weights\n",
    "    vw_order = env.item_numbers[np.argsort(vw_ratio)[::-1]]\n",
    "    actions = []\n",
    "    rewards = []\n",
    "    done = False\n",
    "    while not done:\n",
    "        # Check that max item is available\n",
    "        max_item = vw_order[0]\n",
    "        if env.item_limits[max_item] == 0:\n",
    "            # Remove item from list\n",
    "            vw_order = vw_order[1:].copy()\n",
    "            continue\n",
    "        # Check that item fits\n",
    "        if env.item_weights[max_item] > (env.max_weight - env.current_weight):\n",
    "            # Remove item from list\n",
    "            vw_order = vw_order[1:].copy()\n",
    "            continue\n",
    "        # Select max_item\n",
    "        state, reward, done, _ = env.step(max_item)\n",
    "        actions.append(max_item)\n",
    "        rewards.append(reward)\n",
    "        \n",
    "    return actions, rewards"
   ]
  },
  {
   "cell_type": "code",
   "execution_count": 7,
   "metadata": {},
   "outputs": [],
   "source": [
    "actions, rewards = bkp_heuristic(env)"
   ]
  },
  {
   "cell_type": "code",
   "execution_count": 9,
   "metadata": {},
   "outputs": [
    {
     "data": {
      "text/plain": [
       "(array([65]), array([200]))"
      ]
     },
     "execution_count": 9,
     "metadata": {},
     "output_type": "execute_result"
    }
   ],
   "source": [
    "np.unique(actions, return_counts=True)"
   ]
  },
  {
   "cell_type": "code",
   "execution_count": 10,
   "metadata": {},
   "outputs": [
    {
     "data": {
      "text/plain": [
       "2"
      ]
     },
     "execution_count": 10,
     "metadata": {},
     "output_type": "execute_result"
    }
   ],
   "source": [
    "env.item_limits[65]"
   ]
  },
  {
   "cell_type": "code",
   "execution_count": 11,
   "metadata": {},
   "outputs": [],
   "source": [
    "env.reset()\n",
    "# Get value-weight ratios\n",
    "vw_ratio = env.item_values / env.item_weights\n",
    "vw_order = env.item_numbers[np.argsort(vw_ratio)[::-1]]\n",
    "actions = []\n",
    "rewards = []\n",
    "done = False\n",
    "while not done:\n",
    "    # Check that max item is available\n",
    "    max_item = vw_order[0]\n",
    "    if env.item_limits[max_item] == 0:\n",
    "        # Remove item from list\n",
    "        vw_order = vw_order[1:].copy()\n",
    "        continue\n",
    "    # Check that item fits\n",
    "    if env.item_weights[max_item] > (env.max_weight - env.current_weight):\n",
    "        # Remove item from list\n",
    "        vw_order = vw_order[1:].copy()\n",
    "        continue\n",
    "    # Select max_item\n",
    "    state, reward, done, _ = env.step(max_item)\n",
    "    actions.append(max_item)\n",
    "    rewards.append(reward)\n",
    "        "
   ]
  },
  {
   "cell_type": "code",
   "execution_count": 12,
   "metadata": {},
   "outputs": [
    {
     "data": {
      "text/plain": [
       "array([ 65,  15, 113,  59,  56, 184,  74, 116, 166, 146,   8,  94,  43,\n",
       "       129,  29,  48,  12,  75,  89, 101, 126,  26,  66,  11,  84,   2,\n",
       "        20, 148, 170,  39,  98,  70, 171, 174, 169, 125, 153,  57, 136,\n",
       "       176,  83, 194,  80, 158,  81, 117, 182, 157, 193, 119, 150,  96,\n",
       "        36, 104, 123,  79, 175, 196,  78,  10, 138, 118,  88, 197, 102,\n",
       "       139, 186, 122,  72,  97,  37,   1, 131,  58,  60,  21,   6, 177,\n",
       "        69,  68,   0, 137, 172, 110,   4, 159, 127,   7,  31, 183,  35,\n",
       "       162,  24,  86, 165,  25,  52, 155,  30, 134,  44,  54,  23,  18,\n",
       "       109, 173, 105, 185, 108, 135,  73, 152,  67,  91, 111, 190,  14,\n",
       "        42,  90, 107,  13,  50,  51,  38, 199, 140,  92, 181,  40, 133,\n",
       "        71, 161, 180,  77,  46, 128, 156, 112, 121,  62, 167, 179,  95,\n",
       "       124, 192, 103,  82, 168, 151,   5,  63,  87,  41, 141,  27,   9,\n",
       "       106,  19, 163, 147, 144, 132, 160, 195, 154,   3, 145, 189,  47,\n",
       "       188, 164,  49,  22, 142, 178,  99,  53,  45, 130,  33,  76, 115,\n",
       "       143, 114,  61,  17, 191, 100,  85,  93, 198,  64, 187,  16,  55,\n",
       "       149,  32, 120,  34,  28])"
      ]
     },
     "execution_count": 12,
     "metadata": {},
     "output_type": "execute_result"
    }
   ],
   "source": [
    "vw_order"
   ]
  },
  {
   "cell_type": "code",
   "execution_count": 13,
   "metadata": {},
   "outputs": [
    {
     "data": {
      "text/plain": [
       "2"
      ]
     },
     "execution_count": 13,
     "metadata": {},
     "output_type": "execute_result"
    }
   ],
   "source": [
    "env.item_limits[65]"
   ]
  },
  {
   "cell_type": "code",
   "execution_count": null,
   "metadata": {},
   "outputs": [],
   "source": []
  }
 ],
 "metadata": {
  "kernelspec": {
   "display_name": "Python 3",
   "language": "python",
   "name": "python3"
  },
  "language_info": {
   "codemirror_mode": {
    "name": "ipython",
    "version": 3
   },
   "file_extension": ".py",
   "mimetype": "text/x-python",
   "name": "python",
   "nbconvert_exporter": "python",
   "pygments_lexer": "ipython3",
   "version": "3.6.10"
  }
 },
 "nbformat": 4,
 "nbformat_minor": 4
}
