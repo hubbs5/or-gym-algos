{
 "cells": [
  {
   "cell_type": "code",
   "execution_count": 3,
   "metadata": {},
   "outputs": [
    {
     "name": "stderr",
     "output_type": "stream",
     "text": [
      "2020-05-07 17:35:17,891\tERROR worker.py:679 -- Calling ray.init() again after it has already been called.\n"
     ]
    }
   ],
   "source": [
    "import ray\n",
    "from ray.rllib import agents\n",
    "from ray import tune\n",
    "from ray.rllib.models.torch.torch_modelv2 import TorchModelV2\n",
    "from ray.rllib.models.torch.fcnet import FullyConnectedNetwork\n",
    "import gym\n",
    "from gym import spaces\n",
    "import or_gym\n",
    "from or_gym.utils.env_config import *\n",
    "import numpy as np\n",
    "import time\n",
    "import matplotlib.pyplot as plt\n",
    "%matplotlib inline\n",
    "ray.init(ignore_reinit_error=True)"
   ]
  },
  {
   "cell_type": "code",
   "execution_count": 153,
   "metadata": {},
   "outputs": [],
   "source": [
    "class SchedEnv(gym.Env):\n",
    "    \n",
    "    def __init__(self, *args, **kwargs):\n",
    "        \n",
    "        self.num_products = 3\n",
    "        self.step_limit = 10\n",
    "        # Set binary transition matrix, from i (row) to j (column)\n",
    "        self.transition_matrix = np.array([[1, 0, 1],\n",
    "                                           [0, 1, 1],\n",
    "                                           [1, 1, 1]])\n",
    "        self.sales_price = np.ones(self.num_products)\n",
    "        self.production_rate = [10, 10, 10]\n",
    "        self.action_setting = 'discrete'\n",
    "        self.mask = False\n",
    "        assign_env_config(self, kwargs)\n",
    "        \n",
    "        self.action_setting = self.action_setting.lower()\n",
    "        if self.action_setting == 'discrete':\n",
    "            # Observations are:\n",
    "            # Time step (1)\n",
    "            # Previous action and run rate (2)\n",
    "            # Current Inventory (num_products)\n",
    "            # Current Demand (num_products)\n",
    "            self.obs_dim = self.num_products * 2 + 3\n",
    "            self.action_space = spaces.Discrete(self.num_products)\n",
    "        elif self.action_setting == 'continuous':\n",
    "            # Observations are:\n",
    "            # Time step (1)\n",
    "            # Previous action and run rate (2)\n",
    "            # Current Inventory (num_products)\n",
    "            # Current Demand (num_products)\n",
    "            self.obs_dim = self.num_products * 2 + 3\n",
    "            self.action_space = spaces.Box(\n",
    "                low=np.zeros(self.num_products), \n",
    "                high=self.production_rate)\n",
    "        else:\n",
    "            raise NotImplementedError(\n",
    "                'action_setting = {} has not been defined.'.format(\n",
    "                    self.action_setting))\n",
    "        if self.mask:\n",
    "            self.observation_space = spaces.Dict({\n",
    "                'action_mask': spaces.Box(0, 1, shape=(self.num_products,)),\n",
    "                'avail_actions': spaces.Box(0, 1, shape=(self.num_products,)),\n",
    "                'state': spaces.Box(0, 100, shape=(self.obs_dim,))\n",
    "            })\n",
    "        else:\n",
    "            self.observation_space = spaces.Box(0, 100, shape=(self.obs_dim,))\n",
    "            \n",
    "        self.state_indices = {\n",
    "            'time': 0,\n",
    "            'prev_actions': [1,2],\n",
    "            'inventory': \n",
    "                {'product_' + str(j): i \n",
    "                 for i, j in enumerate(np.arange(self.num_products), 3)},\n",
    "            'demand': \n",
    "                {'product_' + str(j): i \n",
    "                 for i, j in enumerate(np.arange(self.num_products), self.num_products + 3)}\n",
    "        }\n",
    "        \n",
    "        self.reset()\n",
    "        \n",
    "    def step(self, action):\n",
    "        done = False\n",
    "        t = self.current_step\n",
    "        self.inventory[self.last_action[0]] += self.planned_production\n",
    "        if self.action_setting == 'continuous':\n",
    "            product, rate = np.argmax(action), np.max(action)\n",
    "        else:\n",
    "            product = action\n",
    "            rate = self.production_rate[action]\n",
    "        # To be carried forward to next step\n",
    "        self.planned_production = self.transition_matrix[self.last_action[0], product] * rate\n",
    "        \n",
    "        # Sell products\n",
    "        sales_qty = [self.demand[t, i] if j else self.inventory[i] \n",
    "            for i, j in enumerate(self.inventory>=self.demand[t])]\n",
    "        self.inventory = np.where(self.inventory - self.demand[t]>=0, \n",
    "            self.inventory-self.demand[t], 0)\n",
    "        self.last_action = [product, rate]\n",
    "        reward = np.dot(sales_qty, self.sales_price)\n",
    "        \n",
    "        self.current_step += 1\n",
    "        if self.current_step >= self.step_limit:\n",
    "            done = True\n",
    "        self.state = self._update_state()\n",
    "        \n",
    "        return self.state, reward, done, {}\n",
    "        \n",
    "    def reset(self):\n",
    "        self.demand = self.generate_demand()\n",
    "        self.inventory = np.zeros(self.num_products)\n",
    "        # Randomly initialize schedule\n",
    "        prev_prod = np.random.choice(np.arange(self.num_products))\n",
    "        if self.action_setting == 'continuous':\n",
    "            rate = np.random.uniform(low=0, high=self.production_rate[prev_prod])\n",
    "        else:\n",
    "            rate = self.production_rate[prev_prod]\n",
    "        self.planned_production = rate\n",
    "        self.last_action = [prev_prod, rate]\n",
    "        self.current_step = 0\n",
    "                \n",
    "        return self._update_state()\n",
    "    \n",
    "    def _update_state(self):\n",
    "        t = self.current_step\n",
    "        state = np.hstack([t, self.last_action, self.inventory, self.demand[t]])\n",
    "        if self.mask:\n",
    "            try:\n",
    "                idx = self.last_action[0]\n",
    "            except TypeError:\n",
    "                idx = self.last_action\n",
    "            action_mask = self.transition_matrix[idx]\n",
    "            self.state = {'action_mask': action_mask,\n",
    "                          'avail_actions': np.ones(self.num_products),\n",
    "                          'state': state}\n",
    "        else:\n",
    "            self.state = state.copy()\n",
    "        return self.state\n",
    "    \n",
    "    def generate_demand(self):\n",
    "        demand = np.zeros((self.step_limit+1, self.num_products))\n",
    "        for i in range(self.step_limit):\n",
    "            for j in range(self.num_products):\n",
    "                if i % self.num_products == j:\n",
    "                    demand[i, j] += 5\n",
    "        return demand\n",
    "    \n",
    "    def sample_action(self):\n",
    "        return self.action_space.sample()"
   ]
  },
  {
   "cell_type": "code",
   "execution_count": 218,
   "metadata": {},
   "outputs": [
    {
     "data": {
      "text/plain": [
       "array([[1., 0., 0.],\n",
       "       [0., 1., 0.],\n",
       "       [0., 0., 1.]])"
      ]
     },
     "execution_count": 218,
     "metadata": {},
     "output_type": "execute_result"
    }
   ],
   "source": [
    "np.identity(3)\n",
    "    return a + a.T - numpy.diag(a.diagonal())"
   ]
  },
  {
   "cell_type": "code",
   "execution_count": 237,
   "metadata": {},
   "outputs": [],
   "source": [
    "tm = np.random.choice([0, 1], size=(3,3))\n",
    "tm = tm + tm.T + np.identity(3)\n",
    "tm = np.where(tm>1, 1, tm)"
   ]
  },
  {
   "cell_type": "code",
   "execution_count": 239,
   "metadata": {},
   "outputs": [
    {
     "data": {
      "text/plain": [
       "array([[1., 0., 1.],\n",
       "       [0., 1., 0.],\n",
       "       [1., 0., 1.]])"
      ]
     },
     "execution_count": 239,
     "metadata": {},
     "output_type": "execute_result"
    }
   ],
   "source": [
    "x = tm.copy()\n",
    "x"
   ]
  },
  {
   "cell_type": "code",
   "execution_count": 245,
   "metadata": {},
   "outputs": [
    {
     "data": {
      "text/plain": [
       "array([[1., 0., 1.],\n",
       "       [0., 2., 0.],\n",
       "       [1., 0., 1.]])"
      ]
     },
     "execution_count": 245,
     "metadata": {},
     "output_type": "execute_result"
    }
   ],
   "source": [
    "idx = np.where(x.sum(axis=1) < 2)[0]\n",
    "x[idx] += np.random.choice([0, 1], 3)\n",
    "x"
   ]
  },
  {
   "cell_type": "code",
   "execution_count": 292,
   "metadata": {},
   "outputs": [],
   "source": [
    "def generate_transition_matrix(num_products=6, prob=[0.6, 0.4]):\n",
    "    tm = np.random.choice([0, 1], p=prob, size=(num_products, num_products))\n",
    "    tm = tm + tm.T + np.identity(num_products)\n",
    "    tm = np.where(tm>1, 1, tm)\n",
    "    # Ensure at least one viable transition for each product\n",
    "    idx = np.where(tm.sum(axis=1) < 2)[0]\n",
    "    while len(idx) > 0:\n",
    "        tm[idx] += np.random.choice([0, 1], p=prob, size=num_products)\n",
    "        tm = np.where(tm>1, 1, tm)\n",
    "        idx = np.where(tm.sum(axis=1) < 2)[0]\n",
    "    return tm"
   ]
  },
  {
   "cell_type": "code",
   "execution_count": 294,
   "metadata": {},
   "outputs": [
    {
     "data": {
      "text/plain": [
       "array([[1., 1., 0., 1., 1., 0.],\n",
       "       [1., 1., 0., 0., 1., 1.],\n",
       "       [0., 0., 1., 0., 1., 1.],\n",
       "       [1., 0., 0., 1., 1., 1.],\n",
       "       [1., 1., 1., 1., 1., 0.],\n",
       "       [0., 1., 1., 1., 0., 1.]])"
      ]
     },
     "execution_count": 294,
     "metadata": {},
     "output_type": "execute_result"
    }
   ],
   "source": [
    "generate_transition_matrix()"
   ]
  },
  {
   "cell_type": "code",
   "execution_count": 295,
   "metadata": {},
   "outputs": [
    {
     "data": {
      "text/plain": [
       "[2, 10]"
      ]
     },
     "execution_count": 295,
     "metadata": {},
     "output_type": "execute_result"
    }
   ],
   "source": [
    "env.last_action"
   ]
  },
  {
   "cell_type": "code",
   "execution_count": 169,
   "metadata": {},
   "outputs": [],
   "source": [
    "config = {'mask': False}\n",
    "env = SchedEnv(env_config=config)"
   ]
  },
  {
   "cell_type": "code",
   "execution_count": 155,
   "metadata": {},
   "outputs": [],
   "source": [
    "for i in range(1):\n",
    "    s = env.reset()\n",
    "    done = False\n",
    "    rewards, actions, states = [], [], [s]\n",
    "    while done == False:\n",
    "        action = env.sample_action()\n",
    "        s, r, done, _ = env.step(action)\n",
    "        rewards.append(r)\n",
    "        actions.append(action)\n",
    "        states.append(s)"
   ]
  },
  {
   "cell_type": "code",
   "execution_count": 203,
   "metadata": {},
   "outputs": [],
   "source": [
    "def test_env(trainer, n_episodes, print_output=True):\n",
    "    rewards, eps, eps_total = [], [], []\n",
    "    training_results = []\n",
    "    training = True\n",
    "    batch = 0\n",
    "    env = trainer.env_creator(trainer.config)\n",
    "    s = env.reset()\n",
    "    t_start = time.time()\n",
    "    while training:\n",
    "        t_batch = time.time()\n",
    "        results = trainer.train()\n",
    "        training_results.append(results)\n",
    "        rewards.append(results['episode_reward_mean'])\n",
    "        eps.append(results['episodes_this_iter'])\n",
    "        eps_total.append(results['episodes_total'])\n",
    "        batch += 1\n",
    "        t_end = time.time()\n",
    "        # Check for nan\n",
    "        out = trainer.compute_action(s)\n",
    "        if any(np.isnan([out])):\n",
    "            raise ValueError('NaN found in output')\n",
    "        if sum(eps) >= n_episodes:\n",
    "            training = False\n",
    "            break\n",
    "        if batch % 10 == 0 and print_output:\n",
    "            t = t_end - t_batch\n",
    "            t_tot = t_end - t_start\n",
    "            print(\"\\rEpisode: {}\\tMean Rewards: {:.1f}\\tEpisodes/sec: {:.2f}\\tTotal Time: {:.1f}s\".format(\n",
    "                eps_total[-1], rewards[-1], eps[-1]/t, t_tot), end=\"\")\n",
    "            \n",
    "    print(\"Total Training Time: {:.1f}s\\t\".format(t_end - t_start))\n",
    "    return trainer, training_results"
   ]
  },
  {
   "cell_type": "code",
   "execution_count": 204,
   "metadata": {},
   "outputs": [
    {
     "name": "stderr",
     "output_type": "stream",
     "text": [
      "2020-05-07 15:12:45,858\tWARNING util.py:45 -- Install gputil for GPU system monitoring.\n"
     ]
    }
   ],
   "source": [
    "config = agents.a3c.DEFAULT_CONFIG.copy()\n",
    "config['timesteps_per_iteration'] = 1000\n",
    "trainer = agents.a3c.A2CTrainer(config=config, env=SchedEnv)"
   ]
  },
  {
   "cell_type": "code",
   "execution_count": 205,
   "metadata": {},
   "outputs": [
    {
     "name": "stdout",
     "output_type": "stream",
     "text": [
      "Episode: 42910\tMean Rewards: 40.9\tEpisodes/sec: 201.85\tTotal Time: 202.9sTotal Training Time: 243.5s\t\n"
     ]
    }
   ],
   "source": [
    "trainer, results = test_env(trainer, 50000)"
   ]
  },
  {
   "cell_type": "code",
   "execution_count": 206,
   "metadata": {},
   "outputs": [
    {
     "data": {
      "image/png": "[encoded data removed]",
      "text/plain": [
       "<Figure size 432x288 with 1 Axes>"
      ]
     },
     "metadata": {
      "needs_background": "light"
     },
     "output_type": "display_data"
    }
   ],
   "source": [
    "mean_rewards = [i['episode_reward_mean'] for i in results]\n",
    "\n",
    "plt.figure()\n",
    "plt.plot(mean_rewards)\n",
    "plt.show()"
   ]
  },
  {
   "cell_type": "code",
   "execution_count": 189,
   "metadata": {},
   "outputs": [
    {
     "data": {
      "text/plain": [
       "array([ 0.,  2., 10.,  0.,  0.,  0.,  5.,  0.,  0.])"
      ]
     },
     "execution_count": 189,
     "metadata": {},
     "output_type": "execute_result"
    }
   ],
   "source": [
    "env.reset()"
   ]
  },
  {
   "cell_type": "code",
   "execution_count": 190,
   "metadata": {},
   "outputs": [
    {
     "data": {
      "text/plain": [
       "array([ 0.,  1., 10.,  0.,  0.,  0.,  5.,  0.,  0.])"
      ]
     },
     "execution_count": 190,
     "metadata": {},
     "output_type": "execute_result"
    }
   ],
   "source": [
    "env2 = trainer.env_creator(config)\n",
    "env2.reset()"
   ]
  },
  {
   "cell_type": "code",
   "execution_count": 207,
   "metadata": {},
   "outputs": [
    {
     "data": {
      "text/plain": [
       "2"
      ]
     },
     "execution_count": 207,
     "metadata": {},
     "output_type": "execute_result"
    }
   ],
   "source": [
    "trainer.compute_action(env2.reset())"
   ]
  },
  {
   "cell_type": "code",
   "execution_count": 200,
   "metadata": {},
   "outputs": [
    {
     "data": {
      "text/plain": [
       "True"
      ]
     },
     "execution_count": 200,
     "metadata": {},
     "output_type": "execute_result"
    }
   ],
   "source": [
    "any(np.isnan([1, np.nan]))"
   ]
  },
  {
   "cell_type": "code",
   "execution_count": 296,
   "metadata": {},
   "outputs": [],
   "source": [
    "s = env.reset()"
   ]
  },
  {
   "cell_type": "code",
   "execution_count": 297,
   "metadata": {},
   "outputs": [
    {
     "data": {
      "text/plain": [
       "array([ 0.,  2., 10.,  0.,  0.,  0.,  5.,  0.,  0.])"
      ]
     },
     "execution_count": 297,
     "metadata": {},
     "output_type": "execute_result"
    }
   ],
   "source": [
    "s"
   ]
  },
  {
   "cell_type": "code",
   "execution_count": 298,
   "metadata": {},
   "outputs": [
    {
     "data": {
      "text/plain": [
       "True"
      ]
     },
     "execution_count": 298,
     "metadata": {},
     "output_type": "execute_result"
    }
   ],
   "source": [
    "env.observation_space.contains(s)"
   ]
  },
  {
   "cell_type": "code",
   "execution_count": 4,
   "metadata": {},
   "outputs": [],
   "source": [
    "env = or_gym.make('SCSched-v0')"
   ]
  },
  {
   "cell_type": "code",
   "execution_count": 5,
   "metadata": {},
   "outputs": [
    {
     "data": {
      "text/plain": [
       "{'action_mask': array([1., 1., 1.]),\n",
       " 'avail_actions': array([1., 1., 1.]),\n",
       " 'state': array([ 0.,  0., 10.,  0.,  0.,  0.,  5.,  0.,  0.])}"
      ]
     },
     "execution_count": 5,
     "metadata": {},
     "output_type": "execute_result"
    }
   ],
   "source": [
    "env.reset()"
   ]
  },
  {
   "cell_type": "code",
   "execution_count": 6,
   "metadata": {},
   "outputs": [
    {
     "data": {
      "text/plain": [
       "Box(9,)"
      ]
     },
     "execution_count": 6,
     "metadata": {},
     "output_type": "execute_result"
    }
   ],
   "source": [
    "env.observation_space"
   ]
  },
  {
   "cell_type": "code",
   "execution_count": 9,
   "metadata": {},
   "outputs": [
    {
     "data": {
      "text/plain": [
       "array([100.,   0.,   0.])"
      ]
     },
     "execution_count": 9,
     "metadata": {},
     "output_type": "execute_result"
    }
   ],
   "source": [
    "env.inventory[0] += 200\n",
    "np.where(env.inventory>env.max_inventory,env.max_inventory,env.inventory)"
   ]
  },
  {
   "cell_type": "code",
   "execution_count": null,
   "metadata": {},
   "outputs": [],
   "source": []
  }
 ],
 "metadata": {
  "kernelspec": {
   "display_name": "Python 3",
   "language": "python",
   "name": "python3"
  },
  "language_info": {
   "codemirror_mode": {
    "name": "ipython",
    "version": 3
   },
   "file_extension": ".py",
   "mimetype": "text/x-python",
   "name": "python",
   "nbconvert_exporter": "python",
   "pygments_lexer": "ipython3",
   "version": "3.6.10"
  }
 },
 "nbformat": 4,
 "nbformat_minor": 4
}
