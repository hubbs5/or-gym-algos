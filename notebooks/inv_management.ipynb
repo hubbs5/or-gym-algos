{
 "cells": [
  {
   "cell_type": "code",
   "execution_count": 1,
   "metadata": {},
   "outputs": [],
   "source": [
    "import or_gym\n",
    "import numpy as np\n",
    "import pandas as pd\n",
    "import matplotlib.pyplot as plt\n",
    "%matplotlib inline"
   ]
  },
  {
   "cell_type": "code",
   "execution_count": 2,
   "metadata": {},
   "outputs": [],
   "source": [
    "env = or_gym.make('InvManagement-v0')"
   ]
  },
  {
   "cell_type": "code",
   "execution_count": 3,
   "metadata": {},
   "outputs": [
    {
     "data": {
      "text/plain": [
       "array([100., 200., 400.])"
      ]
     },
     "execution_count": 3,
     "metadata": {},
     "output_type": "execute_result"
    }
   ],
   "source": [
    "env.state"
   ]
  },
  {
   "cell_type": "code",
   "execution_count": 4,
   "metadata": {},
   "outputs": [
    {
     "data": {
      "text/plain": [
       "array([99.02318 , 55.225838, 18.610294], dtype=float32)"
      ]
     },
     "execution_count": 4,
     "metadata": {},
     "output_type": "execute_result"
    }
   ],
   "source": [
    "env.action_space.sample()"
   ]
  },
  {
   "cell_type": "code",
   "execution_count": 26,
   "metadata": {},
   "outputs": [],
   "source": [
    "s, r, done, info = env.step(np.array([20, 20, 20]))"
   ]
  },
  {
   "cell_type": "code",
   "execution_count": 21,
   "metadata": {},
   "outputs": [
    {
     "data": {
      "text/plain": [
       "array([ 99., 199., 399.])"
      ]
     },
     "execution_count": 21,
     "metadata": {},
     "output_type": "execute_result"
    }
   ],
   "source": [
    "s"
   ]
  },
  {
   "cell_type": "code",
   "execution_count": 24,
   "metadata": {},
   "outputs": [
    {
     "data": {
      "text/plain": [
       "array([100., 200., 400.])"
      ]
     },
     "execution_count": 24,
     "metadata": {},
     "output_type": "execute_result"
    }
   ],
   "source": [
    "env.reset()"
   ]
  },
  {
   "cell_type": "code",
   "execution_count": 27,
   "metadata": {},
   "outputs": [
    {
     "data": {
      "text/plain": [
       "array([21.,  0.,  0.,  0.,  0.,  0.,  0.,  0.,  0.,  0.,  0.,  0.,  0.,\n",
       "        0.,  0.,  0.,  0.,  0.,  0.,  0.,  0.,  0.,  0.,  0.,  0.,  0.,\n",
       "        0.,  0.,  0.,  0.])"
      ]
     },
     "execution_count": 27,
     "metadata": {},
     "output_type": "execute_result"
    }
   ],
   "source": [
    "env.D"
   ]
  },
  {
   "cell_type": "code",
   "execution_count": 30,
   "metadata": {},
   "outputs": [
    {
     "name": "stdout",
     "output_type": "stream",
     "text": [
      "0\n",
      "[28. 19. 14. 13. 17. 19. 21. 21. 18. 16. 19. 30. 18. 17. 13. 15. 23. 20.\n",
      " 19. 16. 24. 21. 23. 25. 27. 17. 19. 20. 23. 18.]\n"
     ]
    }
   ],
   "source": [
    "for i in range(1):\n",
    "    rewards = []\n",
    "    env.reset()\n",
    "    done = False\n",
    "    while done == False:\n",
    "        action = env.sample_action()\n",
    "        s, r, done, _ = env.step(action)\n",
    "        rewards.append(r)\n",
    "        if done:\n",
    "            print('{}\\n{}'.format(i, env.D))"
   ]
  },
  {
   "cell_type": "code",
   "execution_count": 31,
   "metadata": {},
   "outputs": [
    {
     "data": {
      "text/plain": [
       "[-0.06532988880332233,\n",
       " 0.5511385526697721,\n",
       " 0.43272712272939007,\n",
       " 0.11016821839440796,\n",
       " -0.12065091600542738,\n",
       " -0.5178899278105419,\n",
       " -0.5881249431783062,\n",
       " -0.7750160687125532,\n",
       " -0.9220568438764394,\n",
       " -0.9267867827794425,\n",
       " -1.0368280861783703,\n",
       " -0.9588681815414347,\n",
       " -1.0705733930666532,\n",
       " -1.2644880873110846,\n",
       " -1.2660439635212577,\n",
       " -1.3076243727994008,\n",
       " -1.3825281484131786,\n",
       " -1.5028867531014762,\n",
       " -1.6134168610347988,\n",
       " -1.6179823124927475,\n",
       " -1.625076703068963,\n",
       " -1.7207434530911518,\n",
       " -1.7016109222483307,\n",
       " -1.7051196878049013,\n",
       " -1.667614506010566,\n",
       " -1.7400640416386233,\n",
       " -1.7990178396450769,\n",
       " -1.8702645261714472,\n",
       " -1.9044328373456652,\n",
       " -1.9758852720274318]"
      ]
     },
     "execution_count": 31,
     "metadata": {},
     "output_type": "execute_result"
    }
   ],
   "source": [
    "rewards"
   ]
  },
  {
   "cell_type": "code",
   "execution_count": 10,
   "metadata": {},
   "outputs": [
    {
     "data": {
      "text/plain": [
       "array([1.5 , 1.  , 0.75, 0.5 ])"
      ]
     },
     "execution_count": 10,
     "metadata": {},
     "output_type": "execute_result"
    }
   ],
   "source": [
    "env.unit_cost"
   ]
  },
  {
   "cell_type": "code",
   "execution_count": 11,
   "metadata": {},
   "outputs": [
    {
     "data": {
      "text/plain": [
       "array([0.1  , 0.075, 0.05 , 0.025])"
      ]
     },
     "execution_count": 11,
     "metadata": {},
     "output_type": "execute_result"
    }
   ],
   "source": [
    "env.demand_cost"
   ]
  },
  {
   "cell_type": "code",
   "execution_count": 12,
   "metadata": {},
   "outputs": [
    {
     "data": {
      "text/plain": [
       "array([0.15, 0.1 , 0.05, 0.  ])"
      ]
     },
     "execution_count": 12,
     "metadata": {},
     "output_type": "execute_result"
    }
   ],
   "source": [
    "env.holding_cost"
   ]
  },
  {
   "cell_type": "code",
   "execution_count": 13,
   "metadata": {},
   "outputs": [
    {
     "data": {
      "text/plain": [
       "0.97"
      ]
     },
     "execution_count": 13,
     "metadata": {},
     "output_type": "execute_result"
    }
   ],
   "source": [
    "env.discount"
   ]
  },
  {
   "cell_type": "code",
   "execution_count": 22,
   "metadata": {},
   "outputs": [
    {
     "data": {
      "text/plain": [
       "0.6015106028147362"
      ]
     },
     "execution_count": 22,
     "metadata": {},
     "output_type": "execute_result"
    }
   ],
   "source": [
    "env.discount**env.period*np.sum(env.unit_price*np.ones(env.unit_price.shape) \\\n",
    "                                - (env.unit_cost*np.ones(env.unit_cost.shape) \\\n",
    "                                  + env.demand_cost*0 + env.holding_cost * 0))"
   ]
  },
  {
   "cell_type": "code",
   "execution_count": 23,
   "metadata": {},
   "outputs": [
    {
     "data": {
      "text/plain": [
       "array([-16.1       ,   9.38475   ,   8.7268475 , -25.4635767 ,\n",
       "       -26.16040254, -46.6292576 , -35.35966161, -23.4315025 ,\n",
       "       -17.10519882, -26.17095419, -32.35448357, -50.82216469,\n",
       "       -30.45967965, -49.92178441, -54.33229919, -47.88962118,\n",
       "       -45.97688596, -55.14370036, -38.43375896, -25.05938879,\n",
       "       -24.7426426 , -39.02037092, -39.88359278, -39.07172247,\n",
       "       -46.10773443, -53.73711421, -43.91500174, -55.18568842,\n",
       "       -39.50829552, -51.33510591])"
      ]
     },
     "execution_count": 23,
     "metadata": {},
     "output_type": "execute_result"
    }
   ],
   "source": [
    "env.P"
   ]
  },
  {
   "cell_type": "code",
   "execution_count": 29,
   "metadata": {},
   "outputs": [
    {
     "data": {
      "text/plain": [
       "0.06456106691469761"
      ]
     },
     "execution_count": 29,
     "metadata": {},
     "output_type": "execute_result"
    }
   ],
   "source": [
    "env.demand_dist.pmf(env.D[env.period-1], **env.dist_param)"
   ]
  },
  {
   "cell_type": "code",
   "execution_count": null,
   "metadata": {},
   "outputs": [],
   "source": [
    "1/30 * np.sum(prob)"
   ]
  }
 ],
 "metadata": {
  "kernelspec": {
   "display_name": "Python 3",
   "language": "python",
   "name": "python3"
  },
  "language_info": {
   "codemirror_mode": {
    "name": "ipython",
    "version": 3
   },
   "file_extension": ".py",
   "mimetype": "text/x-python",
   "name": "python",
   "nbconvert_exporter": "python",
   "pygments_lexer": "ipython3",
   "version": "3.6.10"
  }
 },
 "nbformat": 4,
 "nbformat_minor": 4
}
