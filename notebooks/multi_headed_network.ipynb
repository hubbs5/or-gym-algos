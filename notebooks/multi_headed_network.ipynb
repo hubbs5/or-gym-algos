{
 "cells": [
  {
   "cell_type": "code",
   "execution_count": 66,
   "metadata": {},
   "outputs": [],
   "source": [
    "import numpy as np\n",
    "import gym\n",
    "from gym import spaces\n",
    "import or_gym\n",
    "# import ray\n",
    "# from ray.rllib.agents import ppo\n",
    "import time\n",
    "# from ray import tune\n",
    "# from ray.rllib.models import ModelCatalog\n",
    "# from ray.rllib.models.tf.tf_modelv2 import TFModelV2\n",
    "# from ray.rllib.models.tf.fcnet_v2 import FullyConnectedNetwork\n",
    "import torch\n",
    "from torch import nn\n",
    "import torch.nn.functional as F\n",
    "from ray.rllib.models.torch.torch_modelv2 import TorchModelV2"
   ]
  },
  {
   "cell_type": "code",
   "execution_count": 2,
   "metadata": {},
   "outputs": [],
   "source": [
    "env = gym.make('VehicleRouting-v1')"
   ]
  },
  {
   "cell_type": "code",
   "execution_count": 3,
   "metadata": {},
   "outputs": [
    {
     "data": {
      "text/plain": [
       "Tuple(Discrete(5), Discrete(5), Discrete(5), Discrete(2), Discrete(2), Discrete(2))"
      ]
     },
     "execution_count": 3,
     "metadata": {},
     "output_type": "execute_result"
    }
   ],
   "source": [
    "env.action_space"
   ]
  },
  {
   "cell_type": "code",
   "execution_count": 65,
   "metadata": {},
   "outputs": [],
   "source": [
    "# Build Multi-Headed A2C model as start\n",
    "\n",
    "class A2CMulti(nn.Module):\n",
    "    \n",
    "    def __init__(self, env, device='cpu'):\n",
    "        super(A2CMulti, self).__init__()\n",
    "        \n",
    "        self.device = device\n",
    "        self.n_inputs = env.observation_space.shape[0]\n",
    "        try:\n",
    "            self.n_outputs = env.action_space.shape[0]\n",
    "        except TypeError:\n",
    "            self.n_outputs = len(env.action_space)\n",
    "        self.env = env\n",
    "        \n",
    "        self.body = nn.Sequential(\n",
    "            nn.Linear(self.n_inputs, 128),\n",
    "            nn.ELU(),\n",
    "            nn.Linear(128, 128),\n",
    "            nn.ELU(),\n",
    "            nn.Linear(128, 128),\n",
    "            nn.ELU())\n",
    "        \n",
    "        # Value Function Head\n",
    "        self.value = nn.Sequential(\n",
    "            nn.Linear(128, 64),\n",
    "            nn.ELU(),\n",
    "            nn.Linear(64, 1))\n",
    "        \n",
    "        # Policy Function Heads\n",
    "        if type(env.action_space) == gym.spaces.tuple.Tuple:\n",
    "            self.outputs = []\n",
    "            for i, space in enumerate(env.action_space):\n",
    "                try:\n",
    "                    nodes = space.n\n",
    "                except AttributeError:\n",
    "                    nodes = space.shape[0]\n",
    "                output_layer = nn.Sequential(\n",
    "                    nn.Linear(128, 64),\n",
    "                    nn.ELU(),\n",
    "                    nn.Linear(64, nodes))\n",
    "                output_name = 'output_' + str(i)\n",
    "                self.outputs.append(output_name)\n",
    "                setattr(self, output_name, output_layer)\n",
    "        else:\n",
    "            output_layer = nn.Sequential(\n",
    "                nn.Linear(128, 64),\n",
    "                nn.ELU(),\n",
    "                nn.Linear(64, self.n_outputs))\n",
    "            \n",
    "        if self.device == 'cuda':\n",
    "            self.net.cuda()\n",
    "            \n",
    "    def forward(self, state):\n",
    "        body_output = self.get_body_output(state)\n",
    "        action_probs = []\n",
    "        for name in self.outputs:\n",
    "            output = getattr(self, name)(body_output)\n",
    "            action_probs.append(F.softmax(output, dim=-1))\n",
    "        return action_probs, self.value(body_output)\n",
    "\n",
    "    def get_body_output(self, state):\n",
    "        state_t = torch.FloatTensor(state).to(device=self.device)\n",
    "        return self.body(state_t)\n",
    "    \n",
    "    def get_action(self, state):\n",
    "        action_probs, value = self.forward(state)\n",
    "        actions = np.zeros(len(action_probs))\n",
    "        for i, a_probs in enumerate(action_probs):\n",
    "            probs = a_probs.detach().numpy()\n",
    "            action = np.random.choice(np.arange(probs.shape[0]), p=probs)\n",
    "            actions[i] = action\n",
    "        return actions.astype(np.int16), value\n",
    "    \n",
    "    def get_log_probs(self, state):\n",
    "        body_output = self.get_body_output(state)\n",
    "        log_probs = []\n",
    "        for name in self.outputs:\n",
    "            output = getattr(self, name)(body_output)\n",
    "            log_probs.append(F.log_softmax(output, dim=-1))\n",
    "        return log_probs\n",
    "\n",
    "    def train(self, lr):\n",
    "        self.optimizer = torch.optim.Adam(\n",
    "            self.parameters(), lr=self.learning_rate())\n",
    "        "
   ]
  },
  {
   "cell_type": "code",
   "execution_count": 63,
   "metadata": {},
   "outputs": [],
   "source": [
    "net = A2CMulti(env)"
   ]
  },
  {
   "cell_type": "code",
   "execution_count": 64,
   "metadata": {},
   "outputs": [
    {
     "data": {
      "text/plain": [
       "[tensor([-1.6726, -2.1915, -1.6142, -1.3281, -1.4420],\n",
       "        grad_fn=<LogSoftmaxBackward>),\n",
       " tensor([-1.4329, -1.5777, -1.8338, -1.4574, -1.8184],\n",
       "        grad_fn=<LogSoftmaxBackward>),\n",
       " tensor([-1.3050, -1.6029, -1.6123, -1.5413, -2.1717],\n",
       "        grad_fn=<LogSoftmaxBackward>),\n",
       " tensor([-0.7181, -0.6688], grad_fn=<LogSoftmaxBackward>),\n",
       " tensor([-0.4607, -0.9965], grad_fn=<LogSoftmaxBackward>),\n",
       " tensor([-0.4587, -0.9999], grad_fn=<LogSoftmaxBackward>)]"
      ]
     },
     "execution_count": 64,
     "metadata": {},
     "output_type": "execute_result"
    }
   ],
   "source": [
    "net.get_log_probs(env.state)"
   ]
  },
  {
   "cell_type": "code",
   "execution_count": 42,
   "metadata": {},
   "outputs": [
    {
     "name": "stdout",
     "output_type": "stream",
     "text": [
      "2\n",
      "1\n",
      "2\n",
      "0\n",
      "1\n",
      "0\n"
     ]
    }
   ],
   "source": [
    "for a_probs in action_probs:\n",
    "    probs = a_probs.detach().numpy()\n",
    "    action = np.random.choice(np.arange(probs.shape[0]), p=probs)\n",
    "    print(action)"
   ]
  },
  {
   "cell_type": "code",
   "execution_count": 8,
   "metadata": {},
   "outputs": [
    {
     "data": {
      "text/plain": [
       "Discrete(2)"
      ]
     },
     "execution_count": 8,
     "metadata": {},
     "output_type": "execute_result"
    }
   ],
   "source": [
    "env_.action_space"
   ]
  },
  {
   "cell_type": "code",
   "execution_count": 6,
   "metadata": {},
   "outputs": [
    {
     "data": {
      "text/plain": [
       "True"
      ]
     },
     "execution_count": 6,
     "metadata": {},
     "output_type": "execute_result"
    }
   ],
   "source": [
    "type(env.action_space) == gym.spaces.tuple.Tuple"
   ]
  },
  {
   "cell_type": "code",
   "execution_count": 4,
   "metadata": {},
   "outputs": [],
   "source": [
    "outputs = {}\n",
    "for i, space in enumerate(env.action_space):\n",
    "    try:\n",
    "        nodes = space.n\n",
    "    except AttributeError:\n",
    "        nodes = space.shape[0]\n",
    "        \n",
    "    outputs[i] = nn.Sequential(\n",
    "        nn.Linear(128, 64),\n",
    "        nn.ELU(),\n",
    "        nn.Linear(64, nodes))"
   ]
  },
  {
   "cell_type": "code",
   "execution_count": 5,
   "metadata": {},
   "outputs": [
    {
     "data": {
      "text/plain": [
       "{0: Sequential(\n",
       "   (0): Linear(in_features=128, out_features=64, bias=True)\n",
       "   (1): ELU(alpha=1.0)\n",
       "   (2): Linear(in_features=64, out_features=5, bias=True)\n",
       " ),\n",
       " 1: Sequential(\n",
       "   (0): Linear(in_features=128, out_features=64, bias=True)\n",
       "   (1): ELU(alpha=1.0)\n",
       "   (2): Linear(in_features=64, out_features=5, bias=True)\n",
       " ),\n",
       " 2: Sequential(\n",
       "   (0): Linear(in_features=128, out_features=64, bias=True)\n",
       "   (1): ELU(alpha=1.0)\n",
       "   (2): Linear(in_features=64, out_features=5, bias=True)\n",
       " ),\n",
       " 3: Sequential(\n",
       "   (0): Linear(in_features=128, out_features=64, bias=True)\n",
       "   (1): ELU(alpha=1.0)\n",
       "   (2): Linear(in_features=64, out_features=2, bias=True)\n",
       " ),\n",
       " 4: Sequential(\n",
       "   (0): Linear(in_features=128, out_features=64, bias=True)\n",
       "   (1): ELU(alpha=1.0)\n",
       "   (2): Linear(in_features=64, out_features=2, bias=True)\n",
       " ),\n",
       " 5: Sequential(\n",
       "   (0): Linear(in_features=128, out_features=64, bias=True)\n",
       "   (1): ELU(alpha=1.0)\n",
       "   (2): Linear(in_features=64, out_features=2, bias=True)\n",
       " )}"
      ]
     },
     "execution_count": 5,
     "metadata": {},
     "output_type": "execute_result"
    }
   ],
   "source": [
    "outputs"
   ]
  },
  {
   "cell_type": "code",
   "execution_count": 69,
   "metadata": {},
   "outputs": [],
   "source": [
    "x = spaces.MultiDiscrete([env.num_directions if i < env.num_vehicles\n",
    "            else env.num_actions\n",
    "            for i in range(2*env.num_vehicles)])"
   ]
  },
  {
   "cell_type": "code",
   "execution_count": 78,
   "metadata": {},
   "outputs": [
    {
     "data": {
      "text/plain": [
       "array([2, 3, 3, 0, 0, 1])"
      ]
     },
     "execution_count": 78,
     "metadata": {},
     "output_type": "execute_result"
    }
   ],
   "source": [
    "x.sample()"
   ]
  },
  {
   "cell_type": "code",
   "execution_count": 79,
   "metadata": {},
   "outputs": [
    {
     "data": {
      "text/plain": [
       "5"
      ]
     },
     "execution_count": 79,
     "metadata": {},
     "output_type": "execute_result"
    }
   ],
   "source": [
    "env.num_directions"
   ]
  },
  {
   "cell_type": "code",
   "execution_count": null,
   "metadata": {},
   "outputs": [],
   "source": []
  }
 ],
 "metadata": {
  "kernelspec": {
   "display_name": "Python 3",
   "language": "python",
   "name": "python3"
  },
  "language_info": {
   "codemirror_mode": {
    "name": "ipython",
    "version": 3
   },
   "file_extension": ".py",
   "mimetype": "text/x-python",
   "name": "python",
   "nbconvert_exporter": "python",
   "pygments_lexer": "ipython3",
   "version": "3.6.10"
  }
 },
 "nbformat": 4,
 "nbformat_minor": 4
}
