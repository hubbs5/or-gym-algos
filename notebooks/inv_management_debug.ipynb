{
 "cells": [
  {
   "cell_type": "code",
   "execution_count": 11,
   "metadata": {},
   "outputs": [],
   "source": [
    "import or_gym\n",
    "import gym\n",
    "from gym import spaces\n",
    "import numpy as np\n",
    "import time\n",
    "import copy\n",
    "from or_gym.utils.env_config import *\n",
    "from scipy.stats import *\n",
    "# from or_gym.algos.rl_utils import create_env"
   ]
  },
  {
   "cell_type": "code",
   "execution_count": 3,
   "metadata": {},
   "outputs": [],
   "source": [
    "env_name = 'InvManagement-v0'\n",
    "env_config = {'env': env_name, \n",
    "              'mask': True}\n",
    "# env = create_env(env_name)(env_config)\n",
    "\n",
    "def create_env(config, *args, **kwargs):\n",
    "    return InvManagementMasterEnv()"
   ]
  },
  {
   "cell_type": "code",
   "execution_count": 18,
   "metadata": {},
   "outputs": [],
   "source": [
    "class InvManagementMasterEnv(gym.Env):\n",
    "\n",
    "    def __init__(self, *args, **kwargs):\n",
    "        # set default (arbitrary) values when creating environment (if no args or kwargs are given)\n",
    "        self.periods = 30\n",
    "        self.I0 = [100, 100, 200]\n",
    "        self.p = 2\n",
    "        self.r = [1.5, 1.0, 0.75, 0.5]\n",
    "        self.k = [0.10, 0.075, 0.05, 0.025]\n",
    "        self.h = [0.15, 0.10, 0.05]\n",
    "        self.c = [100, 90, 80]\n",
    "        self.L = [3, 5, 10]\n",
    "        self.backlog = True\n",
    "        self.dist = 1\n",
    "        self.dist_param = {'mu': 20}\n",
    "        self.alpha = 0.97\n",
    "        self.seed_int = 0\n",
    "        self.user_D = np.zeros(self.periods)\n",
    "        \n",
    "        # add environment configuration dictionary and keyword arguments\n",
    "        for key, value in kwargs.items():\n",
    "            setattr(self, key, value)\n",
    "        keys = ['periods','I0','p','r','k','h','c','L','backlog','dist','dist_param','alpha','seed_int','user_D']\n",
    "        for i, value in enumerate(args):\n",
    "            setattr(self, keys[i], value)\n",
    "        assign_env_config(self, kwargs)\n",
    "        \n",
    "        # input parameters\n",
    "        try:\n",
    "            self.init_inv = np.array(list(self.I0))\n",
    "        except:\n",
    "            self.init_inv = np.array([self.I0])\n",
    "        self.num_periods = self.periods\n",
    "        self.unit_price = np.append(self.p,self.r[:-1]) # cost to stage 1 is price to stage 2\n",
    "        self.unit_cost = np.array(self.r)\n",
    "        self.demand_cost = np.array(self.k)\n",
    "        self.holding_cost = np.append(self.h,0) # holding cost at last stage is 0\n",
    "        try:\n",
    "            self.supply_capacity = np.array(list(self.c))\n",
    "        except:\n",
    "            self.supply_capacity = np.array([self.c])\n",
    "        try:\n",
    "            self.lead_time = np.array(list(self.L))\n",
    "        except:\n",
    "            self.lead_time = np.array([self.L])\n",
    "        self.discount = self.alpha\n",
    "        self.user_D = np.array(list(self.user_D))\n",
    "        self.num_stages = len(self.init_inv) + 1\n",
    "        \n",
    "        #  parameters\n",
    "        #  dictionary with options for demand distributions\n",
    "        distributions = {1:poisson,\n",
    "                         2:binom,\n",
    "                         3:randint,\n",
    "                         4:geom,\n",
    "                         5:self.user_D}\n",
    "\n",
    "        # check inputs\n",
    "        assert np.all(self.init_inv) >=0, \"The initial inventory cannot be negative\"\n",
    "        try:\n",
    "            assert self.num_periods > 0, \"The number of periods must be positive. Num Periods = {}\".format(self.num_periods)\n",
    "        except TypeError:\n",
    "            print('\\n{}\\n'.format(self.num_periods))\n",
    "        assert np.all(self.unit_price >= 0), \"The sales prices cannot be negative.\"\n",
    "        assert np.all(self.unit_cost >= 0), \"The procurement costs cannot be negative.\"\n",
    "        assert np.all(self.demand_cost >= 0), \"The unfulfilled demand costs cannot be negative.\"\n",
    "        assert np.all(self.holding_cost >= 0), \"The inventory holding costs cannot be negative.\"\n",
    "        assert np.all(self.supply_capacity > 0), \"The supply capacities must be positive.\"\n",
    "        assert np.all(self.lead_time >= 0), \"The lead times cannot be negative.\"\n",
    "        assert (self.backlog == False) | (self.backlog == True), \"The backlog parameter must be a boolean.\"\n",
    "        assert self.num_stages >= 2, \"The minimum number of stages is 2. Please try again\"\n",
    "        assert len(self.unit_cost) == self.num_stages, \"The length of r is not equal to the number of stages.\"\n",
    "        assert len(self.demand_cost) == self.num_stages, \"The length of k is not equal to the number of stages.\"\n",
    "        assert len(self.holding_cost) == self.num_stages, \"The length of h is not equal to the number of stages - 1.\"\n",
    "        assert len(self.supply_capacity) == self.num_stages-1, \"The length of c is not equal to the number of stages - 1.\"\n",
    "        assert len(self.lead_time) == self.num_stages-1, \"The length of L is not equal to the number of stages - 1.\"\n",
    "        assert self.dist in [1,2,3,4,5], \"dist must be one of 1, 2, 3, 4, 5.\"\n",
    "        if self.dist < 5:\n",
    "            assert distributions[self.dist].cdf(0,**self.dist_param), \"Wrong parameters given for distribution.\"\n",
    "        else:\n",
    "            assert len(self.user_D) == self.num_periods, \"The length of the user specified distribution is not equal to the number of periods.\"\n",
    "        assert (self.alpha>0) & (self.alpha<=1), \"alpha must be in the range (0,1].\"\n",
    "        \n",
    "        # select distribution\n",
    "        self.demand_dist = distributions[self.dist]  \n",
    "        \n",
    "        # intialize\n",
    "        self.reset()\n",
    "        \n",
    "        # action space (reorder quantities for each stage; list)\n",
    "        # An action is defined for every stage (except last one)\n",
    "        self.action_space = gym.spaces.Box(\n",
    "            low=np.zeros(self.num_stages-1), high=self.supply_capacity)\n",
    "        # observation space (Inventory position at each echelon, which is any integer value)\n",
    "        self.observation_space = gym.spaces.Box(\n",
    "            low=-np.ones(self.num_stages-1)*np.Inf, \n",
    "            high=self.supply_capacity*self.num_periods)\n",
    "        \n",
    "    def reset(self):\n",
    "        periods = self.num_periods\n",
    "        m = self.num_stages\n",
    "        I0 = self.init_inv\n",
    "        \n",
    "        # simulation result lists\n",
    "        self.I=np.zeros([periods + 1, m - 1]) # inventory at the beginning of each period (last stage not included since iventory is infinite)\n",
    "        self.T=np.zeros([periods + 1, m - 1]) # pipeline inventory at the beginning of each period (no pipeline inventory for last stage)\n",
    "        self.R=np.zeros([periods, m - 1]) # replenishment order (last stage places no replenishment orders)\n",
    "        self.D=np.zeros(periods) # demand at retailer\n",
    "        self.S=np.zeros([periods, m]) # units sold\n",
    "        self.B=np.zeros([periods, m]) # backlog (includes top most production site in supply chain)\n",
    "        self.LS=np.zeros([periods, m]) # lost sales\n",
    "        self.P=np.zeros(periods) # profit\n",
    "        \n",
    "        # initializetion\n",
    "        self.period = 0 # initialize time\n",
    "        self.I[0,:]=np.array(I0) # initial inventory\n",
    "        self.T[0,:]=np.zeros(m-1) # initial pipeline inventory\n",
    "        \n",
    "        # set random generation seed (unless using user demands)\n",
    "        if self.dist < 5:\n",
    "            self.seed(self.seed_int) \n",
    "        \n",
    "        # set state\n",
    "        self._update_state()\n",
    "        \n",
    "        return self.state\n",
    "    \n",
    "    def _update_state(self):\n",
    "        n = self.period\n",
    "        m = self.num_stages\n",
    "        if n>=1:\n",
    "            IP = np.cumsum(self.I[n,:] + self.T[n,:] - self.B[n-1,:-1])\n",
    "        else:\n",
    "            IP = np.cumsum(self.I[n,:] + self.T[n,:])\n",
    "        self.state = IP"
   ]
  },
  {
   "cell_type": "code",
   "execution_count": 19,
   "metadata": {},
   "outputs": [],
   "source": [
    "env = create_env(env_config)"
   ]
  },
  {
   "cell_type": "code",
   "execution_count": 3,
   "metadata": {},
   "outputs": [
    {
     "data": {
      "text/plain": [
       "30"
      ]
     },
     "execution_count": 3,
     "metadata": {},
     "output_type": "execute_result"
    }
   ],
   "source": [
    "env.num_periods"
   ]
  },
  {
   "cell_type": "code",
   "execution_count": 6,
   "metadata": {},
   "outputs": [
    {
     "data": {
      "text/plain": [
       "array([100,  90,  80])"
      ]
     },
     "execution_count": 6,
     "metadata": {},
     "output_type": "execute_result"
    }
   ],
   "source": [
    "env.supply_capacity"
   ]
  },
  {
   "cell_type": "code",
   "execution_count": 8,
   "metadata": {},
   "outputs": [
    {
     "data": {
      "text/plain": [
       "4"
      ]
     },
     "execution_count": 8,
     "metadata": {},
     "output_type": "execute_result"
    }
   ],
   "source": [
    "env.num_stages"
   ]
  },
  {
   "cell_type": "code",
   "execution_count": 9,
   "metadata": {},
   "outputs": [
    {
     "data": {
      "text/plain": [
       "(3,)"
      ]
     },
     "execution_count": 9,
     "metadata": {},
     "output_type": "execute_result"
    }
   ],
   "source": [
    "env.observation_space.shape"
   ]
  },
  {
   "cell_type": "code",
   "execution_count": null,
   "metadata": {},
   "outputs": [],
   "source": []
  }
 ],
 "metadata": {
  "kernelspec": {
   "display_name": "Python 3",
   "language": "python",
   "name": "python3"
  },
  "language_info": {
   "codemirror_mode": {
    "name": "ipython",
    "version": 3
   },
   "file_extension": ".py",
   "mimetype": "text/x-python",
   "name": "python",
   "nbconvert_exporter": "python",
   "pygments_lexer": "ipython3",
   "version": "3.6.10"
  }
 },
 "nbformat": 4,
 "nbformat_minor": 4
}
