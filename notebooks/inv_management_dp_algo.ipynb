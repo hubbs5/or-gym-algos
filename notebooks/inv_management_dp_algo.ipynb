{
 "cells": [
  {
   "cell_type": "code",
   "execution_count": 80,
   "metadata": {},
   "outputs": [],
   "source": [
    "import or_gym\n",
    "import numpy as np\n",
    "import matplotlib.pyplot as plt\n",
    "import time\n",
    "from scipy.stats import poisson"
   ]
  },
  {
   "cell_type": "code",
   "execution_count": 174,
   "metadata": {},
   "outputs": [],
   "source": [
    "env = or_gym.make('InvManagement-v1')"
   ]
  },
  {
   "cell_type": "code",
   "execution_count": 175,
   "metadata": {},
   "outputs": [
    {
     "data": {
      "text/plain": [
       "array([100,  90,  80], dtype=int16)"
      ]
     },
     "execution_count": 175,
     "metadata": {},
     "output_type": "execute_result"
    }
   ],
   "source": [
    "env.action_space.high"
   ]
  },
  {
   "cell_type": "code",
   "execution_count": 176,
   "metadata": {},
   "outputs": [],
   "source": [
    "states = []\n",
    "while True:\n",
    "    action = env.action_space.high\n",
    "    s, r, d, _ = env.step(action)\n",
    "    states.append(s)\n",
    "    if d:\n",
    "        break"
   ]
  },
  {
   "cell_type": "code",
   "execution_count": 177,
   "metadata": {},
   "outputs": [
    {
     "data": {
      "text/plain": [
       "[array([ 79.,   0., 110.,   0.,   0.,   0.,   0.,   0.,   0.,   0.,   0.,\n",
       "          0.,   0.,   0.,   0.,   0.,   0.,   0.,   0.,   0.,   0.,   0.,\n",
       "          0.,   0.,   0.,   0.,   0.,   0.,   0.,   0., 100.,  90.,  80.]),\n",
       " array([ 58.,   0.,  20.,   0.,   0.,   0.,   0.,   0.,   0.,   0.,   0.,\n",
       "          0.,   0.,   0.,   0.,   0.,   0.,   0.,   0.,   0.,   0.,   0.,\n",
       "          0.,   0.,   0.,   0.,   0., 100.,  90.,  80., 100.,  90.,  80.]),\n",
       " array([ 39.,   0.,   0.,   0.,   0.,   0.,   0.,   0.,   0.,   0.,   0.,\n",
       "          0.,   0.,   0.,   0.,   0.,   0.,   0.,   0.,   0.,   0.,   0.,\n",
       "          0.,   0., 100.,  90.,  80., 100.,  90.,  80., 100.,  90.,  80.]),\n",
       " array([120.,   0.,   0.,   0.,   0.,   0.,   0.,   0.,   0.,   0.,   0.,\n",
       "          0.,   0.,   0.,   0.,   0.,   0.,   0.,   0.,   0.,   0., 100.,\n",
       "         90.,  80., 100.,  90.,  80., 100.,  90.,  80., 100.,  90.,  80.]),\n",
       " array([ 88.,   0.,   0.,   0.,   0.,   0.,   0.,   0.,   0.,   0.,   0.,\n",
       "          0.,   0.,   0.,   0.,   0.,   0.,   0., 100.,  90.,  80., 100.,\n",
       "         90.,  80., 100.,  90.,  80., 100.,  90.,  80., 100.,  90.,  80.]),\n",
       " array([ 64.,  90.,   0.,   0.,   0.,   0.,   0.,   0.,   0.,   0.,   0.,\n",
       "          0.,   0.,   0.,   0., 100.,  90.,  80., 100.,  90.,  80., 100.,\n",
       "         90.,  80., 100.,  90.,  80., 100.,  90.,  80., 100.,  90.,  80.]),\n",
       " array([ 52.,  90.,   0.,   0.,   0.,   0.,   0.,   0.,   0.,   0.,   0.,\n",
       "          0., 100.,  90.,  80., 100.,  90.,  80., 100.,  90.,  80., 100.,\n",
       "         90.,  80., 100.,  90.,  80., 100.,  90.,  80., 100.,  90.,  80.]),\n",
       " array([ 33.,  20.,   0.,   0.,   0.,   0.,   0.,   0.,   0., 100.,  90.,\n",
       "         80., 100.,  90.,  80., 100.,  90.,  80., 100.,  90.,  80., 100.,\n",
       "         90.,  80., 100.,  90.,  80., 100.,  90.,  80., 100.,  90.,  80.]),\n",
       " array([ 19.,   0.,   0.,   0.,   0.,   0., 100.,  90.,  80., 100.,  90.,\n",
       "         80., 100.,  90.,  80., 100.,  90.,  80., 100.,  90.,  80., 100.,\n",
       "         90.,  80., 100.,  90.,  80., 100.,  90.,  80., 100.,  90.,  80.]),\n",
       " array([ 89.,   0.,   0., 100.,  90.,  80., 100.,  90.,  80., 100.,  90.,\n",
       "         80., 100.,  90.,  80., 100.,  90.,  80., 100.,  90.,  80., 100.,\n",
       "         90.,  80., 100.,  90.,  80., 100.,  90.,  80., 100.,  90.,  80.]),\n",
       " array([162.,   0.,  80., 100.,  90.,  80., 100.,  90.,  80., 100.,  90.,\n",
       "         80., 100.,  90.,  80., 100.,  90.,  80., 100.,  90.,  80., 100.,\n",
       "         90.,  80., 100.,  90.,  80., 100.,  90.,  80., 100.,  90.,  80.]),\n",
       " array([163.,   0.,  80., 100.,  90.,  80., 100.,  90.,  80., 100.,  90.,\n",
       "         80., 100.,  90.,  80., 100.,  90.,  80., 100.,  90.,  80., 100.,\n",
       "         90.,  80., 100.,  90.,  80., 100.,  90.,  80., 100.,  90.,  80.]),\n",
       " array([142.,   0.,  80., 100.,  90.,  80., 100.,  90.,  80., 100.,  90.,\n",
       "         80., 100.,  90.,  80., 100.,  90.,  80., 100.,  90.,  80., 100.,\n",
       "         90.,  80., 100.,  90.,  80., 100.,  90.,  80., 100.,  90.,  80.]),\n",
       " array([113.,   0.,  80., 100.,  90.,  80., 100.,  90.,  80., 100.,  90.,\n",
       "         80., 100.,  90.,  80., 100.,  90.,  80., 100.,  90.,  80., 100.,\n",
       "         90.,  80., 100.,  90.,  80., 100.,  90.,  80., 100.,  90.,  80.]),\n",
       " array([ 95.,   0.,  80., 100.,  90.,  80., 100.,  90.,  80., 100.,  90.,\n",
       "         80., 100.,  90.,  80., 100.,  90.,  80., 100.,  90.,  80., 100.,\n",
       "         90.,  80., 100.,  90.,  80., 100.,  90.,  80., 100.,  90.,  80.]),\n",
       " array([ 72.,   0.,  80., 100.,  90.,  80., 100.,  90.,  80., 100.,  90.,\n",
       "         80., 100.,  90.,  80., 100.,  90.,  80., 100.,  90.,  80., 100.,\n",
       "         90.,  80., 100.,  90.,  80., 100.,  90.,  80., 100.,  90.,  80.]),\n",
       " array([ 50.,  80.,  80., 100.,  90.,  80., 100.,  90.,  80., 100.,  90.,\n",
       "         80., 100.,  90.,  80., 100.,  90.,  80., 100.,  90.,  80., 100.,\n",
       "         90.,  80., 100.,  90.,  80., 100.,  90.,  80., 100.,  90.,  80.]),\n",
       " array([ 34.,  80.,  80., 100.,  90.,  80., 100.,  90.,  80., 100.,  90.,\n",
       "         80., 100.,  90.,  80., 100.,  90.,  80., 100.,  90.,  80., 100.,\n",
       "         90.,  80., 100.,  90.,  80., 100.,  90.,  80., 100.,  90.,  80.]),\n",
       " array([ 17.,  80.,  80., 100.,  90.,  80., 100.,  90.,  80., 100.,  90.,\n",
       "         80., 100.,  90.,  80., 100.,  90.,  80., 100.,  90.,  80., 100.,\n",
       "         90.,  80., 100.,  90.,  80., 100.,  90.,  80., 100.,  90.,  80.]),\n",
       " array([  0.,  80.,  80., 100.,  90.,  80., 100.,  90.,  80., 100.,  90.,\n",
       "         80., 100.,  90.,  80., 100.,  90.,  80., 100.,  90.,  80., 100.,\n",
       "         90.,  80., 100.,  90.,  80., 100.,  90.,  80., 100.,  90.,  80.]),\n",
       " array([ 64.,  80.,  80., 100.,  90.,  80., 100.,  90.,  80., 100.,  90.,\n",
       "         80., 100.,  90.,  80., 100.,  90.,  80., 100.,  90.,  80., 100.,\n",
       "         90.,  80., 100.,  90.,  80., 100.,  90.,  80., 100.,  90.,  80.]),\n",
       " array([122.,  80.,  80., 100.,  90.,  80., 100.,  90.,  80., 100.,  90.,\n",
       "         80., 100.,  90.,  80., 100.,  90.,  80., 100.,  90.,  80., 100.,\n",
       "         90.,  80., 100.,  90.,  80., 100.,  90.,  80., 100.,  90.,  80.]),\n",
       " array([183.,  80.,  80., 100.,  90.,  80., 100.,  90.,  80., 100.,  90.,\n",
       "         80., 100.,  90.,  80., 100.,  90.,  80., 100.,  90.,  80., 100.,\n",
       "         90.,  80., 100.,  90.,  80., 100.,  90.,  80., 100.,  90.,  80.]),\n",
       " array([248.,  80.,  80., 100.,  90.,  80., 100.,  90.,  80., 100.,  90.,\n",
       "         80., 100.,  90.,  80., 100.,  90.,  80., 100.,  90.,  80., 100.,\n",
       "         90.,  80., 100.,  90.,  80., 100.,  90.,  80., 100.,  90.,  80.]),\n",
       " array([306.,  80.,  80., 100.,  90.,  80., 100.,  90.,  80., 100.,  90.,\n",
       "         80., 100.,  90.,  80., 100.,  90.,  80., 100.,  90.,  80., 100.,\n",
       "         90.,  80., 100.,  90.,  80., 100.,  90.,  80., 100.,  90.,  80.]),\n",
       " array([371.,  80.,  80., 100.,  90.,  80., 100.,  90.,  80., 100.,  90.,\n",
       "         80., 100.,  90.,  80., 100.,  90.,  80., 100.,  90.,  80., 100.,\n",
       "         90.,  80., 100.,  90.,  80., 100.,  90.,  80., 100.,  90.,  80.]),\n",
       " array([426.,  80.,  80., 100.,  90.,  80., 100.,  90.,  80., 100.,  90.,\n",
       "         80., 100.,  90.,  80., 100.,  90.,  80., 100.,  90.,  80., 100.,\n",
       "         90.,  80., 100.,  90.,  80., 100.,  90.,  80., 100.,  90.,  80.]),\n",
       " array([481.,  80.,  80., 100.,  90.,  80., 100.,  90.,  80., 100.,  90.,\n",
       "         80., 100.,  90.,  80., 100.,  90.,  80., 100.,  90.,  80., 100.,\n",
       "         90.,  80., 100.,  90.,  80., 100.,  90.,  80., 100.,  90.,  80.]),\n",
       " array([538.,  80.,  80., 100.,  90.,  80., 100.,  90.,  80., 100.,  90.,\n",
       "         80., 100.,  90.,  80., 100.,  90.,  80., 100.,  90.,  80., 100.,\n",
       "         90.,  80., 100.,  90.,  80., 100.,  90.,  80., 100.,  90.,  80.]),\n",
       " array([601.,  80.,  80., 100.,  90.,  80., 100.,  90.,  80., 100.,  90.,\n",
       "         80., 100.,  90.,  80., 100.,  90.,  80., 100.,  90.,  80., 100.,\n",
       "         90.,  80., 100.,  90.,  80., 100.,  90.,  80., 100.,  90.,  80.])]"
      ]
     },
     "execution_count": 177,
     "metadata": {},
     "output_type": "execute_result"
    }
   ],
   "source": [
    "states"
   ]
  },
  {
   "cell_type": "markdown",
   "metadata": {},
   "source": [
    "# Policy Iteration\n",
    "\n",
    "Example taken from [this page](https://www.datahubbs.com/what-is-dynamic-programming/)."
   ]
  },
  {
   "cell_type": "code",
   "execution_count": 11,
   "metadata": {},
   "outputs": [
    {
     "data": {
      "text/plain": [
       "(array([-30000, -30000, -30000, -30000, -30000, -30000, -30000, -30000,\n",
       "        -30000, -30000, -30000, -30000, -30000, -30000, -30000, -30000,\n",
       "        -30000, -30000, -30000, -30000, -30000, -30000, -30000, -30000,\n",
       "        -30000, -30000, -30000, -30000, -30000, -30000, -30000, -30000,\n",
       "        -30000], dtype=int32),\n",
       " array([3000, 3000, 3000, 3000, 3000, 3000, 3000, 3000, 3000, 3000, 3000,\n",
       "        3000, 3000, 3000, 3000, 3000, 3000, 3000, 3000, 3000, 3000, 3000,\n",
       "        3000, 3000, 3000, 3000, 3000, 3000, 3000, 3000, 3000, 3000, 3000],\n",
       "       dtype=int32))"
      ]
     },
     "execution_count": 11,
     "metadata": {},
     "output_type": "execute_result"
    }
   ],
   "source": [
    "# Policy requires np array for each action/state combination\n",
    "env.observation_space.low, env.observation_space.high,"
   ]
  },
  {
   "cell_type": "code",
   "execution_count": 92,
   "metadata": {},
   "outputs": [
    {
     "data": {
      "text/plain": [
       "array([11, 12, 13, 14, 15, 16, 17, 18, 19, 20, 21, 22, 23, 24, 25, 26, 27,\n",
       "       28, 29])"
      ]
     },
     "execution_count": 92,
     "metadata": {},
     "output_type": "execute_result"
    }
   ],
   "source": [
    "mu = 20\n",
    "demand_upper = np.min([k if poisson.cdf(k, mu) >= 0.975 else 50 for k in range(50)])\n",
    "demand_lower = np.max([k if poisson.cdf(k, mu) <= 0.025 else 0 for k in range(20)])\n",
    "demand_range = np.arange(demand_lower, demand_upper + 1)\n",
    "demand_range"
   ]
  },
  {
   "cell_type": "code",
   "execution_count": 94,
   "metadata": {},
   "outputs": [],
   "source": [
    "# Policy for retail stage without backlog\n",
    "action_range = np.arange(env.action_space.low[0], env.action_space.high[0])\n",
    "inventory_range = np.arange(env.c[0] + 1)\n",
    "# Assume uniform demand distribution from 0-10\n",
    "time_steps = 10"
   ]
  },
  {
   "cell_type": "code",
   "execution_count": 134,
   "metadata": {},
   "outputs": [],
   "source": [
    "V = np.zeros((action_range.max()+1, inventory_range.max()+1,\n",
    "                  len(demand_range), time_steps))\n",
    "# Assume instant order fulfillment\n",
    "# Set terminal state values at t_final\n",
    "\n",
    "def calculate_reward(env, inventory, demand):\n",
    "    sales = min(inventory, demand)\n",
    "    lost_sales = max(demand - inventory, 0)\n",
    "    inventory -= sales\n",
    "    time_steps = 10\n",
    "    return env.alpha**time_steps*np.sum(env.unit_price*sales - \n",
    "        (env.unit_cost + env.demand_cost*lost_sales + env.holding_cost*inventory))"
   ]
  },
  {
   "cell_type": "code",
   "execution_count": 135,
   "metadata": {},
   "outputs": [],
   "source": [
    "for i in inventory_range:\n",
    "    for idx, d in enumerate(demand_range):\n",
    "        reward = calculate_reward(env, i, d)\n",
    "        V[:, i, idx, -1] += reward"
   ]
  },
  {
   "cell_type": "code",
   "execution_count": 136,
   "metadata": {},
   "outputs": [
    {
     "data": {
      "image/png": "[encoded data removed]",
      "text/plain": [
       "<Figure size 864x576 with 2 Axes>"
      ]
     },
     "metadata": {
      "needs_background": "light"
     },
     "output_type": "display_data"
    }
   ],
   "source": [
    "dr_locs = np.array([0, 9, len(demand_range)-1])\n",
    "plt.figure(figsize=(12,8))\n",
    "plt.imshow(V[0, :, :, -1].T, cmap='inferno', interpolation='nearest')\n",
    "plt.ylabel('Demand')\n",
    "plt.xlabel('Inventory')\n",
    "plt.yticks(dr_locs, demand_range[dr_locs])\n",
    "plt.gca().invert_yaxis()\n",
    "plt.title('Values for {} at End Period'.format(env.spec.id))\n",
    "plt.colorbar(orientation='horizontal')\n",
    "plt.show()"
   ]
  },
  {
   "cell_type": "code",
   "execution_count": 138,
   "metadata": {},
   "outputs": [
    {
     "data": {
      "text/plain": [
       "109.50748284389682"
      ]
     },
     "execution_count": 138,
     "metadata": {},
     "output_type": "execute_result"
    }
   ],
   "source": [
    "V.max()"
   ]
  },
  {
   "cell_type": "code",
   "execution_count": 141,
   "metadata": {},
   "outputs": [
    {
     "data": {
      "text/plain": [
       "(array([29]), array([18]))"
      ]
     },
     "execution_count": 141,
     "metadata": {},
     "output_type": "execute_result"
    }
   ],
   "source": [
    "np.where(V[0, :, :, -1] == V.max())"
   ]
  },
  {
   "cell_type": "code",
   "execution_count": 148,
   "metadata": {},
   "outputs": [
    {
     "data": {
      "text/plain": [
       "105.63600617769845"
      ]
     },
     "execution_count": 148,
     "metadata": {},
     "output_type": "execute_result"
    }
   ],
   "source": [
    "calculate_reward(env, 28, 28)"
   ]
  },
  {
   "cell_type": "code",
   "execution_count": 149,
   "metadata": {},
   "outputs": [],
   "source": [
    "items = np.arange(7)\n",
    "values = np.array([7, 9, 5, 12, 14, 6, 12])\n",
    "time = np.array([3, 4, 2, 6, 7, 3, 5])"
   ]
  },
  {
   "cell_type": "code",
   "execution_count": 164,
   "metadata": {},
   "outputs": [],
   "source": [
    "def sort_and_pack(items, values, weights, capacity=15):\n",
    "    v_density = values/weights\n",
    "    vd_idx = np.argsort(v_density)[::-1]\n",
    "    vd_array = v_density[vd_idx]\n",
    "    kp_w, kp_v, kp_idx = [], [], []\n",
    "    while len(vd_array) > 0 and sum(kp_w) < capacity:\n",
    "        max_item = vd_idx[0].copy()\n",
    "        item_weight = weights[max_item]\n",
    "        if item_weight + sum(kp_w) <= capacity:\n",
    "            # Pack item \n",
    "            kp_w.append(item_weight)\n",
    "            kp_v.append(values[max_item])\n",
    "            kp_idx.append(max_item)\n",
    "        \n",
    "        vd_idx = vd_idx[1:].copy()\n",
    "        if len(vd_idx) == 0:\n",
    "            break\n",
    "    return kp_idx, sum(kp_v), sum(kp_w)"
   ]
  },
  {
   "cell_type": "code",
   "execution_count": 165,
   "metadata": {},
   "outputs": [
    {
     "data": {
      "text/plain": [
       "([2, 6, 0, 1], 33, 14)"
      ]
     },
     "execution_count": 165,
     "metadata": {},
     "output_type": "execute_result"
    }
   ],
   "source": [
    "sort_and_pack(items, values, time, 15)"
   ]
  },
  {
   "cell_type": "code",
   "execution_count": 158,
   "metadata": {},
   "outputs": [
    {
     "data": {
      "text/plain": [
       "array([2.33333333, 2.25      , 2.5       , 2.        , 2.        ,\n",
       "       2.        , 2.4       ])"
      ]
     },
     "execution_count": 158,
     "metadata": {},
     "output_type": "execute_result"
    }
   ],
   "source": [
    "values/time"
   ]
  },
  {
   "cell_type": "code",
   "execution_count": 166,
   "metadata": {},
   "outputs": [],
   "source": [
    "env = or_gym.make('Knapsack-v1')"
   ]
  },
  {
   "cell_type": "code",
   "execution_count": 167,
   "metadata": {},
   "outputs": [],
   "source": [
    "from or_gym.algos.knapsack.heuristics import *"
   ]
  },
  {
   "cell_type": "code",
   "execution_count": 170,
   "metadata": {},
   "outputs": [],
   "source": [
    "env.N = len(items)\n",
    "env.item_values = values.copy()\n",
    "env.item_weights = time.copy()\n",
    "env.max_weight = 15"
   ]
  },
  {
   "cell_type": "code",
   "execution_count": 172,
   "metadata": {},
   "outputs": [],
   "source": [
    "a, r = bkp_heuristic(env)"
   ]
  },
  {
   "cell_type": "code",
   "execution_count": 173,
   "metadata": {},
   "outputs": [
    {
     "data": {
      "text/plain": [
       "33"
      ]
     },
     "execution_count": 173,
     "metadata": {},
     "output_type": "execute_result"
    }
   ],
   "source": [
    "sum(r)"
   ]
  },
  {
   "cell_type": "code",
   "execution_count": null,
   "metadata": {},
   "outputs": [],
   "source": []
  }
 ],
 "metadata": {
  "kernelspec": {
   "display_name": "Python 3",
   "language": "python",
   "name": "python3"
  },
  "language_info": {
   "codemirror_mode": {
    "name": "ipython",
    "version": 3
   },
   "file_extension": ".py",
   "mimetype": "text/x-python",
   "name": "python",
   "nbconvert_exporter": "python",
   "pygments_lexer": "ipython3",
   "version": "3.7.7"
  }
 },
 "nbformat": 4,
 "nbformat_minor": 4
}
