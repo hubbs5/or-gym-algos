{
 "cells": [
  {
   "cell_type": "code",
   "execution_count": 1,
   "metadata": {},
   "outputs": [],
   "source": [
    "import numpy as np\n",
    "import or_gym\n",
    "from or_gym.algos.knapsack.heuristics import *\n",
    "from or_gym.algos.knapsack.math_prog import *\n",
    "from or_gym.algos.math_prog_utils import *\n",
    "import matplotlib.pyplot as plt\n",
    "import pandas as pd\n",
    "import time\n",
    "from pyomo.environ import *\n",
    "%matplotlib inline"
   ]
  },
  {
   "cell_type": "markdown",
   "metadata": {},
   "source": [
    "# Instantiate Unbounded Knapsack Model\n",
    "\n",
    "Baseline model generates weights as random integers from $[1, 20]$ and values from $[0, 30]$."
   ]
  },
  {
   "cell_type": "code",
   "execution_count": 5,
   "metadata": {},
   "outputs": [],
   "source": [
    "env_config = {'mask': True}\n",
    "env0 = or_gym.make('Knapsack-v0', env_config=env_config) # Unbounded\n",
    "env1 = or_gym.make('Knapsack-v1', env_config=env_config) # Binary\n",
    "env2 = or_gym.make('Knapsack-v2') # Bounded\n",
    "env3 = or_gym.make('Knapsack-v3') # Online"
   ]
  },
  {
   "cell_type": "code",
   "execution_count": 6,
   "metadata": {},
   "outputs": [
    {
     "data": {
      "text/plain": [
       "({'action_mask': array([1, 1, 1, 1, 1, 1, 1, 1, 1, 1, 1, 1, 1, 1, 1, 1, 1, 1, 1, 1, 1, 1,\n",
       "         1, 1, 1, 1, 1, 0, 1, 1, 1, 1, 1, 1, 1, 1, 1, 1, 1, 1, 1, 1, 1, 1,\n",
       "         1, 1, 1, 1, 1, 1, 1, 1, 1, 1, 1, 1, 1, 1, 1, 1, 1, 1, 1, 1, 1, 1,\n",
       "         1, 1, 1, 1, 1, 1, 1, 1, 1, 1, 1, 1, 1, 1, 1, 1, 1, 1, 1, 1, 1, 1,\n",
       "         1, 1, 1, 1, 1, 1, 1, 1, 1, 1, 1, 1, 1, 1, 1, 1, 1, 1, 1, 1, 1, 1,\n",
       "         1, 1, 1, 1, 1, 1, 1, 1, 1, 1, 1, 1, 1, 1, 1, 1, 1, 1, 1, 1, 1, 1,\n",
       "         1, 1, 1, 1, 1, 1, 1, 1, 1, 1, 1, 1, 1, 1, 1, 1, 1, 1, 1, 1, 1, 1,\n",
       "         1, 1, 1, 1, 1, 1, 1, 1, 1, 1, 1, 1, 1, 1, 1, 1, 1, 1, 1, 1, 1, 1,\n",
       "         1, 1, 1, 1, 1, 1, 1, 1, 1, 1, 1, 1, 1, 1, 1, 1, 1, 1, 1, 1, 1, 1,\n",
       "         1, 1]),\n",
       "  'avail_actions': array([1., 1., 1., 1., 1., 1., 1., 1., 1., 1., 1., 1., 1., 1., 1., 1., 1.,\n",
       "         1., 1., 1., 1., 1., 1., 1., 1., 1., 1., 1., 1., 1., 1., 1., 1., 1.,\n",
       "         1., 1., 1., 1., 1., 1., 1., 1., 1., 1., 1., 1., 1., 1., 1., 1., 1.,\n",
       "         1., 1., 1., 1., 1., 1., 1., 1., 1., 1., 1., 1., 1., 1., 1., 1., 1.,\n",
       "         1., 1., 1., 1., 1., 1., 1., 1., 1., 1., 1., 1., 1., 1., 1., 1., 1.,\n",
       "         1., 1., 1., 1., 1., 1., 1., 1., 1., 1., 1., 1., 1., 1., 1., 1., 1.,\n",
       "         1., 1., 1., 1., 1., 1., 1., 1., 1., 1., 1., 1., 1., 1., 1., 1., 1.,\n",
       "         1., 1., 1., 1., 1., 1., 1., 1., 1., 1., 1., 1., 1., 1., 1., 1., 1.,\n",
       "         1., 1., 1., 1., 1., 1., 1., 1., 1., 1., 1., 1., 1., 1., 1., 1., 1.,\n",
       "         1., 1., 1., 1., 1., 1., 1., 1., 1., 1., 1., 1., 1., 1., 1., 1., 1.,\n",
       "         1., 1., 1., 1., 1., 1., 1., 1., 1., 1., 1., 1., 1., 1., 1., 1., 1.,\n",
       "         1., 1., 1., 1., 1., 1., 1., 1., 1., 1., 1., 1., 1.]),\n",
       "  'state': array([[ 18.,  64.,  79.,  30.,  79.,  33.,  69.,  87.,  17.,  56.,  95.,\n",
       "            5.,  88.,  39.,  18.,  80.,  59.,   9.,  71.,  80.,  85.,  44.,\n",
       "           78.,  88.,   2.,  40.,  96.,  99.,  18.,  99.,  56.,  64.,  49.,\n",
       "           90.,  18.,  52.,  44.,  57.,  60.,  33.,   3.,  22.,  14.,  74.,\n",
       "           11.,   2.,  23.,   8.,  90.,  17.,  44.,   0.,  29.,  80.,  50.,\n",
       "            9.,  28.,  19.,  15.,  32.,  82.,  98.,  91.,  41.,  73.,  35.,\n",
       "           69.,   3.,  80.,   0.,  35.,  97.,  26.,  66.,  47.,   0.,  21.,\n",
       "           27.,  66.,  91.,  54.,  73.,  79.,  86.,  63.,   3.,  35.,  60.,\n",
       "           68.,  33.,  84.,  40.,  84.,  46.,  39.,  15.,  21.,  98.,  93.,\n",
       "           92.,  46.,  49.,  26.,  90.,  44.,  89.,  34.,  13.,  52.,  56.,\n",
       "           24.,  18.,  77.,  46.,  98.,  67.,  66.,  74.,  40.,   5.,  44.,\n",
       "           49.,  61.,  54.,  89.,  87.,  75.,  58.,  51.,  22.,  41.,  54.,\n",
       "           50.,  93.,   1.,  17.,  93.,  21.,  52.,  99.,  94.,  57.,  90.,\n",
       "           49.,  58.,  41.,  16.,  54.,  60.,  70.,  71.,  34.,  37.,  43.,\n",
       "           77.,  89.,  20.,  40.,  82.,  17.,  26.,  92.,  72.,  44.,  37.,\n",
       "            2.,  14.,  45.,  46.,  31.,  18.,  73.,  28.,  62.,  33.,  40.,\n",
       "           18.,  72.,  13.,  26.,  44.,  69.,  47.,  71.,  65.,  54.,  71.,\n",
       "           92.,  29.,  96.,  71.,  72.,  51.,  82.,  95.,  87.,  73.,  79.,\n",
       "           37.,  51., 200.],\n",
       "         [ 56.,  26.,  52.,  29.,  29.,  36.,  38.,  80.,  86.,   5.,  91.,\n",
       "           56.,  50.,  86.,  13.,  22.,  24.,  69.,  16.,  77.,  81.,  87.,\n",
       "           16.,  48.,  94.,  62.,  16.,  51.,  10.,  56.,  72.,  25.,  49.,\n",
       "            5.,  82.,  40.,  54.,  66.,  24.,  88.,  38.,  99.,  32.,  89.,\n",
       "           53.,  81.,  26.,  17.,  10.,   2.,  72.,  57.,  60.,  73.,  92.,\n",
       "           35.,  98.,  12.,  14.,  96.,   6.,  22.,  60.,  15.,  83.,  90.,\n",
       "           27.,  33.,  22.,  37.,   5.,   1.,  32.,  75.,  86.,  29.,  86.,\n",
       "           29.,  81.,  62.,  67.,   4.,  49.,  10.,  56.,  67.,  44.,   2.,\n",
       "           48.,  41.,  85.,  25.,  61.,  82.,   5.,  16.,  98.,  70.,  90.,\n",
       "           65.,  57.,  61.,  66.,  64.,  24.,  64.,  12.,  88.,  88.,  70.,\n",
       "           14.,  54.,  60.,   1.,  18.,  42.,  12.,   9.,  27.,  33.,  54.,\n",
       "           17.,  93.,  99.,  52.,  16.,  33.,  78.,  47.,  78.,  92.,  63.,\n",
       "           57.,  86.,   8.,  65.,  33.,  44.,  43.,  49.,  10.,  60.,  74.,\n",
       "            3.,  30.,  85.,  33.,  46.,   0.,   8.,   1.,  88.,  96.,  52.,\n",
       "           11.,   9.,  37.,  54.,  61.,  78.,  43.,  86.,  24.,  23.,  38.,\n",
       "           84.,  86.,  97.,  50.,  27.,  55.,  51.,  41.,   4.,  37.,  16.,\n",
       "           67.,  30.,  64.,  13.,  51.,  33.,   3.,  60.,  23.,  47.,  66.,\n",
       "           63.,   2.,  14.,   4.,  90.,  23.,  82.,  42.,  72.,  73.,  47.,\n",
       "           62.,  90.,  99.],\n",
       "         [  1.,   1.,   1.,   1.,   1.,   1.,   1.,   1.,   1.,   1.,   1.,\n",
       "            1.,   1.,   1.,   1.,   1.,   1.,   1.,   1.,   1.,   1.,   1.,\n",
       "            1.,   1.,   1.,   1.,   1.,   0.,   1.,   1.,   1.,   1.,   1.,\n",
       "            1.,   1.,   1.,   1.,   1.,   1.,   1.,   1.,   1.,   1.,   1.,\n",
       "            1.,   1.,   1.,   1.,   1.,   1.,   1.,   1.,   1.,   1.,   1.,\n",
       "            1.,   1.,   1.,   1.,   1.,   1.,   1.,   1.,   1.,   1.,   1.,\n",
       "            1.,   1.,   1.,   1.,   1.,   1.,   1.,   1.,   1.,   1.,   1.,\n",
       "            1.,   1.,   1.,   1.,   1.,   1.,   1.,   1.,   1.,   1.,   1.,\n",
       "            1.,   1.,   1.,   1.,   1.,   1.,   1.,   1.,   1.,   1.,   1.,\n",
       "            1.,   1.,   1.,   1.,   1.,   1.,   1.,   1.,   1.,   1.,   1.,\n",
       "            1.,   1.,   1.,   1.,   1.,   1.,   1.,   1.,   1.,   1.,   1.,\n",
       "            1.,   1.,   1.,   1.,   1.,   1.,   1.,   1.,   1.,   1.,   1.,\n",
       "            1.,   1.,   1.,   1.,   1.,   1.,   1.,   1.,   1.,   1.,   1.,\n",
       "            1.,   1.,   1.,   1.,   1.,   1.,   1.,   1.,   1.,   1.,   1.,\n",
       "            1.,   1.,   1.,   1.,   1.,   1.,   1.,   1.,   1.,   1.,   1.,\n",
       "            1.,   1.,   1.,   1.,   1.,   1.,   1.,   1.,   1.,   1.,   1.,\n",
       "            1.,   1.,   1.,   1.,   1.,   1.,   1.,   1.,   1.,   1.,   1.,\n",
       "            1.,   1.,   1.,   1.,   1.,   1.,   1.,   1.,   1.,   1.,   1.,\n",
       "            1.,   1.,   0.]])},\n",
       " 51,\n",
       " False,\n",
       " {})"
      ]
     },
     "execution_count": 6,
     "metadata": {},
     "output_type": "execute_result"
    }
   ],
   "source": [
    "env1.step(27)"
   ]
  },
  {
   "cell_type": "markdown",
   "metadata": {},
   "source": [
    "#### IP Model"
   ]
  },
  {
   "cell_type": "code",
   "execution_count": 5,
   "metadata": {},
   "outputs": [
    {
     "name": "stdout",
     "output_type": "stream",
     "text": [
      "IP Objective: 10400.00\n",
      "x_i = 200_2\n"
     ]
    }
   ],
   "source": [
    "model = build_ukp_ip_model(env0)\n",
    "model, results = solve_math_program(model)\n",
    "\n",
    "print(\"IP Objective: {:.2f}\".format(model.obj.expr()))\n",
    "_ = [print(\"x_i = {:.0f}_{}\".format(model.x[x].value, i)) \n",
    "     for i, x in enumerate(model.x) if model.x[x].value != 0]"
   ]
  },
  {
   "cell_type": "code",
   "execution_count": 6,
   "metadata": {},
   "outputs": [
    {
     "name": "stdout",
     "output_type": "stream",
     "text": [
      "IP Objective: 1488.00\n",
      "x_i = 1_8\n",
      "x_i = 1_11\n",
      "x_i = 1_17\n",
      "x_i = 1_24\n",
      "x_i = 1_34\n",
      "x_i = 1_40\n",
      "x_i = 1_41\n",
      "x_i = 1_45\n",
      "x_i = 1_51\n",
      "x_i = 1_55\n",
      "x_i = 1_67\n",
      "x_i = 1_69\n",
      "x_i = 1_75\n",
      "x_i = 1_76\n",
      "x_i = 1_85\n",
      "x_i = 1_96\n",
      "x_i = 1_107\n",
      "x_i = 1_119\n",
      "x_i = 1_134\n",
      "x_i = 1_159\n",
      "x_i = 1_165\n",
      "x_i = 1_166\n",
      "x_i = 1_178\n"
     ]
    }
   ],
   "source": [
    "model = build_bin_ip_model(env1)\n",
    "model, results = solve_math_program(model)\n",
    "\n",
    "print(\"IP Objective: {:.2f}\".format(model.obj.expr()))\n",
    "_ = [print(\"x_i = {:.0f}_{}\".format(model.x[x].value, i)) \n",
    "     for i, x in enumerate(model.x) if model.x[x].value != 0]"
   ]
  },
  {
   "cell_type": "code",
   "execution_count": 7,
   "metadata": {},
   "outputs": [
    {
     "name": "stdout",
     "output_type": "stream",
     "text": [
      "IP Objective: 2696.00\n",
      "x_i = 2_1\n",
      "x_i = 4_2\n",
      "x_i = 9_11\n",
      "x_i = 2_34\n",
      "x_i = 2_39\n",
      "x_i = 4_56\n",
      "x_i = 6_76\n",
      "x_i = 1_77\n",
      "x_i = 1_103\n",
      "x_i = 5_122\n",
      "x_i = 2_187\n"
     ]
    }
   ],
   "source": [
    "model = build_bkp_ip_model(env2)\n",
    "model, results = solve_math_program(model)\n",
    "\n",
    "print(\"IP Objective: {:.2f}\".format(model.obj.expr()))\n",
    "_ = [print(\"x_i = {:.0f}_{}\".format(model.x[x].value, i)) \n",
    "     for i, x in enumerate(model.x) if model.x[x].value != 0]"
   ]
  },
  {
   "cell_type": "code",
   "execution_count": 8,
   "metadata": {},
   "outputs": [
    {
     "name": "stdout",
     "output_type": "stream",
     "text": [
      "IP Objective: 591.00\n",
      "x_i = 1_0\n",
      "x_i = 1_1\n",
      "x_i = 1_2\n",
      "x_i = 1_3\n",
      "x_i = 1_6\n",
      "x_i = 1_7\n",
      "x_i = 1_8\n",
      "x_i = 1_9\n",
      "x_i = 1_10\n",
      "x_i = 1_12\n",
      "x_i = 1_14\n",
      "x_i = 1_15\n",
      "x_i = 1_17\n",
      "x_i = 1_20\n",
      "x_i = 1_22\n",
      "x_i = 1_24\n",
      "x_i = 1_26\n",
      "x_i = 1_28\n",
      "x_i = 1_31\n",
      "x_i = 1_32\n",
      "x_i = 1_34\n",
      "x_i = 1_35\n",
      "x_i = 1_36\n",
      "x_i = 1_40\n",
      "x_i = 1_41\n",
      "x_i = 1_42\n",
      "x_i = 1_43\n",
      "x_i = 1_44\n",
      "x_i = 1_45\n",
      "x_i = 1_48\n",
      "x_i = 1_49\n"
     ]
    }
   ],
   "source": [
    "model = build_okp_ip_model(env3)\n",
    "model, results = solve_math_program(model)\n",
    "\n",
    "print(\"IP Objective: {:.2f}\".format(model.obj.expr()))\n",
    "_ = [print(\"x_i = {:.0f}_{}\".format(model.x[x].value, i)) \n",
    "     for i, x in enumerate(model.x) if model.x[x].value != 0]"
   ]
  },
  {
   "cell_type": "code",
   "execution_count": 30,
   "metadata": {},
   "outputs": [],
   "source": [
    "env0.item_weights = np.random.randint(1, 100, 200)"
   ]
  },
  {
   "cell_type": "code",
   "execution_count": 32,
   "metadata": {},
   "outputs": [
    {
     "data": {
      "text/plain": [
       "array([66,  2,  1, 42, 90, 69, 76, 86, 92, 73, 62,  5, 63, 30, 59, 41, 86,\n",
       "       35, 82, 83, 66, 44, 44, 21, 70, 35, 22, 36, 32, 13, 42, 14, 44, 19,\n",
       "        3, 91, 74, 72, 94, 10, 99, 32, 67, 91, 60, 46, 45, 31, 90, 92, 81,\n",
       "       45, 28, 24, 72, 90, 11, 95, 70, 97, 46, 29, 67, 75, 12, 12, 33, 41,\n",
       "       88, 77, 74, 37, 74, 57, 50, 28,  4,  2, 53, 58, 29, 61, 33, 77, 57,\n",
       "       21, 77, 94, 35, 18, 96, 63, 59, 41, 94, 54, 90, 65, 49, 93, 14, 14,\n",
       "       28,  5, 87, 29, 51, 73, 44, 15, 96, 63, 10, 89, 75, 90, 36, 67, 40,\n",
       "       51, 22, 44,  8, 44, 61, 17, 46, 73, 56, 27, 23, 72, 20, 31, 41, 11,\n",
       "       92, 17, 88, 35, 68, 87, 62, 31,  2, 69, 75, 86, 43, 59, 22, 11, 95,\n",
       "       76, 22,  6, 14, 58, 25, 31, 25, 81, 68, 40, 38, 58, 30, 20, 44, 65,\n",
       "       84, 35, 26, 57, 14, 74, 39, 57, 87, 40, 76, 30, 14, 17, 71, 67, 34,\n",
       "        3, 34, 55, 39, 35, 86, 73, 85, 91, 17, 59, 79, 54])"
      ]
     },
     "execution_count": 32,
     "metadata": {},
     "output_type": "execute_result"
    }
   ],
   "source": [
    "env0.item_values"
   ]
  },
  {
   "cell_type": "code",
   "execution_count": 33,
   "metadata": {},
   "outputs": [],
   "source": [
    "def build_ukp_ip_model(env):\n",
    "    env.item_weights \n",
    "    # Initialize model\n",
    "    m = ConcreteModel()\n",
    "\n",
    "    # Sets, parameters, and variables\n",
    "    m.W = env.max_weight\n",
    "    m.i = Set(initialize=env.item_numbers)\n",
    "    m.w = Param(m.i, \n",
    "        initialize={i: j for i, j in zip(env.item_numbers, env.item_weights)})\n",
    "    m.v = Param(m.i, \n",
    "        initialize={i: j for i, j in zip(env.item_numbers, env.item_values)})\n",
    "    m.x = Var(m.i, within=NonNegativeReals)\n",
    "\n",
    "    @m.Constraint()\n",
    "    def weight_constraint(m):\n",
    "        return sum(m.w[i] * m.x[i] for i in m.i) - m.W <= 0\n",
    "\n",
    "    m.obj = Objective(expr=(\n",
    "        sum([m.v[i] * m.x[i] for i in m.i])),\n",
    "        sense=maximize)\n",
    "    \n",
    "    return m"
   ]
  },
  {
   "cell_type": "code",
   "execution_count": 34,
   "metadata": {},
   "outputs": [
    {
     "data": {
      "text/plain": [
       "{'Problem': [{'Name': 'unknown', 'Lower bound': 17200.0, 'Upper bound': 17200.0, 'Number of objectives': 1, 'Number of constraints': 2, 'Number of variables': 201, 'Number of nonzeros': 201, 'Sense': 'maximize'}], 'Solver': [{'Status': 'ok', 'Termination condition': 'optimal', 'Statistics': {'Branch and bound': {'Number of bounded subproblems': 0, 'Number of created subproblems': 0}}, 'Error rc': 0, 'Time': 0.013911008834838867}], 'Solution': [OrderedDict([('number of solutions', 0), ('number of solutions displayed', 0)])]}"
      ]
     },
     "execution_count": 34,
     "metadata": {},
     "output_type": "execute_result"
    }
   ],
   "source": [
    "model = build_ukp_ip_model(env0)\n",
    "model, results = solve_math_program(model)\n",
    "results"
   ]
  },
  {
   "cell_type": "code",
   "execution_count": 35,
   "metadata": {},
   "outputs": [
    {
     "data": {
      "text/plain": [
       "[0.0,\n",
       " 0.0,\n",
       " 0.0,\n",
       " 0.0,\n",
       " 0.0,\n",
       " 0.0,\n",
       " 0.0,\n",
       " 0.0,\n",
       " 0.0,\n",
       " 0.0,\n",
       " 0.0,\n",
       " 0.0,\n",
       " 0.0,\n",
       " 0.0,\n",
       " 0.0,\n",
       " 0.0,\n",
       " 200.0,\n",
       " 0.0,\n",
       " 0.0,\n",
       " 0.0,\n",
       " 0.0,\n",
       " 0.0,\n",
       " 0.0,\n",
       " 0.0,\n",
       " 0.0,\n",
       " 0.0,\n",
       " 0.0,\n",
       " 0.0,\n",
       " 0.0,\n",
       " 0.0,\n",
       " 0.0,\n",
       " 0.0,\n",
       " 0.0,\n",
       " 0.0,\n",
       " 0.0,\n",
       " 0.0,\n",
       " 0.0,\n",
       " 0.0,\n",
       " 0.0,\n",
       " 0.0,\n",
       " 0.0,\n",
       " 0.0,\n",
       " 0.0,\n",
       " 0.0,\n",
       " 0.0,\n",
       " 0.0,\n",
       " 0.0,\n",
       " 0.0,\n",
       " 0.0,\n",
       " 0.0,\n",
       " 0.0,\n",
       " 0.0,\n",
       " 0.0,\n",
       " 0.0,\n",
       " 0.0,\n",
       " 0.0,\n",
       " 0.0,\n",
       " 0.0,\n",
       " 0.0,\n",
       " 0.0,\n",
       " 0.0,\n",
       " 0.0,\n",
       " 0.0,\n",
       " 0.0,\n",
       " 0.0,\n",
       " 0.0,\n",
       " 0.0,\n",
       " 0.0,\n",
       " 0.0,\n",
       " 0.0,\n",
       " 0.0,\n",
       " 0.0,\n",
       " 0.0,\n",
       " 0.0,\n",
       " 0.0,\n",
       " 0.0,\n",
       " 0.0,\n",
       " 0.0,\n",
       " 0.0,\n",
       " 0.0,\n",
       " 0.0,\n",
       " 0.0,\n",
       " 0.0,\n",
       " 0.0,\n",
       " 0.0,\n",
       " 0.0,\n",
       " 0.0,\n",
       " 0.0,\n",
       " 0.0,\n",
       " 0.0,\n",
       " 0.0,\n",
       " 0.0,\n",
       " 0.0,\n",
       " 0.0,\n",
       " 0.0,\n",
       " 0.0,\n",
       " 0.0,\n",
       " 0.0,\n",
       " 0.0,\n",
       " 0.0,\n",
       " 0.0,\n",
       " 0.0,\n",
       " 0.0,\n",
       " 0.0,\n",
       " 0.0,\n",
       " 0.0,\n",
       " 0.0,\n",
       " 0.0,\n",
       " 0.0,\n",
       " 0.0,\n",
       " 0.0,\n",
       " 0.0,\n",
       " 0.0,\n",
       " 0.0,\n",
       " 0.0,\n",
       " 0.0,\n",
       " 0.0,\n",
       " 0.0,\n",
       " 0.0,\n",
       " 0.0,\n",
       " 0.0,\n",
       " 0.0,\n",
       " 0.0,\n",
       " 0.0,\n",
       " 0.0,\n",
       " 0.0,\n",
       " 0.0,\n",
       " 0.0,\n",
       " 0.0,\n",
       " 0.0,\n",
       " 0.0,\n",
       " 0.0,\n",
       " 0.0,\n",
       " 0.0,\n",
       " 0.0,\n",
       " 0.0,\n",
       " 0.0,\n",
       " 0.0,\n",
       " 0.0,\n",
       " 0.0,\n",
       " 0.0,\n",
       " 0.0,\n",
       " 0.0,\n",
       " 0.0,\n",
       " 0.0,\n",
       " 0.0,\n",
       " 0.0,\n",
       " 0.0,\n",
       " 0.0,\n",
       " 0.0,\n",
       " 0.0,\n",
       " 0.0,\n",
       " 0.0,\n",
       " 0.0,\n",
       " 0.0,\n",
       " 0.0,\n",
       " 0.0,\n",
       " 0.0,\n",
       " 0.0,\n",
       " 0.0,\n",
       " 0.0,\n",
       " 0.0,\n",
       " 0.0,\n",
       " 0.0,\n",
       " 0.0,\n",
       " 0.0,\n",
       " 0.0,\n",
       " 0.0,\n",
       " 0.0,\n",
       " 0.0,\n",
       " 0.0,\n",
       " 0.0,\n",
       " 0.0,\n",
       " 0.0,\n",
       " 0.0,\n",
       " 0.0,\n",
       " 0.0,\n",
       " 0.0,\n",
       " 0.0,\n",
       " 0.0,\n",
       " 0.0,\n",
       " 0.0,\n",
       " 0.0,\n",
       " 0.0,\n",
       " 0.0,\n",
       " 0.0,\n",
       " 0.0,\n",
       " 0.0,\n",
       " 0.0,\n",
       " 0.0,\n",
       " 0.0,\n",
       " 0.0,\n",
       " 0.0,\n",
       " 0.0,\n",
       " 0.0,\n",
       " 0.0,\n",
       " 0.0,\n",
       " 0.0,\n",
       " 0.0,\n",
       " 0.0]"
      ]
     },
     "execution_count": 35,
     "metadata": {},
     "output_type": "execute_result"
    }
   ],
   "source": [
    "[model.x[i].value for i in model.x]"
   ]
  },
  {
   "cell_type": "code",
   "execution_count": 10,
   "metadata": {},
   "outputs": [
    {
     "data": {
      "text/plain": [
       "{'Problem': [{'Name': 'unknown', 'Lower bound': 1528.0, 'Upper bound': 1528.0, 'Number of objectives': 1, 'Number of constraints': 202, 'Number of variables': 201, 'Number of nonzeros': 398, 'Sense': 'maximize'}], 'Solver': [{'Status': 'ok', 'Termination condition': 'optimal', 'Statistics': {'Branch and bound': {'Number of bounded subproblems': '39', 'Number of created subproblems': '39'}}, 'Error rc': 0, 'Time': 0.018499374389648438}], 'Solution': [OrderedDict([('number of solutions', 0), ('number of solutions displayed', 0)])]}"
      ]
     },
     "execution_count": 10,
     "metadata": {},
     "output_type": "execute_result"
    }
   ],
   "source": [
    "model = build_bkp_ip_model(env1)\n",
    "model, results = solve_math_program(model)\n",
    "results"
   ]
  },
  {
   "cell_type": "code",
   "execution_count": 12,
   "metadata": {},
   "outputs": [
    {
     "data": {
      "text/plain": [
       "{'Problem': [{'Name': 'unknown', 'Lower bound': 1839.0, 'Upper bound': 1839.0, 'Number of objectives': 1, 'Number of constraints': 2, 'Number of variables': 201, 'Number of nonzeros': 200, 'Sense': 'maximize'}], 'Solver': [{'Status': 'ok', 'Termination condition': 'optimal', 'Statistics': {'Branch and bound': {'Number of bounded subproblems': '5', 'Number of created subproblems': '5'}}, 'Error rc': 0, 'Time': 0.012799978256225586}], 'Solution': [OrderedDict([('number of solutions', 0), ('number of solutions displayed', 0)])]}"
      ]
     },
     "execution_count": 12,
     "metadata": {},
     "output_type": "execute_result"
    }
   ],
   "source": [
    "model = build_bin_ip_model(env0)\n",
    "model, results = solve_math_program(model)\n",
    "results"
   ]
  },
  {
   "cell_type": "code",
   "execution_count": 21,
   "metadata": {},
   "outputs": [
    {
     "data": {
      "text/plain": [
       "(200,)"
      ]
     },
     "execution_count": 21,
     "metadata": {},
     "output_type": "execute_result"
    }
   ],
   "source": [
    "env.item_weights.shape"
   ]
  },
  {
   "cell_type": "code",
   "execution_count": 24,
   "metadata": {},
   "outputs": [
    {
     "data": {
      "text/plain": [
       "200"
      ]
     },
     "execution_count": 24,
     "metadata": {},
     "output_type": "execute_result"
    }
   ],
   "source": [
    "env.max_weight"
   ]
  },
  {
   "cell_type": "code",
   "execution_count": 6,
   "metadata": {},
   "outputs": [
    {
     "name": "stdout",
     "output_type": "stream",
     "text": [
      "ERROR: evaluating object as numeric value: x[0]\n",
      "        (object: <class 'pyomo.core.base.var._GeneralVarData'>)\n",
      "    No value for uninitialized NumericValue object x[0]\n"
     ]
    },
    {
     "ename": "ValueError",
     "evalue": "No value for uninitialized NumericValue object x[0]",
     "output_type": "error",
     "traceback": [
      "\u001b[0;31m---------------------------------------------------------------------------\u001b[0m",
      "\u001b[0;31mValueError\u001b[0m                                Traceback (most recent call last)",
      "\u001b[0;32m<ipython-input-6-6f0bc54e299a>\u001b[0m in \u001b[0;36m<module>\u001b[0;34m\u001b[0m\n\u001b[1;32m      2\u001b[0m \u001b[0mmodel\u001b[0m\u001b[0;34m,\u001b[0m \u001b[0mresults\u001b[0m \u001b[0;34m=\u001b[0m \u001b[0msolve_math_program\u001b[0m\u001b[0;34m(\u001b[0m\u001b[0mmodel\u001b[0m\u001b[0;34m)\u001b[0m\u001b[0;34m\u001b[0m\u001b[0;34m\u001b[0m\u001b[0m\n\u001b[1;32m      3\u001b[0m \u001b[0;34m\u001b[0m\u001b[0m\n\u001b[0;32m----> 4\u001b[0;31m \u001b[0mprint\u001b[0m\u001b[0;34m(\u001b[0m\u001b[0;34m\"IP Objective: {:.2f}\"\u001b[0m\u001b[0;34m.\u001b[0m\u001b[0mformat\u001b[0m\u001b[0;34m(\u001b[0m\u001b[0mmodel\u001b[0m\u001b[0;34m.\u001b[0m\u001b[0mobj\u001b[0m\u001b[0;34m.\u001b[0m\u001b[0mexpr\u001b[0m\u001b[0;34m(\u001b[0m\u001b[0;34m)\u001b[0m\u001b[0;34m)\u001b[0m\u001b[0;34m)\u001b[0m\u001b[0;34m\u001b[0m\u001b[0;34m\u001b[0m\u001b[0m\n\u001b[0m\u001b[1;32m      5\u001b[0m _ = [print(\"x_i = {:.0f}_{}\".format(model.x[x].value, i)) \n\u001b[1;32m      6\u001b[0m      for i, x in enumerate(model.x) if model.x[x].value != 0]\n",
      "\u001b[0;32m~/anaconda3/lib/python3.6/site-packages/pyomo/core/expr/expr_pyomo5.py\u001b[0m in \u001b[0;36m__call__\u001b[0;34m(self, exception)\u001b[0m\n\u001b[1;32m   1591\u001b[0m             \u001b[0mThe\u001b[0m \u001b[0mvalue\u001b[0m \u001b[0mof\u001b[0m \u001b[0mthe\u001b[0m \u001b[0mexpression\u001b[0m \u001b[0;32mor\u001b[0m \u001b[0;34m:\u001b[0m\u001b[0mconst\u001b[0m\u001b[0;34m:\u001b[0m\u001b[0;31m`\u001b[0m\u001b[0;32mNone\u001b[0m\u001b[0;31m`\u001b[0m\u001b[0;34m.\u001b[0m\u001b[0;34m\u001b[0m\u001b[0;34m\u001b[0m\u001b[0m\n\u001b[1;32m   1592\u001b[0m         \"\"\"\n\u001b[0;32m-> 1593\u001b[0;31m         \u001b[0;32mreturn\u001b[0m \u001b[0mevaluate_expression\u001b[0m\u001b[0;34m(\u001b[0m\u001b[0mself\u001b[0m\u001b[0;34m,\u001b[0m \u001b[0mexception\u001b[0m\u001b[0;34m)\u001b[0m\u001b[0;34m\u001b[0m\u001b[0;34m\u001b[0m\u001b[0m\n\u001b[0m\u001b[1;32m   1594\u001b[0m \u001b[0;34m\u001b[0m\u001b[0m\n\u001b[1;32m   1595\u001b[0m     \u001b[0;32mdef\u001b[0m \u001b[0m__str__\u001b[0m\u001b[0;34m(\u001b[0m\u001b[0mself\u001b[0m\u001b[0;34m)\u001b[0m\u001b[0;34m:\u001b[0m\u001b[0;34m\u001b[0m\u001b[0;34m\u001b[0m\u001b[0m\n",
      "\u001b[0;32m~/anaconda3/lib/python3.6/site-packages/pyomo/core/expr/expr_pyomo5.py\u001b[0m in \u001b[0;36mevaluate_expression\u001b[0;34m(exp, exception, constant)\u001b[0m\n\u001b[1;32m   1157\u001b[0m         \u001b[0mvisitor\u001b[0m \u001b[0;34m=\u001b[0m \u001b[0m_EvaluationVisitor\u001b[0m\u001b[0;34m(\u001b[0m\u001b[0;34m)\u001b[0m\u001b[0;34m\u001b[0m\u001b[0;34m\u001b[0m\u001b[0m\n\u001b[1;32m   1158\u001b[0m     \u001b[0;32mtry\u001b[0m\u001b[0;34m:\u001b[0m\u001b[0;34m\u001b[0m\u001b[0;34m\u001b[0m\u001b[0m\n\u001b[0;32m-> 1159\u001b[0;31m         \u001b[0;32mreturn\u001b[0m \u001b[0mvisitor\u001b[0m\u001b[0;34m.\u001b[0m\u001b[0mdfs_postorder_stack\u001b[0m\u001b[0;34m(\u001b[0m\u001b[0mexp\u001b[0m\u001b[0;34m)\u001b[0m\u001b[0;34m\u001b[0m\u001b[0;34m\u001b[0m\u001b[0m\n\u001b[0m\u001b[1;32m   1160\u001b[0m \u001b[0;34m\u001b[0m\u001b[0m\n\u001b[1;32m   1161\u001b[0m     \u001b[0;32mexcept\u001b[0m \u001b[0mNonConstantExpressionError\u001b[0m\u001b[0;34m:\u001b[0m  \u001b[0;31m#pragma: no cover\u001b[0m\u001b[0;34m\u001b[0m\u001b[0;34m\u001b[0m\u001b[0m\n",
      "\u001b[0;32m~/anaconda3/lib/python3.6/site-packages/pyomo/core/expr/expr_pyomo5.py\u001b[0m in \u001b[0;36mdfs_postorder_stack\u001b[0;34m(self, node)\u001b[0m\n\u001b[1;32m    702\u001b[0m                 \u001b[0m_sub\u001b[0m \u001b[0;34m=\u001b[0m \u001b[0m_argList\u001b[0m\u001b[0;34m[\u001b[0m\u001b[0m_idx\u001b[0m\u001b[0;34m]\u001b[0m\u001b[0;34m\u001b[0m\u001b[0;34m\u001b[0m\u001b[0m\n\u001b[1;32m    703\u001b[0m                 \u001b[0m_idx\u001b[0m \u001b[0;34m+=\u001b[0m \u001b[0;36m1\u001b[0m\u001b[0;34m\u001b[0m\u001b[0;34m\u001b[0m\u001b[0m\n\u001b[0;32m--> 704\u001b[0;31m                 \u001b[0mflag\u001b[0m\u001b[0;34m,\u001b[0m \u001b[0mvalue\u001b[0m \u001b[0;34m=\u001b[0m \u001b[0mself\u001b[0m\u001b[0;34m.\u001b[0m\u001b[0mvisiting_potential_leaf\u001b[0m\u001b[0;34m(\u001b[0m\u001b[0m_sub\u001b[0m\u001b[0;34m)\u001b[0m\u001b[0;34m\u001b[0m\u001b[0;34m\u001b[0m\u001b[0m\n\u001b[0m\u001b[1;32m    705\u001b[0m                 \u001b[0;32mif\u001b[0m \u001b[0mflag\u001b[0m\u001b[0;34m:\u001b[0m\u001b[0;34m\u001b[0m\u001b[0;34m\u001b[0m\u001b[0m\n\u001b[1;32m    706\u001b[0m                     \u001b[0m_result\u001b[0m\u001b[0;34m.\u001b[0m\u001b[0mappend\u001b[0m\u001b[0;34m(\u001b[0m \u001b[0mvalue\u001b[0m \u001b[0;34m)\u001b[0m\u001b[0;34m\u001b[0m\u001b[0;34m\u001b[0m\u001b[0m\n",
      "\u001b[0;32m~/anaconda3/lib/python3.6/site-packages/pyomo/core/expr/expr_pyomo5.py\u001b[0m in \u001b[0;36mvisiting_potential_leaf\u001b[0;34m(self, node)\u001b[0m\n\u001b[1;32m   1077\u001b[0m \u001b[0;34m\u001b[0m\u001b[0m\n\u001b[1;32m   1078\u001b[0m         \u001b[0;32mif\u001b[0m \u001b[0mnode\u001b[0m\u001b[0;34m.\u001b[0m\u001b[0mis_variable_type\u001b[0m\u001b[0;34m(\u001b[0m\u001b[0;34m)\u001b[0m\u001b[0;34m:\u001b[0m\u001b[0;34m\u001b[0m\u001b[0;34m\u001b[0m\u001b[0m\n\u001b[0;32m-> 1079\u001b[0;31m             \u001b[0;32mreturn\u001b[0m \u001b[0;32mTrue\u001b[0m\u001b[0;34m,\u001b[0m \u001b[0mvalue\u001b[0m\u001b[0;34m(\u001b[0m\u001b[0mnode\u001b[0m\u001b[0;34m)\u001b[0m\u001b[0;34m\u001b[0m\u001b[0;34m\u001b[0m\u001b[0m\n\u001b[0m\u001b[1;32m   1080\u001b[0m \u001b[0;34m\u001b[0m\u001b[0m\n\u001b[1;32m   1081\u001b[0m         \u001b[0;32mif\u001b[0m \u001b[0;32mnot\u001b[0m \u001b[0mnode\u001b[0m\u001b[0;34m.\u001b[0m\u001b[0mis_expression_type\u001b[0m\u001b[0;34m(\u001b[0m\u001b[0;34m)\u001b[0m\u001b[0;34m:\u001b[0m\u001b[0;34m\u001b[0m\u001b[0;34m\u001b[0m\u001b[0m\n",
      "\u001b[0;32m~/anaconda3/lib/python3.6/site-packages/pyomo/core/expr/numvalue.py\u001b[0m in \u001b[0;36mvalue\u001b[0;34m(obj, exception)\u001b[0m\n\u001b[1;32m    227\u001b[0m                 raise ValueError(\n\u001b[1;32m    228\u001b[0m                     \u001b[0;34m\"No value for uninitialized NumericValue object %s\"\u001b[0m\u001b[0;34m\u001b[0m\u001b[0;34m\u001b[0m\u001b[0m\n\u001b[0;32m--> 229\u001b[0;31m                     % (obj.name,))\n\u001b[0m\u001b[1;32m    230\u001b[0m             \u001b[0;32mreturn\u001b[0m \u001b[0mtmp\u001b[0m\u001b[0;34m\u001b[0m\u001b[0;34m\u001b[0m\u001b[0m\n\u001b[1;32m    231\u001b[0m         \u001b[0;32mexcept\u001b[0m \u001b[0mTemplateExpressionError\u001b[0m\u001b[0;34m:\u001b[0m\u001b[0;34m\u001b[0m\u001b[0;34m\u001b[0m\u001b[0m\n",
      "\u001b[0;31mValueError\u001b[0m: No value for uninitialized NumericValue object x[0]"
     ]
    }
   ],
   "source": [
    "model = build_ukp_ip_model(env)\n",
    "model, results = solve_math_program(model)\n",
    "\n",
    "print(\"IP Objective: {:.2f}\".format(model.obj.expr()))\n",
    "_ = [print(\"x_i = {:.0f}_{}\".format(model.x[x].value, i)) \n",
    "     for i, x in enumerate(model.x) if model.x[x].value != 0]"
   ]
  },
  {
   "cell_type": "code",
   "execution_count": 4,
   "metadata": {},
   "outputs": [
    {
     "name": "stdout",
     "output_type": "stream",
     "text": [
      "Heuristic Objective: 5600.00\n",
      "x_i = 200_188\n"
     ]
    }
   ],
   "source": [
    "heur_actions, heur_rewards = ukp_heuristic(env)\n",
    "x_h = np.unique(heur_actions)\n",
    "i_h = len(heur_actions)\n",
    "print(\"Heuristic Objective: {:.2f}\".format(sum(heur_rewards)))\n",
    "print(\"x_i = {}_{}\".format(i_h, x_h[0]))"
   ]
  },
  {
   "cell_type": "code",
   "execution_count": 5,
   "metadata": {},
   "outputs": [],
   "source": [
    "# Get data from Beasley\n",
    "url = 'http://people.brunel.ac.uk/~mastjjb/jeb/orlib/files/mdmkp_ct9.txt'\n",
    "data = pd.read_csv(url)"
   ]
  },
  {
   "cell_type": "code",
   "execution_count": 6,
   "metadata": {},
   "outputs": [
    {
     "data": {
      "text/html": [
       "<div>\n",
       "<style scoped>\n",
       "    .dataframe tbody tr th:only-of-type {\n",
       "        vertical-align: middle;\n",
       "    }\n",
       "\n",
       "    .dataframe tbody tr th {\n",
       "        vertical-align: top;\n",
       "    }\n",
       "\n",
       "    .dataframe thead th {\n",
       "        text-align: right;\n",
       "    }\n",
       "</style>\n",
       "<table border=\"1\" class=\"dataframe\">\n",
       "  <thead>\n",
       "    <tr style=\"text-align: right;\">\n",
       "      <th></th>\n",
       "      <th>15</th>\n",
       "    </tr>\n",
       "  </thead>\n",
       "  <tbody>\n",
       "    <tr>\n",
       "      <th>0</th>\n",
       "      <td>500 30</td>\n",
       "    </tr>\n",
       "    <tr>\n",
       "      <th>1</th>\n",
       "      <td>462 691 941 638 63 1000 39 84 520 425 982 642 ...</td>\n",
       "    </tr>\n",
       "    <tr>\n",
       "      <th>2</th>\n",
       "      <td>531 845 506 64 211 464 387 76 451 913 651 503 ...</td>\n",
       "    </tr>\n",
       "    <tr>\n",
       "      <th>3</th>\n",
       "      <td>729 702 263 408 480 453 392 737 75 557 818 858...</td>\n",
       "    </tr>\n",
       "    <tr>\n",
       "      <th>4</th>\n",
       "      <td>170 367 460 355 250 401 323 643 375 26 882 368...</td>\n",
       "    </tr>\n",
       "    <tr>\n",
       "      <th>...</th>\n",
       "      <td>...</td>\n",
       "    </tr>\n",
       "    <tr>\n",
       "      <th>1030</th>\n",
       "      <td>720 567 853 253 578 595 465 711 558 459 787 34...</td>\n",
       "    </tr>\n",
       "    <tr>\n",
       "      <th>1031</th>\n",
       "      <td>366 646 444 603 514 169 521 345 458 370 672 57...</td>\n",
       "    </tr>\n",
       "    <tr>\n",
       "      <th>1032</th>\n",
       "      <td>357 718 657 173 284 681 -426 494 315 282 82 12...</td>\n",
       "    </tr>\n",
       "    <tr>\n",
       "      <th>1033</th>\n",
       "      <td>-83 417 620 -59 -143 -67 -100 481 223 -115 374...</td>\n",
       "    </tr>\n",
       "    <tr>\n",
       "      <th>1034</th>\n",
       "      <td>283 -225 -9 -256 514 -213 502 -106 -97 -251 30...</td>\n",
       "    </tr>\n",
       "  </tbody>\n",
       "</table>\n",
       "<p>1035 rows × 1 columns</p>\n",
       "</div>"
      ],
      "text/plain": [
       "                                                     15\n",
       "0                                               500 30 \n",
       "1     462 691 941 638 63 1000 39 84 520 425 982 642 ...\n",
       "2     531 845 506 64 211 464 387 76 451 913 651 503 ...\n",
       "3     729 702 263 408 480 453 392 737 75 557 818 858...\n",
       "4     170 367 460 355 250 401 323 643 375 26 882 368...\n",
       "...                                                 ...\n",
       "1030  720 567 853 253 578 595 465 711 558 459 787 34...\n",
       "1031  366 646 444 603 514 169 521 345 458 370 672 57...\n",
       "1032  357 718 657 173 284 681 -426 494 315 282 82 12...\n",
       "1033  -83 417 620 -59 -143 -67 -100 481 223 -115 374...\n",
       "1034  283 -225 -9 -256 514 -213 502 -106 -97 -251 30...\n",
       "\n",
       "[1035 rows x 1 columns]"
      ]
     },
     "execution_count": 6,
     "metadata": {},
     "output_type": "execute_result"
    }
   ],
   "source": [
    "data"
   ]
  },
  {
   "cell_type": "code",
   "execution_count": 9,
   "metadata": {},
   "outputs": [
    {
     "data": {
      "text/plain": [
       "array([  0,   1,   2,   3,   4,   5,   6,   7,   8,   9,  10,  11,  12,\n",
       "        13,  14,  15,  16,  17,  18,  19,  20,  21,  22,  23,  24,  25,\n",
       "        26,  27,  28,  29,  30,  31,  32,  33,  34,  35,  36,  37,  38,\n",
       "        39,  40,  41,  42,  43,  44,  45,  46,  47,  48,  49,  50,  51,\n",
       "        52,  53,  54,  55,  56,  57,  58,  59,  60,  61,  62,  63,  64,\n",
       "        65,  66,  67,  68,  69,  70,  71,  72,  73,  74,  75,  76,  77,\n",
       "        78,  79,  80,  81,  82,  83,  84,  85,  86,  87,  88,  89,  90,\n",
       "        91,  92,  93,  94,  95,  96,  97,  98,  99, 100, 101, 102, 103,\n",
       "       104, 105, 106, 107, 108, 109, 110, 111, 112, 113, 114, 115, 116,\n",
       "       117, 118, 119, 120, 121, 122, 123, 124, 125, 126, 127, 128, 129,\n",
       "       130, 131, 132, 133, 134, 135, 136, 137, 138, 139, 140, 141, 142,\n",
       "       143, 144, 145, 146, 147, 148, 149, 150, 151, 152, 153, 154, 155,\n",
       "       156, 157, 158, 159, 160, 161, 162, 163, 164, 165, 166, 167, 168,\n",
       "       169, 170, 171, 172, 173, 174, 175, 176, 177, 178, 179, 180, 181,\n",
       "       182, 183, 184, 185, 186, 187, 188, 189, 190, 191, 192, 193, 194,\n",
       "       195, 196, 197, 198, 199])"
      ]
     },
     "execution_count": 9,
     "metadata": {},
     "output_type": "execute_result"
    }
   ],
   "source": [
    "env.item_numbers"
   ]
  },
  {
   "cell_type": "code",
   "execution_count": 43,
   "metadata": {},
   "outputs": [
    {
     "name": "stdout",
     "output_type": "stream",
     "text": [
      "100 parameters found in 4.3 seconds.\n",
      "200 parameters found in 8.9 seconds.\n",
      "300 parameters found in 13.8 seconds.\n",
      "400 parameters found in 18.6 seconds.\n",
      "500 parameters found in 23.6 seconds.\n",
      "600 parameters found in 28.2 seconds.\n",
      "700 parameters found in 32.6 seconds.\n",
      "800 parameters found in 36.9 seconds.\n",
      "900 parameters found in 41.5 seconds.\n",
      "1000 parameters found in 45.7 seconds.\n",
      "1100 parameters found in 50.8 seconds.\n",
      "1200 parameters found in 55.4 seconds.\n",
      "1300 parameters found in 60.0 seconds.\n",
      "1400 parameters found in 65.0 seconds.\n",
      "1500 parameters found in 69.3 seconds.\n",
      "1600 parameters found in 74.2 seconds.\n",
      "1700 parameters found in 79.5 seconds.\n",
      "1800 parameters found in 85.3 seconds.\n",
      "1900 parameters found in 90.2 seconds.\n",
      "2000 parameters found in 95.1 seconds.\n",
      "2100 parameters found in 99.8 seconds.\n",
      "2200 parameters found in 104.7 seconds.\n",
      "2300 parameters found in 110.6 seconds.\n",
      "2400 parameters found in 115.1 seconds.\n",
      "2500 parameters found in 120.2 seconds.\n",
      "2600 parameters found in 125.4 seconds.\n",
      "2700 parameters found in 130.5 seconds.\n",
      "2800 parameters found in 135.4 seconds.\n",
      "2900 parameters found in 140.6 seconds.\n",
      "3000 parameters found in 146.8 seconds.\n",
      "3100 parameters found in 151.9 seconds.\n",
      "3200 parameters found in 156.8 seconds.\n",
      "3300 parameters found in 161.6 seconds.\n",
      "3400 parameters found in 166.6 seconds.\n",
      "3500 parameters found in 172.6 seconds.\n",
      "3600 parameters found in 177.2 seconds.\n",
      "3700 parameters found in 182.3 seconds.\n",
      "3800 parameters found in 187.4 seconds.\n",
      "3900 parameters found in 192.3 seconds.\n",
      "4000 parameters found in 197.6 seconds.\n",
      "4100 parameters found in 202.8 seconds.\n",
      "4200 parameters found in 207.6 seconds.\n",
      "4300 parameters found in 212.6 seconds.\n",
      "4400 parameters found in 217.8 seconds.\n",
      "4500 parameters found in 222.5 seconds.\n",
      "4600 parameters found in 227.2 seconds.\n",
      "4700 parameters found in 231.8 seconds.\n",
      "4800 parameters found in 236.2 seconds.\n",
      "4900 parameters found in 240.8 seconds.\n",
      "5000 parameters found in 245.5 seconds.\n"
     ]
    }
   ],
   "source": [
    "weights, values, total_rewards = [], [], []\n",
    "env = or_gym.make('Knapsack-v1')\n",
    "count = 0\n",
    "samples = 0\n",
    "t0 = time.time()\n",
    "while len(weights) < 5000:\n",
    "    env.item_values = np.random.randint(0, 100, env.N)\n",
    "    env.item_weights = np.random.randint(1, 100, env.N)\n",
    "    env.item_limits_init = np.ones(env.N)\n",
    "    env.reset()\n",
    "    # Solve IP\n",
    "    model = build_ukp_ip_model(env)\n",
    "    model, results = solve_math_program(model)\n",
    "    # Solve with Heuristic\n",
    "    heur_actions, heur_rewards = bkp_heuristic(env)\n",
    "    \n",
    "    tot_h_rewards = sum(heur_rewards)\n",
    "    samples += 1\n",
    "    if tot_h_rewards != model.obj.expr():\n",
    "        weights.append(env.item_weights.copy())\n",
    "        values.append(env.item_values.copy())\n",
    "        total_rewards.append((model.obj.expr(), tot_h_rewards))\n",
    "        count += 1\n",
    "        if count % 100 == 0 and count > 0:\n",
    "            print(\"{} parameters found in {:.1f} seconds.\".format(count, time.time() - t0))"
   ]
  },
  {
   "cell_type": "code",
   "execution_count": 44,
   "metadata": {},
   "outputs": [
    {
     "name": "stdout",
     "output_type": "stream",
     "text": [
      "Max diff = 3.59%, sample_n = 4166\n",
      "Non-optimal rate: 64.33%\n"
     ]
    }
   ],
   "source": [
    "r = np.vstack(total_rewards).T\n",
    "assert sum(r[0]>r[1]) == count\n",
    "m = (r[0] - r[1]).argmax()\n",
    "print(\"Max diff = {:.2f}%, sample_n = {}\".format((1 - r[1, m]/r[0, m])*100, m))\n",
    "print(\"Non-optimal rate: {:.2f}%\".format(count/samples*100))"
   ]
  },
  {
   "cell_type": "code",
   "execution_count": 46,
   "metadata": {},
   "outputs": [
    {
     "data": {
      "text/plain": [
       "array([18, 64, 79, 30, 79, 33, 69, 87, 17, 56, 95,  5, 88, 39, 18, 80, 59,\n",
       "        9, 71, 80, 85, 44, 78, 88,  2, 40, 96, 99, 18, 99, 56, 64, 49, 90,\n",
       "       18, 52, 44, 57, 60, 33,  3, 22, 14, 74, 11,  2, 23,  8, 90, 17, 44,\n",
       "        0, 29, 80, 50,  9, 28, 19, 15, 32, 82, 98, 91, 41, 73, 35, 69,  3,\n",
       "       80,  0, 35, 97, 26, 66, 47,  0, 21, 27, 66, 91, 54, 73, 79, 86, 63,\n",
       "        3, 35, 60, 68, 33, 84, 40, 84, 46, 39, 15, 21, 98, 93, 92, 46, 49,\n",
       "       26, 90, 44, 89, 34, 13, 52, 56, 24, 18, 77, 46, 98, 67, 66, 74, 40,\n",
       "        5, 44, 49, 61, 54, 89, 87, 75, 58, 51, 22, 41, 54, 50, 93,  1, 17,\n",
       "       93, 21, 52, 99, 94, 57, 90, 49, 58, 41, 16, 54, 60, 70, 71, 34, 37,\n",
       "       43, 77, 89, 20, 40, 82, 17, 26, 92, 72, 44, 37,  2, 14, 45, 46, 31,\n",
       "       18, 73, 28, 62, 33, 40, 18, 72, 13, 26, 44, 69, 47, 71, 65, 54, 71,\n",
       "       92, 29, 96, 71, 72, 51, 82, 95, 87, 73, 79, 37, 51])"
      ]
     },
     "execution_count": 46,
     "metadata": {},
     "output_type": "execute_result"
    }
   ],
   "source": [
    "values[m]"
   ]
  },
  {
   "cell_type": "code",
   "execution_count": 51,
   "metadata": {},
   "outputs": [
    {
     "name": "stdout",
     "output_type": "stream",
     "text": [
      "100 parameters found in 6.9 seconds.\n",
      "200 parameters found in 13.5 seconds.\n",
      "300 parameters found in 20.4 seconds.\n",
      "400 parameters found in 27.4 seconds.\n",
      "500 parameters found in 34.5 seconds.\n",
      "600 parameters found in 42.2 seconds.\n",
      "700 parameters found in 49.0 seconds.\n",
      "800 parameters found in 55.3 seconds.\n",
      "900 parameters found in 62.5 seconds.\n",
      "1000 parameters found in 70.9 seconds.\n",
      "1100 parameters found in 78.6 seconds.\n",
      "1200 parameters found in 86.3 seconds.\n",
      "1300 parameters found in 92.8 seconds.\n",
      "1400 parameters found in 100.1 seconds.\n",
      "1500 parameters found in 106.9 seconds.\n",
      "1600 parameters found in 114.5 seconds.\n",
      "1700 parameters found in 121.8 seconds.\n",
      "1800 parameters found in 128.9 seconds.\n",
      "1900 parameters found in 136.0 seconds.\n",
      "2000 parameters found in 144.5 seconds.\n",
      "2100 parameters found in 151.2 seconds.\n",
      "2200 parameters found in 159.1 seconds.\n",
      "2300 parameters found in 166.6 seconds.\n",
      "2400 parameters found in 174.0 seconds.\n",
      "2500 parameters found in 181.4 seconds.\n",
      "2600 parameters found in 189.6 seconds.\n",
      "2700 parameters found in 198.0 seconds.\n",
      "2800 parameters found in 205.8 seconds.\n",
      "2900 parameters found in 213.3 seconds.\n",
      "3000 parameters found in 221.4 seconds.\n",
      "3100 parameters found in 228.5 seconds.\n",
      "3200 parameters found in 236.7 seconds.\n",
      "3300 parameters found in 244.3 seconds.\n",
      "3400 parameters found in 251.7 seconds.\n",
      "3500 parameters found in 258.8 seconds.\n",
      "3600 parameters found in 266.7 seconds.\n",
      "3700 parameters found in 275.2 seconds.\n",
      "3800 parameters found in 283.5 seconds.\n",
      "3900 parameters found in 292.2 seconds.\n",
      "4000 parameters found in 299.2 seconds.\n",
      "4100 parameters found in 308.3 seconds.\n",
      "4200 parameters found in 315.6 seconds.\n",
      "4300 parameters found in 322.4 seconds.\n",
      "4400 parameters found in 330.1 seconds.\n",
      "4500 parameters found in 337.7 seconds.\n",
      "4600 parameters found in 347.9 seconds.\n",
      "4700 parameters found in 355.9 seconds.\n",
      "4800 parameters found in 363.1 seconds.\n",
      "4900 parameters found in 370.8 seconds.\n",
      "5000 parameters found in 378.3 seconds.\n",
      "Max diff = 2.56%, sample_n = 1429\n",
      "Non-optimal rate: 60.00%\n"
     ]
    }
   ],
   "source": [
    "# BKP\n",
    "weights, values, limits, total_rewards = [], [], [], []\n",
    "env = or_gym.make('Knapsack-v1')\n",
    "count = 0\n",
    "samples = 0\n",
    "t0 = time.time()\n",
    "while len(weights) < 5000:\n",
    "    env.item_values = np.random.randint(0, 100, env.N)\n",
    "    env.item_weights = np.random.randint(1, 100, env.N)\n",
    "    env.item_limits_init = np.random.randint(0, 10, env.N)\n",
    "    env.reset()\n",
    "    # Solve IP\n",
    "    model = build_bkp_ip_model(env)\n",
    "    model, results = solve_math_program(model)\n",
    "    # Solve with Heuristic\n",
    "    heur_actions, heur_rewards = bkp_heuristic(env)\n",
    "    \n",
    "    tot_h_rewards = sum(heur_rewards)\n",
    "    samples += 1\n",
    "    if tot_h_rewards != model.obj.expr():\n",
    "        weights.append(env.item_weights.copy())\n",
    "        values.append(env.item_values.copy())\n",
    "        limits.append(env.item_limits_init.copy())\n",
    "        total_rewards.append((model.obj.expr(), tot_h_rewards))\n",
    "        count += 1\n",
    "        if count % 100 == 0 and count > 0:\n",
    "            print(\"{} parameters found in {:.1f} seconds.\".format(count, time.time() - t0))\n",
    "            \n",
    "r = np.vstack(total_rewards).T\n",
    "assert sum(r[0]>r[1]) == count\n",
    "m = (r[0] - r[1]).argmax()\n",
    "print(\"Max diff = {:.2f}%, sample_n = {}\".format((1 - r[1, m]/r[0, m])*100, m))\n",
    "print(\"Non-optimal rate: {:.2f}%\".format(count/samples*100))"
   ]
  },
  {
   "cell_type": "code",
   "execution_count": 52,
   "metadata": {},
   "outputs": [
    {
     "data": {
      "text/plain": [
       "array([66,  2,  1, 42, 90, 69, 76, 86, 92, 73, 62,  5, 63, 30, 59, 41, 86,\n",
       "       35, 82, 83, 66, 44, 44, 21, 70, 35, 22, 36, 32, 13, 42, 14, 44, 19,\n",
       "        3, 91, 74, 72, 94, 10, 99, 32, 67, 91, 60, 46, 45, 31, 90, 92, 81,\n",
       "       45, 28, 24, 72, 90, 11, 95, 70, 97, 46, 29, 67, 75, 12, 12, 33, 41,\n",
       "       88, 77, 74, 37, 74, 57, 50, 28,  4,  2, 53, 58, 29, 61, 33, 77, 57,\n",
       "       21, 77, 94, 35, 18, 96, 63, 59, 41, 94, 54, 90, 65, 49, 93, 14, 14,\n",
       "       28,  5, 87, 29, 51, 73, 44, 15, 96, 63, 10, 89, 75, 90, 36, 67, 40,\n",
       "       51, 22, 44,  8, 44, 61, 17, 46, 73, 56, 27, 23, 72, 20, 31, 41, 11,\n",
       "       92, 17, 88, 35, 68, 87, 62, 31,  2, 69, 75, 86, 43, 59, 22, 11, 95,\n",
       "       76, 22,  6, 14, 58, 25, 31, 25, 81, 68, 40, 38, 58, 30, 20, 44, 65,\n",
       "       84, 35, 26, 57, 14, 74, 39, 57, 87, 40, 76, 30, 14, 17, 71, 67, 34,\n",
       "        3, 34, 55, 39, 35, 86, 73, 85, 91, 17, 59, 79, 54])"
      ]
     },
     "execution_count": 52,
     "metadata": {},
     "output_type": "execute_result"
    }
   ],
   "source": [
    "weights[m]"
   ]
  },
  {
   "cell_type": "code",
   "execution_count": 53,
   "metadata": {},
   "outputs": [
    {
     "data": {
      "text/plain": [
       "array([56, 26, 52, 29, 29, 36, 38, 80, 86,  5, 91, 56, 50, 86, 13, 22, 24,\n",
       "       69, 16, 77, 81, 87, 16, 48, 94, 62, 16, 51, 10, 56, 72, 25, 49,  5,\n",
       "       82, 40, 54, 66, 24, 88, 38, 99, 32, 89, 53, 81, 26, 17, 10,  2, 72,\n",
       "       57, 60, 73, 92, 35, 98, 12, 14, 96,  6, 22, 60, 15, 83, 90, 27, 33,\n",
       "       22, 37,  5,  1, 32, 75, 86, 29, 86, 29, 81, 62, 67,  4, 49, 10, 56,\n",
       "       67, 44,  2, 48, 41, 85, 25, 61, 82,  5, 16, 98, 70, 90, 65, 57, 61,\n",
       "       66, 64, 24, 64, 12, 88, 88, 70, 14, 54, 60,  1, 18, 42, 12,  9, 27,\n",
       "       33, 54, 17, 93, 99, 52, 16, 33, 78, 47, 78, 92, 63, 57, 86,  8, 65,\n",
       "       33, 44, 43, 49, 10, 60, 74,  3, 30, 85, 33, 46,  0,  8,  1, 88, 96,\n",
       "       52, 11,  9, 37, 54, 61, 78, 43, 86, 24, 23, 38, 84, 86, 97, 50, 27,\n",
       "       55, 51, 41,  4, 37, 16, 67, 30, 64, 13, 51, 33,  3, 60, 23, 47, 66,\n",
       "       63,  2, 14,  4, 90, 23, 82, 42, 72, 73, 47, 62, 90])"
      ]
     },
     "execution_count": 53,
     "metadata": {},
     "output_type": "execute_result"
    }
   ],
   "source": [
    "values[m]"
   ]
  },
  {
   "cell_type": "code",
   "execution_count": 54,
   "metadata": {},
   "outputs": [
    {
     "data": {
      "text/plain": [
       "array([2, 2, 4, 1, 2, 9, 6, 1, 5, 0, 3, 9, 0, 7, 7, 2, 5, 4, 6, 0, 6, 5,\n",
       "       5, 5, 4, 4, 9, 9, 7, 3, 9, 2, 4, 6, 2, 2, 9, 1, 8, 4, 1, 3, 6, 8,\n",
       "       2, 9, 0, 3, 4, 5, 9, 4, 4, 3, 3, 4, 8, 7, 1, 1, 3, 9, 2, 0, 7, 0,\n",
       "       8, 2, 1, 5, 6, 1, 8, 2, 4, 9, 6, 1, 9, 8, 0, 3, 4, 2, 1, 7, 8, 1,\n",
       "       2, 6, 5, 7, 4, 4, 5, 8, 7, 9, 0, 6, 4, 6, 6, 1, 1, 0, 8, 5, 7, 2,\n",
       "       5, 8, 0, 9, 5, 0, 3, 9, 3, 9, 6, 5, 5, 1, 8, 4, 8, 4, 8, 4, 9, 0,\n",
       "       7, 3, 4, 8, 2, 8, 5, 4, 5, 6, 3, 3, 0, 4, 6, 6, 1, 3, 4, 1, 7, 5,\n",
       "       2, 5, 2, 0, 6, 4, 2, 5, 8, 9, 6, 9, 5, 1, 3, 8, 1, 4, 6, 8, 4, 5,\n",
       "       4, 5, 6, 6, 4, 1, 3, 9, 7, 0, 1, 2, 5, 7, 7, 8, 7, 0, 6, 4, 4, 5,\n",
       "       5, 0])"
      ]
     },
     "execution_count": 54,
     "metadata": {},
     "output_type": "execute_result"
    }
   ],
   "source": [
    "limits[m]"
   ]
  },
  {
   "cell_type": "code",
   "execution_count": null,
   "metadata": {},
   "outputs": [],
   "source": [
    "# UKP\n",
    "weights, values, total_rewards = [], [], []\n",
    "env = or_gym.make('Knapsack-v1')\n",
    "count = 0\n",
    "samples = 0\n",
    "t0 = time.time()\n",
    "while len(weights) < 5000:\n",
    "    env.item_values = np.random.randint(0, 100, env.N)\n",
    "    env.item_weights = np.random.randint(1, 100, env.N)\n",
    "    env.item_limits_init = np.random.randint(0, 10, env.N)\n",
    "    env.reset()\n",
    "    # Solve IP\n",
    "    model = build_bkp_ip_model(env)\n",
    "    model, results = solve_math_program(model)\n",
    "    # Solve with Heuristic\n",
    "    heur_actions, heur_rewards = bkp_heuristic(env)\n",
    "    \n",
    "    tot_h_rewards = sum(heur_rewards)\n",
    "    samples += 1\n",
    "    if tot_h_rewards != model.obj.expr():\n",
    "        weights.append(env.item_weights.copy())\n",
    "        values.append(env.item_values.copy())\n",
    "        total_rewards.append((model.obj.expr(), tot_h_rewards))\n",
    "        count += 1\n",
    "        if count % 100 == 0 and count > 0:\n",
    "            print(\"{} parameters found in {:.1f} seconds.\".format(count, time.time() - t0))\n",
    "            \n",
    "r = np.vstack(total_rewards).T\n",
    "assert sum(r[0]>r[1]) == count\n",
    "m = (r[0] - r[1]).argmax()\n",
    "print(\"Max diff = {:.2f}%, sample_n = {}\".format((1 - r[1, m]/r[0, m])*100, m))\n",
    "print(\"Non-optimal rate: {:.2f}%\".format(count/samples*100))"
   ]
  },
  {
   "cell_type": "code",
   "execution_count": 6,
   "metadata": {},
   "outputs": [
    {
     "name": "stdout",
     "output_type": "stream",
     "text": [
      "IP Objective: 1700.00\n",
      "x_i = 1_1\n",
      "x_i = 1_9\n",
      "x_i = 1_13\n",
      "x_i = 1_17\n",
      "x_i = 1_25\n",
      "x_i = 1_32\n",
      "x_i = 1_45\n",
      "x_i = 1_54\n",
      "x_i = 1_57\n",
      "x_i = 1_79\n",
      "x_i = 1_83\n",
      "x_i = 1_88\n",
      "x_i = 1_120\n",
      "x_i = 1_127\n",
      "x_i = 1_129\n",
      "x_i = 1_146\n",
      "x_i = 1_161\n",
      "x_i = 1_165\n",
      "x_i = 1_171\n",
      "x_i = 1_177\n",
      "x_i = 1_178\n",
      "x_i = 1_190\n",
      "x_i = 1_195\n",
      "x_i = 1_197\n",
      "\t\n",
      "Heuristic Objective: 1696.00\n",
      "x_i = 1_1\n",
      "x_i = 1_13\n",
      "x_i = 1_17\n",
      "x_i = 1_25\n",
      "x_i = 1_32\n",
      "x_i = 1_45\n",
      "x_i = 1_54\n",
      "x_i = 1_57\n",
      "x_i = 1_79\n",
      "x_i = 1_88\n",
      "x_i = 1_120\n",
      "x_i = 1_127\n",
      "x_i = 1_129\n",
      "x_i = 1_146\n",
      "x_i = 1_150\n",
      "x_i = 1_161\n",
      "x_i = 1_163\n",
      "x_i = 1_165\n",
      "x_i = 1_171\n",
      "x_i = 1_177\n",
      "x_i = 1_178\n",
      "x_i = 1_190\n",
      "x_i = 1_195\n",
      "x_i = 1_197\n",
      "199\n"
     ]
    }
   ],
   "source": [
    "# Try new settings for weights and values\n",
    "env = or_gym.make('Knapsack-v1')\n",
    "env.item_values = np.random.randint(0, 100, env.N)\n",
    "env.item_weights = np.random.randint(1, 100, env.N)\n",
    "# env.item_values = np.array([15, 100, 90, 60, 40, 15, 10, 1])\n",
    "# env.item_weights = np.array([2, 20, 20, 30, 40, 30, 60, 10])\n",
    "# env.N = len(env.item_values)\n",
    "# env.item_numbers = np.arange(env.N)\n",
    "# env.max_weight = 102\n",
    "env.item_limits_init = np.ones(env.N)\n",
    "env.reset()\n",
    "\n",
    "model = build_ukp_ip_model(env)\n",
    "model, results = solve_math_program(model)\n",
    "print(\"IP Objective: {:.2f}\".format(model.obj.expr()))\n",
    "_ = [print(\"x_i = {:.0f}_{}\".format(model.x[x].value, i))\n",
    "     for i, x in enumerate(model.x) if model.x[x].value != 0]\n",
    "print(\"\\t\")\n",
    "# Heuristic\n",
    "heur_actions, heur_rewards = bkp_heuristic(env)\n",
    "count = np.bincount(heur_actions)\n",
    "action_count = count[count!=0]\n",
    "actions = np.where(count!=0)\n",
    "print(\"Heuristic Objective: {:.2f}\".format(sum(heur_rewards)))\n",
    "_ = [print(\"x_i = {:.0f}_{}\".format(x, i))\n",
    "     for x, i in zip(action_count, actions[0])]\n",
    "\n",
    "print(env.current_weight)"
   ]
  },
  {
   "cell_type": "code",
   "execution_count": 27,
   "metadata": {},
   "outputs": [
    {
     "data": {
      "text/plain": [
       "array([0., 1., 1., 1., 1., 1., 1., 1.])"
      ]
     },
     "execution_count": 27,
     "metadata": {},
     "output_type": "execute_result"
    }
   ],
   "source": [
    "env.item_limits"
   ]
  },
  {
   "cell_type": "code",
   "execution_count": 11,
   "metadata": {},
   "outputs": [
    {
     "data": {
      "text/plain": [
       "[0, 0]"
      ]
     },
     "execution_count": 11,
     "metadata": {},
     "output_type": "execute_result"
    }
   ],
   "source": [
    "heur_actions"
   ]
  },
  {
   "cell_type": "code",
   "execution_count": 12,
   "metadata": {},
   "outputs": [
    {
     "data": {
      "text/plain": [
       "{'action_mask': array([1, 1, 1, 1, 1, 1, 1, 1]),\n",
       " 'avail_actions': array([1., 1., 1., 1., 1., 1., 1., 1.]),\n",
       " 'state': array([[  2.,  20.,  20.,  30.,  40.,  30.,  60.,  10., 102.],\n",
       "        [ 15., 100.,  90.,  60.,  40.,  15.,  10.,   1.,   0.],\n",
       "        [  1.,   1.,   1.,   1.,   1.,   1.,   1.,   1.,   0.]])}"
      ]
     },
     "execution_count": 12,
     "metadata": {},
     "output_type": "execute_result"
    }
   ],
   "source": [
    "env.reset()"
   ]
  },
  {
   "cell_type": "code",
   "execution_count": 22,
   "metadata": {},
   "outputs": [],
   "source": [
    "vw_ratio = env.item_values / env.item_weights\n",
    "vw_order = env.item_numbers[np.argsort(vw_ratio)[::-1]]\n",
    "actions, rewards = [], []\n",
    "done = False\n",
    "while not done:\n",
    "    max_item = vw_order[0]\n",
    "    cont_flag = False\n",
    "    if env.item_limits[max_item] == 0:\n",
    "        # Remove item from list\n",
    "        vw_order = vw_order[1:].copy()\n",
    "        cont_flag = True\n",
    "    elif env.item_weights[max_item] > (env.max_weight - env.current_weight):\n",
    "        # Remove item from list\n",
    "        vw_order = vw_order[1:].copy()\n",
    "        cont_flag = True\n",
    "    if len(vw_order) == 0:\n",
    "        # End episode\n",
    "        break\n",
    "    if cont_flag:\n",
    "        # Item doesn't fit or exist, start over\n",
    "        continue\n",
    "    state, reward, done, _ = env.step(max_item)\n",
    "    actions.append(max_item)\n",
    "    rewards.append(reward)"
   ]
  },
  {
   "cell_type": "code",
   "execution_count": 24,
   "metadata": {},
   "outputs": [
    {
     "data": {
      "text/plain": [
       "265"
      ]
     },
     "execution_count": 24,
     "metadata": {},
     "output_type": "execute_result"
    }
   ],
   "source": [
    "sum(rewards)"
   ]
  },
  {
   "cell_type": "code",
   "execution_count": 20,
   "metadata": {},
   "outputs": [
    {
     "data": {
      "text/plain": [
       "array([ 15, 100,  90,  60,  40,  15,  10,   1])"
      ]
     },
     "execution_count": 20,
     "metadata": {},
     "output_type": "execute_result"
    }
   ],
   "source": [
    "env.item_values"
   ]
  },
  {
   "cell_type": "code",
   "execution_count": 21,
   "metadata": {},
   "outputs": [
    {
     "data": {
      "text/plain": [
       "array([ 2, 20, 20, 30, 40, 30, 60, 10])"
      ]
     },
     "execution_count": 21,
     "metadata": {},
     "output_type": "execute_result"
    }
   ],
   "source": [
    "env.item_weights"
   ]
  },
  {
   "cell_type": "code",
   "execution_count": null,
   "metadata": {},
   "outputs": [],
   "source": []
  }
 ],
 "metadata": {
  "kernelspec": {
   "display_name": "Python 3",
   "language": "python",
   "name": "python3"
  },
  "language_info": {
   "codemirror_mode": {
    "name": "ipython",
    "version": 3
   },
   "file_extension": ".py",
   "mimetype": "text/x-python",
   "name": "python",
   "nbconvert_exporter": "python",
   "pygments_lexer": "ipython3",
   "version": "3.6.10"
  }
 },
 "nbformat": 4,
 "nbformat_minor": 4
}
