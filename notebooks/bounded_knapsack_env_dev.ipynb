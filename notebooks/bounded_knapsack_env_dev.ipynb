{
 "cells": [
  {
   "cell_type": "code",
   "execution_count": 1,
   "metadata": {},
   "outputs": [],
   "source": [
    "import gym\n",
    "import or_gym.envs\n",
    "from or_gym.envs.classic_or.knapsack import KnapsackEnv\n",
    "import numpy as np"
   ]
  },
  {
   "cell_type": "code",
   "execution_count": 2,
   "metadata": {},
   "outputs": [],
   "source": [
    "envs = gym.make('Knapsack-v0')"
   ]
  },
  {
   "cell_type": "code",
   "execution_count": 21,
   "metadata": {},
   "outputs": [],
   "source": [
    "class BoundedKnapsackEnv(KnapsackEnv):\n",
    "    \n",
    "    def __init__(self):\n",
    "        self.item_limits_init = np.array([2, 1, 3, 4, 5, 6])\n",
    "        self.item_limits = self.item_limits_init.copy()\n",
    "        super().__init__()\n",
    "        \n",
    "    def step(self, item):\n",
    "        # Check item limit\n",
    "        if self.item_limits[item] > 0:\n",
    "            # Check that item will fit\n",
    "            if self.item_weights[item] + self.current_weight <= self.max_weight:\n",
    "                self.current_weight += self.item_weights[item]\n",
    "                reward = self.item_values[item]\n",
    "                if self.current_weight == self.max_weight:\n",
    "                    done = True\n",
    "                else:\n",
    "                    done = False\n",
    "            else:\n",
    "                # End if over weight\n",
    "                reward = 0\n",
    "                done = True\n",
    "        else:\n",
    "            # End if item is unavailable\n",
    "            reward = 0\n",
    "            done = True\n",
    "            \n",
    "        self._update_state()\n",
    "        return self.state, reward, done, {}\n",
    "        \n",
    "    def _update_state(self, item=None):\n",
    "        if item is not None:\n",
    "            self.item_limits[item] -= 1\n",
    "            \n",
    "        self.state = (self.item_weights,\n",
    "                      self.item_values,\n",
    "                      self.item_limits,\n",
    "                      self.current_weight)\n",
    "        \n",
    "    def sample_action(self):\n",
    "        return np.random.choice(\n",
    "            self.item_numbers[np.where(self.item_limits!=0)])\n",
    "    \n",
    "    def reset(self):\n",
    "        self.current_weight = 0\n",
    "        self.item_limits = self.item_limits_init.copy()\n",
    "        self._update_state()\n",
    "        return self.state"
   ]
  },
  {
   "cell_type": "code",
   "execution_count": 22,
   "metadata": {},
   "outputs": [],
   "source": [
    "env = BoundedKnapsackEnv()"
   ]
  },
  {
   "cell_type": "code",
   "execution_count": 23,
   "metadata": {},
   "outputs": [],
   "source": [
    "done = False\n",
    "actions = []\n",
    "count = 0\n",
    "while done == False:\n",
    "    action = env.sample_action()\n",
    "    s, r, done, _ = env.step(action)\n",
    "    count += 1"
   ]
  },
  {
   "cell_type": "code",
   "execution_count": 25,
   "metadata": {},
   "outputs": [
    {
     "data": {
      "text/plain": [
       "(array([ 1,  2,  3,  6, 10, 18]),\n",
       " array([  0,   1,   3,  14,  20, 100]),\n",
       " array([2, 1, 3, 4, 5, 6]),\n",
       " 0)"
      ]
     },
     "execution_count": 25,
     "metadata": {},
     "output_type": "execute_result"
    }
   ],
   "source": [
    "env.reset()"
   ]
  },
  {
   "cell_type": "code",
   "execution_count": 8,
   "metadata": {},
   "outputs": [
    {
     "data": {
      "text/plain": [
       "2"
      ]
     },
     "execution_count": 8,
     "metadata": {},
     "output_type": "execute_result"
    }
   ],
   "source": []
  },
  {
   "cell_type": "code",
   "execution_count": null,
   "metadata": {},
   "outputs": [],
   "source": []
  }
 ],
 "metadata": {
  "kernelspec": {
   "display_name": "Python 3",
   "language": "python",
   "name": "python3"
  },
  "language_info": {
   "codemirror_mode": {
    "name": "ipython",
    "version": 3
   },
   "file_extension": ".py",
   "mimetype": "text/x-python",
   "name": "python",
   "nbconvert_exporter": "python",
   "pygments_lexer": "ipython3",
   "version": "3.6.10"
  }
 },
 "nbformat": 4,
 "nbformat_minor": 4
}
