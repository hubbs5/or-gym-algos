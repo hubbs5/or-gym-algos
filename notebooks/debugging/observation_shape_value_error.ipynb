{
 "cells": [
  {
   "cell_type": "markdown",
   "metadata": {},
   "source": [
    "I'm getting a value error when training `Knapsack-v1` that's preventing the model from training. This appears to be due to the observation state raising an error when passed to the `Preprocessor`. The first two cells below will recreate the error and traceback."
   ]
  },
  {
   "cell_type": "code",
   "execution_count": 1,
   "metadata": {},
   "outputs": [],
   "source": [
    "import gym\n",
    "import numpy as np\n",
    "import or_gym\n",
    "from or_gym.algos import rl_utils\n",
    "from datetime import datetime\n",
    "import os\n",
    "import time\n",
    "import ray\n",
    "from ray.rllib.agents import ppo\n",
    "from ray.rllib.models import preprocessors"
   ]
  },
  {
   "cell_type": "code",
   "execution_count": 2,
   "metadata": {
    "scrolled": false
   },
   "outputs": [
    {
     "name": "stderr",
     "output_type": "stream",
     "text": [
      "2020-03-26 15:27:10,921\tWARNING services.py:597 -- setpgrp failed, processes may not be cleaned up properly: [Errno 1] Operation not permitted.\n",
      "2020-03-26 15:27:10,923\tINFO resource_spec.py:216 -- Starting Ray with 2.98 GiB memory available for workers and up to 1.51 GiB for objects. You can adjust these settings with ray.init(memory=<bytes>, object_store_memory=<bytes>).\n",
      "2020-03-26 15:27:11,412\tINFO trainer.py:371 -- Tip: set 'eager': true or the --eager flag to enable TensorFlow eager execution\n",
      "2020-03-26 15:27:11,446\tINFO trainer.py:512 -- Current log_level is WARN. For more information, set 'log_level': 'INFO' / 'DEBUG' or use the -v and -vv flags.\n"
     ]
    },
    {
     "name": "stdout",
     "output_type": "stream",
     "text": [
      "Environment\tKnapsack-v1\n"
     ]
    },
    {
     "name": "stderr",
     "output_type": "stream",
     "text": [
      "2020-03-26 15:28:07,486\tINFO trainable.py:102 -- _setup took 56.042 seconds. If your trainable is slow to initialize, consider setting reuse_actors=True to reduce actor creation overheads.\n",
      "2020-03-26 15:28:07,486\tWARNING util.py:45 -- Install gputil for GPU system monitoring.\n"
     ]
    },
    {
     "name": "stdout",
     "output_type": "stream",
     "text": [
      "Total Training Time: 34.0s\t\n"
     ]
    }
   ],
   "source": [
    "ray.init(ignore_reinit_error=True)\n",
    "\n",
    "env_name = 'Knapsack-v1'\n",
    "trainer = ppo.PPOTrainer(env=rl_utils.create_env(env_name), \n",
    "    config={\n",
    "    \"env_config\": {\"reuse_actors\":True},\n",
    "    \"vf_clip_param\": 5000,\n",
    "    \"model\": {\n",
    "        \"fcnet_activation\": \"elu\",\n",
    "        \"fcnet_hiddens\": [128, 128, 128]}\n",
    "    })\n",
    "\n",
    "# Run x number of episodes\n",
    "N_EPS = 1000\n",
    "rewards = []\n",
    "eps, eps_total = [], []\n",
    "training = True\n",
    "batch = 0\n",
    "t_start = time.time()\n",
    "while training:\n",
    "    t_batch = time.time()\n",
    "    results = trainer.train()\n",
    "    rewards.append(results['episode_reward_mean'])\n",
    "    eps.append(results['episodes_this_iter'])\n",
    "    eps_total.append(results['episodes_total'])\n",
    "    batch += 1\n",
    "    t_end = time.time()\n",
    "    if sum(eps) >= N_EPS:\n",
    "        training = False\n",
    "        break\n",
    "    if batch % 10 == 0:\n",
    "        t = t_end - t_batch\n",
    "        t_tot = t_end - t_start\n",
    "        print(\"\\rEpisode: {}\\tMean Rewards: {:.1f}\\tEpisodes/sec: {:.2f}s\\tTotal Time: {:.1f}s\".format(\n",
    "            eps_total[-1], rewards[-1], eps[-1]/t, t_tot), end=\"\")\n",
    "        \n",
    "print(\"Total Training Time: {:.1f}s\\t\".format(t_end - t_start))"
   ]
  },
  {
   "cell_type": "markdown",
   "metadata": {},
   "source": [
    "The environment has a state that is a $3 \\times 201$ numpy array. The error prints out the state array. I've copy and pasted that exact array which raises the error below and passed it through the preprocessor used in the model to try to raise the error.\n",
    "\n",
    "You can find the [preprocessor code here](https://github.com/ray-project/ray/blob/c1b05b720ded1338d82f50f5c2df050930ccd350/rllib/models/preprocessors.py#L17).\n",
    "\n",
    "\n",
    "I have attempted to recreate this error below by extracting the preprocessor and running 1,000 episodes with random actions through the preprocessor to see if I can isolate"
   ]
  },
  {
   "cell_type": "code",
   "execution_count": 5,
   "metadata": {},
   "outputs": [],
   "source": [
    "# Get preprocessor\n",
    "preprocessor = trainer.workers.local_worker().preprocessors['default_policy']\n",
    "sample_obs = np.array([[  4,  13,  15,   1,   5,   4,  14,  12,  14,  14,  12,  17,  15,\n",
    "         17,   2,   9,   1,   5,   7,  14,   8,  16,  10,  19,   9,  16,\n",
    "         12,   7,  16,   2,  13,   4,  19,  16,   4,  11,  13,   7,   4,\n",
    "          6,  12,   1,  12,   9,  11,  12,   6,  16,   9,   3,  15,   4,\n",
    "          4,   8,  10,  10,  10,   4,  15,  19,  13,   4,  10,  11,  14,\n",
    "          8,   8,   2,  13,   3,   3,   2,   6,   9,   5,   1,  12,   3,\n",
    "          6,  17,   9,   2,  18,  17,   4,   9,   5,  17,   4,   8,   4,\n",
    "         19,  18,   2,  19,  18,   3,   6,   6,  13,  13,   3,  16,   8,\n",
    "          8,  12,  18,   7,   8,  19,  12,  18,  10,  15,  10,  19,   1,\n",
    "         10,  12,  18,  10,   1,  17,  11,   5,   4,   9,  15,   1,   9,\n",
    "          8,  14,  18,   1,  12,   5,   1,  11,  15,  19,   5,   4,   8,\n",
    "          9,  14,   6,   1,   9,  16,  16,  12,   5,   8,  14,  11,  15,\n",
    "         18,   4,  10,  19,   3,  12,  19,  14,   2,   7,  11,  17,  17,\n",
    "          4,  18,  11,  10,  13,  14,   7,   7,   8,   9,  14,   8,  17,\n",
    "         16,   9,   4,   7,  18,   8,   3,  17,  19,  14,   5,   5,  13,\n",
    "         18,   2,   6,   2,   8, 200],\n",
    "       [ 12,  15,  21,   0,   3,  27,   3,   7,   9,  19,  21,  18,   4,\n",
    "         23,   6,  24,  24,  12,  26,   1,   6,   7,  23,  14,  24,  17,\n",
    "          5,  25,  13,   8,   9,  20,  19,  16,  19,   5,  15,  15,   0,\n",
    "         18,   3,  24,  17,  19,  29,  19,  19,  14,   7,   0,   1,   9,\n",
    "         25,   0,  10,  20,  23,   3,  11,  18,  23,  28,   2,   0,   0,\n",
    "          4,  21,   5,   6,   8,  20,  17,  15,   4,   9,  10,  26,  24,\n",
    "          1,   1,   7,   9,  25,   3,   6,  23,  11,  14,  18,  27,   0,\n",
    "         14,   3,  21,  12,  25,  10,  20,  11,   4,   6,   4,  15,  20,\n",
    "          3,  12,   4,  20,   8,  14,  15,  20,   3,  26,  23,  15,  13,\n",
    "         21,  21,  16,  17,   5,   9,   3,   0,   5,   0,  17,  18,   4,\n",
    "          2,  16,  29,   3,   2,  10,  13,  16,   7,  21,   9,   0,  10,\n",
    "         18,  11,  26,  23,  27,   2,  25,   2,   3,  27,   3,  18,  14,\n",
    "          3,  20,  17,  18,  27,  14,   9,  26,   1,   4,  10,  22,  11,\n",
    "          8,  11,   2,  19,  16,   0,  22,   0,   6,  19,  14,  10,  19,\n",
    "         24,  28,   8,  13,  24,  29,   2,   3,   2,  11,  13,  16,   8,\n",
    "          8,  19,   8,  26,   2, 149],\n",
    "       [  2,   7,   0,   4,   9,   5,   2,   5,   6,  -1,   4,   2,   5,\n",
    "          5,   5,   1,   1,   9,   5,   6,   4,   4,   3,   2,   2,   2,\n",
    "          4,   4,   2,   2,   1,   8,   9,   5,   4,   6,   7,   4,   3,\n",
    "          9,   2,   5,   1,   9,   4,   6,   6,   2,   8,   9,   7,   5,\n",
    "          8,   4,   6,   3,   7,   5,   8,   4,   1,   6,   4,   8,   6,\n",
    "          5,   9,   1,   9,   4,   6,   4,   3,   8,   1,   4,   1,   4,\n",
    "          7,   2,   3,   5,   2,   4,   3,   5,   8,   5,   5,   2,   3,\n",
    "          8,   3,   4,   8,   7,   7,   3,   4,   7,   1,   8,   0,   8,\n",
    "          7,   6,   7,   6,   3,   8,   2,   3,   3,   6,   7,   5,   3,\n",
    "          3,   2,   1,   1,   3,   9,   4,   1,   9,   9,   2,   1,   6,\n",
    "          9,   3,   4,   6,   4,   9,   7,   5,   7,   4,   7,   3,   7,\n",
    "          6,   6,   5,   7,   5,   2,   4,   4,   9,   6,   6,   7,   1,\n",
    "          8,   6,   2,   6,   7,   6,   9,   8,   6,   4,   3,   4,   3,\n",
    "          6,   5,   2,   6,   9,   4,   6,   9,   5,   2,   8,   9,   2,\n",
    "          2,   2,   2,   8,   6,   1,   5,   2,   2,   7,   7,   1,   2,\n",
    "          4,   8,   3,   5,   1,   0]])"
   ]
  },
  {
   "cell_type": "code",
   "execution_count": 8,
   "metadata": {},
   "outputs": [
    {
     "ename": "ValueError",
     "evalue": "('Observation outside expected value range', Box(3, 201), array([[  4,  13,  15,   1,   5,   4,  14,  12,  14,  14,  12,  17,  15,\n         17,   2,   9,   1,   5,   7,  14,   8,  16,  10,  19,   9,  16,\n         12,   7,  16,   2,  13,   4,  19,  16,   4,  11,  13,   7,   4,\n          6,  12,   1,  12,   9,  11,  12,   6,  16,   9,   3,  15,   4,\n          4,   8,  10,  10,  10,   4,  15,  19,  13,   4,  10,  11,  14,\n          8,   8,   2,  13,   3,   3,   2,   6,   9,   5,   1,  12,   3,\n          6,  17,   9,   2,  18,  17,   4,   9,   5,  17,   4,   8,   4,\n         19,  18,   2,  19,  18,   3,   6,   6,  13,  13,   3,  16,   8,\n          8,  12,  18,   7,   8,  19,  12,  18,  10,  15,  10,  19,   1,\n         10,  12,  18,  10,   1,  17,  11,   5,   4,   9,  15,   1,   9,\n          8,  14,  18,   1,  12,   5,   1,  11,  15,  19,   5,   4,   8,\n          9,  14,   6,   1,   9,  16,  16,  12,   5,   8,  14,  11,  15,\n         18,   4,  10,  19,   3,  12,  19,  14,   2,   7,  11,  17,  17,\n          4,  18,  11,  10,  13,  14,   7,   7,   8,   9,  14,   8,  17,\n         16,   9,   4,   7,  18,   8,   3,  17,  19,  14,   5,   5,  13,\n         18,   2,   6,   2,   8, 200],\n       [ 12,  15,  21,   0,   3,  27,   3,   7,   9,  19,  21,  18,   4,\n         23,   6,  24,  24,  12,  26,   1,   6,   7,  23,  14,  24,  17,\n          5,  25,  13,   8,   9,  20,  19,  16,  19,   5,  15,  15,   0,\n         18,   3,  24,  17,  19,  29,  19,  19,  14,   7,   0,   1,   9,\n         25,   0,  10,  20,  23,   3,  11,  18,  23,  28,   2,   0,   0,\n          4,  21,   5,   6,   8,  20,  17,  15,   4,   9,  10,  26,  24,\n          1,   1,   7,   9,  25,   3,   6,  23,  11,  14,  18,  27,   0,\n         14,   3,  21,  12,  25,  10,  20,  11,   4,   6,   4,  15,  20,\n          3,  12,   4,  20,   8,  14,  15,  20,   3,  26,  23,  15,  13,\n         21,  21,  16,  17,   5,   9,   3,   0,   5,   0,  17,  18,   4,\n          2,  16,  29,   3,   2,  10,  13,  16,   7,  21,   9,   0,  10,\n         18,  11,  26,  23,  27,   2,  25,   2,   3,  27,   3,  18,  14,\n          3,  20,  17,  18,  27,  14,   9,  26,   1,   4,  10,  22,  11,\n          8,  11,   2,  19,  16,   0,  22,   0,   6,  19,  14,  10,  19,\n         24,  28,   8,  13,  24,  29,   2,   3,   2,  11,  13,  16,   8,\n          8,  19,   8,  26,   2, 149],\n       [  2,   7,   0,   4,   9,   5,   2,   5,   6,  -1,   4,   2,   5,\n          5,   5,   1,   1,   9,   5,   6,   4,   4,   3,   2,   2,   2,\n          4,   4,   2,   2,   1,   8,   9,   5,   4,   6,   7,   4,   3,\n          9,   2,   5,   1,   9,   4,   6,   6,   2,   8,   9,   7,   5,\n          8,   4,   6,   3,   7,   5,   8,   4,   1,   6,   4,   8,   6,\n          5,   9,   1,   9,   4,   6,   4,   3,   8,   1,   4,   1,   4,\n          7,   2,   3,   5,   2,   4,   3,   5,   8,   5,   5,   2,   3,\n          8,   3,   4,   8,   7,   7,   3,   4,   7,   1,   8,   0,   8,\n          7,   6,   7,   6,   3,   8,   2,   3,   3,   6,   7,   5,   3,\n          3,   2,   1,   1,   3,   9,   4,   1,   9,   9,   2,   1,   6,\n          9,   3,   4,   6,   4,   9,   7,   5,   7,   4,   7,   3,   7,\n          6,   6,   5,   7,   5,   2,   4,   4,   9,   6,   6,   7,   1,\n          8,   6,   2,   6,   7,   6,   9,   8,   6,   4,   3,   4,   3,\n          6,   5,   2,   6,   9,   4,   6,   9,   5,   2,   8,   9,   2,\n          2,   2,   2,   8,   6,   1,   5,   2,   2,   7,   7,   1,   2,\n          4,   8,   3,   5,   1,   0]]))",
     "output_type": "error",
     "traceback": [
      "\u001b[0;31m---------------------------------------------------------------------------\u001b[0m",
      "\u001b[0;31mValueError\u001b[0m                                Traceback (most recent call last)",
      "\u001b[0;32m<ipython-input-8-15f40985f775>\u001b[0m in \u001b[0;36m<module>\u001b[0;34m\u001b[0m\n\u001b[1;32m      1\u001b[0m \u001b[0mpreprocessor\u001b[0m\u001b[0;34m.\u001b[0m\u001b[0m_i\u001b[0m \u001b[0;34m=\u001b[0m \u001b[0;36m0\u001b[0m\u001b[0;34m\u001b[0m\u001b[0;34m\u001b[0m\u001b[0m\n\u001b[0;32m----> 2\u001b[0;31m \u001b[0mpreprocessor\u001b[0m\u001b[0;34m.\u001b[0m\u001b[0mcheck_shape\u001b[0m\u001b[0;34m(\u001b[0m\u001b[0msample_obs\u001b[0m\u001b[0;34m)\u001b[0m\u001b[0;34m\u001b[0m\u001b[0;34m\u001b[0m\u001b[0m\n\u001b[0m",
      "\u001b[0;32m~/anaconda3/lib/python3.6/site-packages/ray/rllib/models/preprocessors.py\u001b[0m in \u001b[0;36mcheck_shape\u001b[0;34m(self, observation)\u001b[0m\n\u001b[1;32m     63\u001b[0m                     raise ValueError(\n\u001b[1;32m     64\u001b[0m                         \u001b[0;34m\"Observation outside expected value range\"\u001b[0m\u001b[0;34m,\u001b[0m\u001b[0;34m\u001b[0m\u001b[0;34m\u001b[0m\u001b[0m\n\u001b[0;32m---> 65\u001b[0;31m                         self._obs_space, observation)\n\u001b[0m\u001b[1;32m     66\u001b[0m             \u001b[0;32mexcept\u001b[0m \u001b[0mAttributeError\u001b[0m\u001b[0;34m:\u001b[0m\u001b[0;34m\u001b[0m\u001b[0;34m\u001b[0m\u001b[0m\n\u001b[1;32m     67\u001b[0m                 raise ValueError(\n",
      "\u001b[0;31mValueError\u001b[0m: ('Observation outside expected value range', Box(3, 201), array([[  4,  13,  15,   1,   5,   4,  14,  12,  14,  14,  12,  17,  15,\n         17,   2,   9,   1,   5,   7,  14,   8,  16,  10,  19,   9,  16,\n         12,   7,  16,   2,  13,   4,  19,  16,   4,  11,  13,   7,   4,\n          6,  12,   1,  12,   9,  11,  12,   6,  16,   9,   3,  15,   4,\n          4,   8,  10,  10,  10,   4,  15,  19,  13,   4,  10,  11,  14,\n          8,   8,   2,  13,   3,   3,   2,   6,   9,   5,   1,  12,   3,\n          6,  17,   9,   2,  18,  17,   4,   9,   5,  17,   4,   8,   4,\n         19,  18,   2,  19,  18,   3,   6,   6,  13,  13,   3,  16,   8,\n          8,  12,  18,   7,   8,  19,  12,  18,  10,  15,  10,  19,   1,\n         10,  12,  18,  10,   1,  17,  11,   5,   4,   9,  15,   1,   9,\n          8,  14,  18,   1,  12,   5,   1,  11,  15,  19,   5,   4,   8,\n          9,  14,   6,   1,   9,  16,  16,  12,   5,   8,  14,  11,  15,\n         18,   4,  10,  19,   3,  12,  19,  14,   2,   7,  11,  17,  17,\n          4,  18,  11,  10,  13,  14,   7,   7,   8,   9,  14,   8,  17,\n         16,   9,   4,   7,  18,   8,   3,  17,  19,  14,   5,   5,  13,\n         18,   2,   6,   2,   8, 200],\n       [ 12,  15,  21,   0,   3,  27,   3,   7,   9,  19,  21,  18,   4,\n         23,   6,  24,  24,  12,  26,   1,   6,   7,  23,  14,  24,  17,\n          5,  25,  13,   8,   9,  20,  19,  16,  19,   5,  15,  15,   0,\n         18,   3,  24,  17,  19,  29,  19,  19,  14,   7,   0,   1,   9,\n         25,   0,  10,  20,  23,   3,  11,  18,  23,  28,   2,   0,   0,\n          4,  21,   5,   6,   8,  20,  17,  15,   4,   9,  10,  26,  24,\n          1,   1,   7,   9,  25,   3,   6,  23,  11,  14,  18,  27,   0,\n         14,   3,  21,  12,  25,  10,  20,  11,   4,   6,   4,  15,  20,\n          3,  12,   4,  20,   8,  14,  15,  20,   3,  26,  23,  15,  13,\n         21,  21,  16,  17,   5,   9,   3,   0,   5,   0,  17,  18,   4,\n          2,  16,  29,   3,   2,  10,  13,  16,   7,  21,   9,   0,  10,\n         18,  11,  26,  23,  27,   2,  25,   2,   3,  27,   3,  18,  14,\n          3,  20,  17,  18,  27,  14,   9,  26,   1,   4,  10,  22,  11,\n          8,  11,   2,  19,  16,   0,  22,   0,   6,  19,  14,  10,  19,\n         24,  28,   8,  13,  24,  29,   2,   3,   2,  11,  13,  16,   8,\n          8,  19,   8,  26,   2, 149],\n       [  2,   7,   0,   4,   9,   5,   2,   5,   6,  -1,   4,   2,   5,\n          5,   5,   1,   1,   9,   5,   6,   4,   4,   3,   2,   2,   2,\n          4,   4,   2,   2,   1,   8,   9,   5,   4,   6,   7,   4,   3,\n          9,   2,   5,   1,   9,   4,   6,   6,   2,   8,   9,   7,   5,\n          8,   4,   6,   3,   7,   5,   8,   4,   1,   6,   4,   8,   6,\n          5,   9,   1,   9,   4,   6,   4,   3,   8,   1,   4,   1,   4,\n          7,   2,   3,   5,   2,   4,   3,   5,   8,   5,   5,   2,   3,\n          8,   3,   4,   8,   7,   7,   3,   4,   7,   1,   8,   0,   8,\n          7,   6,   7,   6,   3,   8,   2,   3,   3,   6,   7,   5,   3,\n          3,   2,   1,   1,   3,   9,   4,   1,   9,   9,   2,   1,   6,\n          9,   3,   4,   6,   4,   9,   7,   5,   7,   4,   7,   3,   7,\n          6,   6,   5,   7,   5,   2,   4,   4,   9,   6,   6,   7,   1,\n          8,   6,   2,   6,   7,   6,   9,   8,   6,   4,   3,   4,   3,\n          6,   5,   2,   6,   9,   4,   6,   9,   5,   2,   8,   9,   2,\n          2,   2,   2,   8,   6,   1,   5,   2,   2,   7,   7,   1,   2,\n          4,   8,   3,   5,   1,   0]]))"
     ]
    }
   ],
   "source": [
    "preprocessor._i = 0\n",
    "preprocessor.check_shape(sample_obs)"
   ]
  },
  {
   "cell_type": "code",
   "execution_count": 10,
   "metadata": {},
   "outputs": [
    {
     "data": {
      "text/plain": [
       "False"
      ]
     },
     "execution_count": 10,
     "metadata": {},
     "output_type": "execute_result"
    }
   ],
   "source": [
    "env = gym.make(env_name)\n",
    "env.observation_space.contains(sample_obs)"
   ]
  },
  {
   "cell_type": "code",
   "execution_count": 42,
   "metadata": {},
   "outputs": [],
   "source": []
  },
  {
   "cell_type": "code",
   "execution_count": 44,
   "metadata": {},
   "outputs": [
    {
     "data": {
      "text/plain": [
       "Box(3, 201)"
      ]
     },
     "execution_count": 44,
     "metadata": {},
     "output_type": "execute_result"
    }
   ],
   "source": [
    "preprocessor._obs_space"
   ]
  },
  {
   "cell_type": "code",
   "execution_count": 45,
   "metadata": {},
   "outputs": [],
   "source": [
    "def _check_shape(preprocessor, state):\n",
    "#     if y._i % VALIDATION_INTERVAL == 0:\n",
    "    if type(state) is list and isinstance(y._obs_space, gym.spaces.Box):\n",
    "        state = np.array(state)\n",
    "    try:\n",
    "        if not preprocessor._obs_space.contains(state):\n",
    "            raise ValueError(\n",
    "            \"Observation outside expected value range\",\n",
    "            preprocessor._obs_space, state)\n",
    "    except AttributeError:\n",
    "        raise ValueError(\"message\")\n",
    "    preprocessor._i += 1"
   ]
  },
  {
   "cell_type": "code",
   "execution_count": 46,
   "metadata": {},
   "outputs": [],
   "source": [
    "_check_shape(preprocessor, env.state)"
   ]
  },
  {
   "cell_type": "code",
   "execution_count": 48,
   "metadata": {},
   "outputs": [],
   "source": [
    "env = gym.make(env_name)\n",
    "for i in range(1000):\n",
    "    done = False\n",
    "    state = env.reset()\n",
    "    while done == False:\n",
    "        action = env.sample_action()\n",
    "        state, reward, done, _ = env.step(action)\n",
    "        preprocessor.check_shape(state)\n",
    "#         _check_shape(preprocessor, state)"
   ]
  },
  {
   "cell_type": "code",
   "execution_count": null,
   "metadata": {},
   "outputs": [],
   "source": []
  },
  {
   "cell_type": "code",
   "execution_count": null,
   "metadata": {},
   "outputs": [],
   "source": []
  },
  {
   "cell_type": "code",
   "execution_count": 18,
   "metadata": {},
   "outputs": [
    {
     "data": {
      "text/plain": [
       "(3, 201)"
      ]
     },
     "execution_count": 18,
     "metadata": {},
     "output_type": "execute_result"
    }
   ],
   "source": [
    "x = np.array([[  4,  13,  15,   1,   5,   4,  14,  12,  14,  14,  12,  17,  15,\n",
    "         17,   2,   9,   1,   5,   7,  14,   8,  16,  10,  19,   9,  16,\n",
    "         12,   7,  16,   2,  13,   4,  19,  16,   4,  11,  13,   7,   4,\n",
    "          6,  12,   1,  12,   9,  11,  12,   6,  16,   9,   3,  15,   4,\n",
    "          4,   8,  10,  10,  10,   4,  15,  19,  13,   4,  10,  11,  14,\n",
    "          8,   8,   2,  13,   3,   3,   2,   6,   9,   5,   1,  12,   3,\n",
    "          6,  17,   9,   2,  18,  17,   4,   9,   5,  17,   4,   8,   4,\n",
    "         19,  18,   2,  19,  18,   3,   6,   6,  13,  13,   3,  16,   8,\n",
    "          8,  12,  18,   7,   8,  19,  12,  18,  10,  15,  10,  19,   1,\n",
    "         10,  12,  18,  10,   1,  17,  11,   5,   4,   9,  15,   1,   9,\n",
    "          8,  14,  18,   1,  12,   5,   1,  11,  15,  19,   5,   4,   8,\n",
    "          9,  14,   6,   1,   9,  16,  16,  12,   5,   8,  14,  11,  15,\n",
    "         18,   4,  10,  19,   3,  12,  19,  14,   2,   7,  11,  17,  17,\n",
    "          4,  18,  11,  10,  13,  14,   7,   7,   8,   9,  14,   8,  17,\n",
    "         16,   9,   4,   7,  18,   8,   3,  17,  19,  14,   5,   5,  13,\n",
    "         18,   2,   6,   2,   8, 200],\n",
    "       [ 12,  15,  21,   0,   3,  27,   3,   7,   9,  19,  21,  18,   4,\n",
    "         23,   6,  24,  24,  12,  26,   1,   6,   7,  23,  14,  24,  17,\n",
    "          5,  25,  13,   8,   9,  20,  19,  16,  19,   5,  15,  15,   0,\n",
    "         18,   3,  24,  17,  19,  29,  19,  19,  14,   7,   0,   1,   9,\n",
    "         25,   0,  10,  20,  23,   3,  11,  18,  23,  28,   2,   0,   0,\n",
    "          4,  21,   5,   6,   8,  20,  17,  15,   4,   9,  10,  26,  24,\n",
    "          1,   1,   7,   9,  25,   3,   6,  23,  11,  14,  18,  27,   0,\n",
    "         14,   3,  21,  12,  25,  10,  20,  11,   4,   6,   4,  15,  20,\n",
    "          3,  12,   4,  20,   8,  14,  15,  20,   3,  26,  23,  15,  13,\n",
    "         21,  21,  16,  17,   5,   9,   3,   0,   5,   0,  17,  18,   4,\n",
    "          2,  16,  29,   3,   2,  10,  13,  16,   7,  21,   9,   0,  10,\n",
    "         18,  11,  26,  23,  27,   2,  25,   2,   3,  27,   3,  18,  14,\n",
    "          3,  20,  17,  18,  27,  14,   9,  26,   1,   4,  10,  22,  11,\n",
    "          8,  11,   2,  19,  16,   0,  22,   0,   6,  19,  14,  10,  19,\n",
    "         24,  28,   8,  13,  24,  29,   2,   3,   2,  11,  13,  16,   8,\n",
    "          8,  19,   8,  26,   2,   8],\n",
    "       [  2,   7,   1,   4,   9,   5,   2,   5,   6,   1,   4,   2,   5,\n",
    "          5,   5,   1,   1,   9,   5,   7,   4,   4,   3,   2,   3,   2,\n",
    "          4,   5,   2,   2,   1,   8,   9,   5,   4,   6,   7,   4,   3,\n",
    "          9,   2,   5,   1,   9,   4,   6,   6,   2,   8,   9,   7,   5,\n",
    "          8,   4,   6,   4,   7,   5,   8,   4,   1,   6,   4,   8,   6,\n",
    "          6,   9,   1,   9,   4,   7,  -1,   3,   8,   1,   4,   1,   4,\n",
    "          7,   2,   3,   5,   2,   4,   3,   5,   8,   5,   5,   2,   3,\n",
    "          8,   3,   4,   8,   7,   7,   3,   4,   7,   1,   9,   1,   8,\n",
    "          7,   6,   7,   6,   3,   8,   2,   3,   3,   6,   7,   5,   3,\n",
    "          3,   2,   1,   1,   3,   9,   4,   1,   9,   9,   2,   1,   6,\n",
    "          9,   3,   4,   6,   4,   9,   7,   5,   7,   4,   7,   3,   7,\n",
    "          6,   6,   5,   7,   6,   2,   4,   4,   9,   6,   6,   7,   1,\n",
    "          8,   6,   2,   6,   7,   7,   9,   8,   6,   4,   3,   4,   3,\n",
    "          6,   5,   2,   6,   9,   4,   6,   9,   5,   2,   8,   9,   2,\n",
    "          3,   2,   2,   8,   6,   1,   5,   2,   2,   7,   7,   1,   3,\n",
    "          4,   8,   3,   5,   1,   0]])\n",
    "x.shape"
   ]
  },
  {
   "cell_type": "code",
   "execution_count": 20,
   "metadata": {},
   "outputs": [
    {
     "data": {
      "text/plain": [
       "(3, 201)"
      ]
     },
     "execution_count": 20,
     "metadata": {},
     "output_type": "execute_result"
    }
   ],
   "source": [
    "env.observation_space"
   ]
  },
  {
   "cell_type": "code",
   "execution_count": 10,
   "metadata": {},
   "outputs": [],
   "source": [
    "env = gym.make(env_name)"
   ]
  },
  {
   "cell_type": "code",
   "execution_count": 11,
   "metadata": {},
   "outputs": [
    {
     "data": {
      "text/plain": [
       "Box(3, 201)"
      ]
     },
     "execution_count": 11,
     "metadata": {},
     "output_type": "execute_result"
    }
   ],
   "source": [
    "env.observation_space"
   ]
  },
  {
   "cell_type": "code",
   "execution_count": 12,
   "metadata": {},
   "outputs": [
    {
     "data": {
      "text/plain": [
       "200"
      ]
     },
     "execution_count": 12,
     "metadata": {},
     "output_type": "execute_result"
    }
   ],
   "source": [
    "x.max()"
   ]
  },
  {
   "cell_type": "code",
   "execution_count": 9,
   "metadata": {},
   "outputs": [],
   "source": [
    "def bkp_heuristic(env):\n",
    "    assert env.spec.id == 'Knapsack-v1', \\\n",
    "        '{} received. Heuristic designed for Knapsack-v1.'.format(env.spec.id)\n",
    "    env.reset()\n",
    "\n",
    "    # Get value-weight ratios\n",
    "    vw_ratio = env.item_values / env.item_weights\n",
    "    vw_order = env.item_numbers[np.argsort(vw_ratio)[::-1]]\n",
    "    actions = []\n",
    "    rewards = []\n",
    "    done = False\n",
    "    while not done:\n",
    "        # Check that max item is available\n",
    "        max_item = vw_order[0]\n",
    "        if env.item_limits[max_item] == 0:\n",
    "            # Remove item from list\n",
    "            vw_order = vw_order[1:].copy()\n",
    "            continue\n",
    "        # Check that item fits\n",
    "        if env.item_weights[max_item] > (env.max_weight - env.current_weight):\n",
    "            # Remove item from list\n",
    "            vw_order = vw_order[1:].copy()\n",
    "            continue\n",
    "        # Select max_item\n",
    "        state, reward, done, _ = env.step(max_item)\n",
    "        assert env.observation_space.contains(state)\n",
    "        actions.append(max_item)\n",
    "        rewards.append(reward)\n",
    "        \n",
    "    return actions, rewards"
   ]
  },
  {
   "cell_type": "code",
   "execution_count": 11,
   "metadata": {},
   "outputs": [],
   "source": [
    "a, r = bkp_heuristic(gym.make(env_name))"
   ]
  },
  {
   "cell_type": "code",
   "execution_count": 16,
   "metadata": {},
   "outputs": [
    {
     "data": {
      "text/plain": [
       "165"
      ]
     },
     "execution_count": 16,
     "metadata": {},
     "output_type": "execute_result"
    }
   ],
   "source": [
    "env.sample_action()"
   ]
  },
  {
   "cell_type": "code",
   "execution_count": 17,
   "metadata": {},
   "outputs": [],
   "source": [
    "env = gym.make(env_name)\n",
    "for i in range(1000):\n",
    "    done = False\n",
    "    state = env.reset()\n",
    "    while done == False:\n",
    "        action = env.sample_action()\n",
    "        state, reward, done, _ = env.step(action)\n",
    "        assert env.observation_space.contains(state)"
   ]
  },
  {
   "cell_type": "code",
   "execution_count": 2,
   "metadata": {},
   "outputs": [],
   "source": [
    "env = gym.make('VMPacking-v1')"
   ]
  },
  {
   "cell_type": "code",
   "execution_count": 4,
   "metadata": {},
   "outputs": [],
   "source": [
    "obs = (np.array([[ 0.00000000e+00,  0.00000000e+00,  0.00000000e+00],\n",
    "       [ 0.00000000e+00,  0.00000000e+00,  0.00000000e+00],\n",
    "       [ 1.00000000e+00,  1.55098013e-01,  4.57142860e-01],\n",
    "       [ 1.00000000e+00,  1.80095343e-01,  1.14285710e-01],\n",
    "       [ 1.00000000e+00,  1.68639428e-01,  4.57142860e-01],\n",
    "       [ 1.00000000e+00,  1.45168387e-01,  5.71428600e-02],\n",
    "       [ 0.00000000e+00,  0.00000000e+00,  0.00000000e+00],\n",
    "       [ 1.00000000e+00,  1.60860395e-01,  4.57142860e-01],\n",
    "       [ 0.00000000e+00,  0.00000000e+00,  0.00000000e+00],\n",
    "       [ 1.00000000e+00,  3.06611964e-01,  1.71428570e-01],\n",
    "       [ 1.00000000e+00,  1.59571429e-01,  4.57142860e-01],\n",
    "       [ 1.00000000e+00,  1.73140948e-01,  5.71428600e-02],\n",
    "       [ 0.00000000e+00,  0.00000000e+00,  0.00000000e+00],\n",
    "       [ 1.00000000e+00,  6.56247413e-01,  7.14285710e-01],\n",
    "       [ 0.00000000e+00,  0.00000000e+00,  0.00000000e+00],\n",
    "       [ 0.00000000e+00,  0.00000000e+00,  0.00000000e+00],\n",
    "       [ 0.00000000e+00,  0.00000000e+00,  0.00000000e+00],\n",
    "       [ 1.00000000e+00,  1.44259654e-01,  4.57142860e-01],\n",
    "       [ 0.00000000e+00,  0.00000000e+00,  0.00000000e+00],\n",
    "       [ 1.00000000e+00,  1.70548587e-01,  4.57142860e-01],\n",
    "       [ 1.00000000e+00,  1.74826422e-01,  1.14285710e-01],\n",
    "       [ 1.00000000e+00,  1.29823027e-01,  1.14285710e-01],\n",
    "       [ 1.00000000e+00,  1.48445172e-01,  5.71428600e-02],\n",
    "       [ 0.00000000e+00,  0.00000000e+00,  0.00000000e+00],\n",
    "       [ 0.00000000e+00,  0.00000000e+00,  0.00000000e+00],\n",
    "       [ 0.00000000e+00,  0.00000000e+00,  0.00000000e+00],\n",
    "       [ 1.00000000e+00,  5.03358110e-01,  6.00000000e-01],\n",
    "       [ 1.00000000e+00,  1.70531184e-01,  4.57142860e-01],\n",
    "       [ 1.00000000e+00,  3.16336877e-01,  5.14285720e-01],\n",
    "       [ 1.00000000e+00,  1.47469827e-01,  4.57142860e-01],\n",
    "       [ 1.00000000e+00,  3.10112246e-01,  2.28571420e-01],\n",
    "       [ 0.00000000e+00,  0.00000000e+00,  0.00000000e+00],\n",
    "       [ 1.00000000e+00,  1.61752004e-01,  1.14285710e-01],\n",
    "       [ 1.00000000e+00,  1.70775540e-01,  4.57142860e-01],\n",
    "       [ 0.00000000e+00,  0.00000000e+00,  0.00000000e+00],\n",
    "       [ 1.00000000e+00,  1.57151331e-01,  2.85714300e-02],\n",
    "       [ 1.00000000e+00,  3.26866391e-01,  1.71428570e-01],\n",
    "       [ 0.00000000e+00,  0.00000000e+00,  0.00000000e+00],\n",
    "       [ 1.00000000e+00,  3.22780079e-01,  1.71428570e-01],\n",
    "       [ 0.00000000e+00,  0.00000000e+00,  0.00000000e+00],\n",
    "       [ 1.00000000e+00,  1.66847336e-01,  4.57142860e-01],\n",
    "       [ 0.00000000e+00,  0.00000000e+00,  0.00000000e+00],\n",
    "       [ 0.00000000e+00,  0.00000000e+00,  0.00000000e+00],\n",
    "       [ 1.00000000e+00,  1.34825816e-01,  5.71428600e-02],\n",
    "       [ 1.00000000e+00,  1.57145190e-01,  5.71428600e-02],\n",
    "       [ 1.00000000e+00,  1.64246060e-01,  5.71428600e-02],\n",
    "       [ 0.00000000e+00,  0.00000000e+00,  0.00000000e+00],\n",
    "       [ 0.00000000e+00,  0.00000000e+00,  0.00000000e+00],\n",
    "       [ 1.00000000e+00,  1.56915612e-01,  1.14285710e-01],\n",
    "       [ 1.00000000e+00,  1.27940899e-01,  4.57142860e-01],\n",
    "       [ 0.00000000e+00,  0.00000000e+00,  0.00000000e+00],\n",
    "       [ 0.00000000e+00,  0.00000000e+00,  0.00000000e+00],\n",
    "       [ 0.00000000e+00,  0.00000000e+00,  0.00000000e+00],\n",
    "       [ 0.00000000e+00,  0.00000000e+00,  0.00000000e+00],\n",
    "       [ 0.00000000e+00,  0.00000000e+00,  0.00000000e+00],\n",
    "       [ 1.00000000e+00,  3.03802183e-01,  9.14285720e-01],\n",
    "       [ 0.00000000e+00,  0.00000000e+00,  0.00000000e+00],\n",
    "       [ 0.00000000e+00,  0.00000000e+00,  0.00000000e+00],\n",
    "       [ 1.00000000e+00,  1.34844522e-01,  5.71428600e-02],\n",
    "       [ 0.00000000e+00,  0.00000000e+00,  0.00000000e+00],\n",
    "       [ 0.00000000e+00,  0.00000000e+00,  0.00000000e+00],\n",
    "       [ 1.00000000e+00,  1.49018372e-01,  4.57142860e-01],\n",
    "       [ 0.00000000e+00,  0.00000000e+00,  0.00000000e+00],\n",
    "       [ 0.00000000e+00,  0.00000000e+00,  0.00000000e+00],\n",
    "       [ 1.00000000e+00,  1.75761829e-01,  5.71428600e-02],\n",
    "       [ 1.00000000e+00, -2.77555756e-17,  5.55111512e-17],\n",
    "       [ 1.00000000e+00,  1.58064302e-01,  4.57142860e-01],\n",
    "       [ 0.00000000e+00,  0.00000000e+00,  0.00000000e+00],\n",
    "       [ 1.00000000e+00,  1.44583625e-01,  9.14285710e-01],\n",
    "       [ 0.00000000e+00,  0.00000000e+00,  0.00000000e+00],\n",
    "       [ 0.00000000e+00,  0.00000000e+00,  0.00000000e+00],\n",
    "       [ 0.00000000e+00,  0.00000000e+00,  0.00000000e+00],\n",
    "       [ 0.00000000e+00,  0.00000000e+00,  0.00000000e+00],\n",
    "       [ 1.00000000e+00,  3.55295599e-01,  5.71428570e-01],\n",
    "       [ 0.00000000e+00,  0.00000000e+00,  0.00000000e+00],\n",
    "       [ 0.00000000e+00,  0.00000000e+00,  0.00000000e+00],\n",
    "       [ 1.00000000e+00,  3.38368611e-01,  5.14285720e-01],\n",
    "       [ 1.00000000e+00,  1.67349985e-01,  4.57142860e-01],\n",
    "       [ 1.00000000e+00,  1.46163657e-01,  1.00000000e+00],\n",
    "       [ 0.00000000e+00,  0.00000000e+00,  0.00000000e+00],\n",
    "       [ 0.00000000e+00,  0.00000000e+00,  0.00000000e+00],\n",
    "       [ 0.00000000e+00,  0.00000000e+00,  0.00000000e+00],\n",
    "       [ 1.00000000e+00,  3.18188350e-01,  9.14285720e-01],\n",
    "       [ 0.00000000e+00,  0.00000000e+00,  0.00000000e+00],\n",
    "       [ 1.00000000e+00,  1.68547386e-01,  2.85714300e-02],\n",
    "       [ 1.00000000e+00,  1.54996571e-01,  1.14285710e-01],\n",
    "       [ 0.00000000e+00,  0.00000000e+00,  0.00000000e+00],\n",
    "       [ 0.00000000e+00,  0.00000000e+00,  0.00000000e+00],\n",
    "       [ 1.00000000e+00,  1.63522740e-01,  2.85714300e-02],\n",
    "       [ 1.00000000e+00,  1.85800071e-01,  4.57142860e-01],\n",
    "       [ 0.00000000e+00,  0.00000000e+00,  0.00000000e+00],\n",
    "       [ 0.00000000e+00,  0.00000000e+00,  0.00000000e+00],\n",
    "       [ 0.00000000e+00,  0.00000000e+00,  0.00000000e+00],\n",
    "       [ 0.00000000e+00,  0.00000000e+00,  0.00000000e+00],\n",
    "       [ 1.00000000e+00,  1.62238654e-01,  1.14285710e-01],\n",
    "       [ 1.00000000e+00,  3.27169275e-01,  2.28571420e-01],\n",
    "       [ 1.00000000e+00,  1.58042847e-01,  5.71428600e-02],\n",
    "       [ 0.00000000e+00,  0.00000000e+00,  0.00000000e+00],\n",
    "       [ 1.00000000e+00,  3.26400855e-01,  1.42857140e-01],\n",
    "       [ 1.00000000e+00,  1.60645395e-01,  4.57142860e-01]]), np.array([0.17482642, 0.11428571]))"
   ]
  },
  {
   "cell_type": "code",
   "execution_count": 5,
   "metadata": {},
   "outputs": [
    {
     "data": {
      "text/plain": [
       "False"
      ]
     },
     "execution_count": 5,
     "metadata": {},
     "output_type": "execute_result"
    }
   ],
   "source": [
    "env.observation_space.contains(obs)"
   ]
  },
  {
   "cell_type": "code",
   "execution_count": 6,
   "metadata": {},
   "outputs": [
    {
     "data": {
      "text/plain": [
       "1.0"
      ]
     },
     "execution_count": 6,
     "metadata": {},
     "output_type": "execute_result"
    }
   ],
   "source": [
    "obs[0].max()"
   ]
  },
  {
   "cell_type": "code",
   "execution_count": 7,
   "metadata": {},
   "outputs": [
    {
     "data": {
      "text/plain": [
       "-2.77555756e-17"
      ]
     },
     "execution_count": 7,
     "metadata": {},
     "output_type": "execute_result"
    }
   ],
   "source": [
    "obs[0].min()"
   ]
  },
  {
   "cell_type": "code",
   "execution_count": 9,
   "metadata": {},
   "outputs": [],
   "source": [
    "obs_new = (np.where(obs[0]<0,0,obs[0]), obs[1])"
   ]
  },
  {
   "cell_type": "code",
   "execution_count": 10,
   "metadata": {},
   "outputs": [
    {
     "data": {
      "text/plain": [
       "True"
      ]
     },
     "execution_count": 10,
     "metadata": {},
     "output_type": "execute_result"
    }
   ],
   "source": [
    "env.observation_space.contains(obs_new)"
   ]
  },
  {
   "cell_type": "code",
   "execution_count": null,
   "metadata": {},
   "outputs": [],
   "source": []
  }
 ],
 "metadata": {
  "kernelspec": {
   "display_name": "Python 3",
   "language": "python",
   "name": "python3"
  },
  "language_info": {
   "codemirror_mode": {
    "name": "ipython",
    "version": 3
   },
   "file_extension": ".py",
   "mimetype": "text/x-python",
   "name": "python",
   "nbconvert_exporter": "python",
   "pygments_lexer": "ipython3",
   "version": "3.6.10"
  }
 },
 "nbformat": 4,
 "nbformat_minor": 4
}
