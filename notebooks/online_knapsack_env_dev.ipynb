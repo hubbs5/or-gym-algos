{
 "cells": [
  {
   "cell_type": "code",
   "execution_count": 2,
   "metadata": {},
   "outputs": [],
   "source": [
    "import gym\n",
    "from gym import spaces\n",
    "from gym.utils import seeding\n",
    "import or_gym\n",
    "from or_gym.envs.classic_or.knapsack import BoundedKnapsackEnv, KnapsackEnv\n",
    "import numpy as np"
   ]
  },
  {
   "cell_type": "code",
   "execution_count": 3,
   "metadata": {},
   "outputs": [],
   "source": [
    "env = gym.make('Knapsack-v1')"
   ]
  },
  {
   "cell_type": "code",
   "execution_count": 23,
   "metadata": {},
   "outputs": [],
   "source": [
    "class OnlineKnapsackEnv(BoundedKnapsackEnv):\n",
    "    \n",
    "    def __init__(self):\n",
    "        BoundedKnapsackEnv.__init__(self)\n",
    "        self.action_space = spaces.Discrete(2)\n",
    "        self.observation_space = spaces.Tuple((\n",
    "            spaces.Discrete(self.N),\n",
    "            spaces.Discrete(self.N),\n",
    "            spaces.Discrete(3)))\n",
    "\n",
    "        self.step_counter = 0\n",
    "        self.step_limit = 5\n",
    "        \n",
    "        self.seed()\n",
    "        self.state = self.reset()\n",
    "        \n",
    "    def step(self, action):\n",
    "        # Check that item will fit\n",
    "        if bool(action):\n",
    "            # Check that item will fit\n",
    "            if self.item_weights[self.current_item] + self.current_weight <= self.max_weight:\n",
    "                self.current_weight += self.item_weights[self.current_item]\n",
    "                reward = self.item_values[self.current_item]\n",
    "                if self.current_weight == self.max_weight:\n",
    "                    done = True\n",
    "                else:\n",
    "                    done = False\n",
    "            else:\n",
    "                # End if over weight\n",
    "                reward = 0\n",
    "                done = True\n",
    "        else:\n",
    "            reward = 0\n",
    "            done = False\n",
    "            \n",
    "        self.step_counter += 1\n",
    "        if self.step_counter >= self.step_limit:\n",
    "            done = True\n",
    "            \n",
    "        self._update_state()\n",
    "        return self.state, reward, done, {}\n",
    "    \n",
    "    def _update_state(self):\n",
    "        self.current_item = np.random.choice(self.item_numbers, p=self.item_probs)\n",
    "        self.state = (\n",
    "            self.item_weights,\n",
    "            self.item_values,\n",
    "            self.item_probs,\n",
    "            self.max_weight,\n",
    "            np.array([\n",
    "                self.current_weight,\n",
    "                self.current_item\n",
    "            ]))\n",
    "        \n",
    "    def sample_action(self):\n",
    "        return np.random.choice([0, 1])\n",
    "    \n",
    "    def reset(self):\n",
    "        self.item_probs = self.item_limits_init / self.item_limits_init.sum()\n",
    "        self.current_weight = 0\n",
    "        self.item_limits = self.item_limits_init.copy()\n",
    "        self._update_state()\n",
    "        return self.state"
   ]
  },
  {
   "cell_type": "code",
   "execution_count": null,
   "metadata": {},
   "outputs": [],
   "source": []
  }
 ],
 "metadata": {
  "kernelspec": {
   "display_name": "Python 3",
   "language": "python",
   "name": "python3"
  },
  "language_info": {
   "codemirror_mode": {
    "name": "ipython",
    "version": 3
   },
   "file_extension": ".py",
   "mimetype": "text/x-python",
   "name": "python",
   "nbconvert_exporter": "python",
   "pygments_lexer": "ipython3",
   "version": "3.6.10"
  }
 },
 "nbformat": 4,
 "nbformat_minor": 4
}
