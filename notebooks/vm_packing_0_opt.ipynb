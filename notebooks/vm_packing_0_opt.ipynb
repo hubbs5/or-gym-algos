{
 "cells": [
  {
   "cell_type": "code",
   "execution_count": 1,
   "metadata": {},
   "outputs": [],
   "source": [
    "import or_gym\n",
    "import numpy as np\n",
    "import matplotlib.pyplot as plt\n",
    "import copy\n",
    "from pyomo.environ import *\n",
    "from pyomo.opt import SolverFactory\n",
    "import time\n",
    "%matplotlib inline\n",
    "plt.style.use('cmu_paper')"
   ]
  },
  {
   "cell_type": "code",
   "execution_count": 4,
   "metadata": {},
   "outputs": [
    {
     "name": "stdout",
     "output_type": "stream",
     "text": [
      "Read LP format model from file /tmp/tmpl2xsw873.pyomo.lp\n",
      "Reading time = 0.00 seconds\n",
      "x351: 431 rows, 351 columns, 1601 nonzeros\n",
      "Changed value of parameter MIPGap to 0.05\n",
      "   Prev: 0.0001  Min: 0.0  Max: 1e+100  Default: 0.0001\n",
      "Changed value of parameter Threads to 4\n",
      "   Prev: 0  Min: 0  Max: 1024  Default: 0\n",
      "Optimize a model with 431 rows, 351 columns and 1601 nonzeros\n",
      "Variable types: 1 continuous, 350 integer (350 binary)\n",
      "Coefficient statistics:\n",
      "  Matrix range     [3e-02, 5e+00]\n",
      "  Objective range  [2e-01, 2e+00]\n",
      "  Bounds range     [1e+00, 1e+00]\n",
      "  RHS range        [1e+00, 1e+00]\n",
      "Found heuristic solution: objective -18.1088154\n",
      "Presolve removed 286 rows and 261 columns\n",
      "Presolve time: 0.00s\n",
      "Presolved: 145 rows, 90 columns, 330 nonzeros\n",
      "Variable types: 0 continuous, 90 integer (90 binary)\n",
      "\n",
      "Root relaxation: objective -6.108815e+00, 5 iterations, 0.00 seconds\n",
      "\n",
      "    Nodes    |    Current Node    |     Objective Bounds      |     Work\n",
      " Expl Unexpl |  Obj  Depth IntInf | Incumbent    BestBd   Gap | It/Node Time\n",
      "\n",
      "*    0     0               0      -6.1088154   -6.10882  0.00%     -    0s\n",
      "\n",
      "Explored 0 nodes (5 simplex iterations) in 0.01 seconds\n",
      "Thread count was 4 (of 8 available processors)\n",
      "\n",
      "Solution count 2: -6.10882 -18.1088 \n",
      "\n",
      "Optimal solution found (tolerance 5.00e-02)\n",
      "Best objective -6.108815392072e+00, best bound -6.108815392072e+00, gap 0.0000%\n",
      "[[0 0 0]\n",
      " [0 1 1]\n",
      " [0 2 2]\n",
      " [0 3 3]\n",
      " [0 4 4]]\n",
      "-6.108815392071911 5 4\n",
      "-6.108815392071911\n"
     ]
    }
   ],
   "source": [
    "env = or_gym.make('VMPacking-v0')\n",
    "env.step_limit = 5\n",
    "env.n_pms = 10\n",
    "%timeit\n",
    "env.reset()\n",
    "# env.demand = fixed_demand.copy()\n",
    "m = ConcreteModel()\n",
    "\n",
    "m.n = Set(initialize=[i for i in range(env.n_pms)]) # Num Physical Machines\n",
    "m.v = Set(initialize=[i for i in range(env.step_limit)]) # Num Virtual Machines\n",
    "m.t = Set(initialize=[i for i in range(env.step_limit)])\n",
    "m.cpu_demand = Param(m.t,\n",
    "    initialize={i: j[1] for i, j in enumerate(env.demand)})\n",
    "m.mem_demand = Param(m.t,\n",
    "    initialize={i: j[2] for i, j in enumerate(env.demand)})\n",
    "m.durations = Param(m.v,\n",
    "    initialize={i: env.step_limit - i for i in range(env.step_limit)})\n",
    "min_demand = min(m.mem_demand[t] for t in m.t)\n",
    "m.cpu_limit = env.cpu_capacity\n",
    "m.mem_limit = env.mem_capacity\n",
    "\n",
    "m.x = Var(m.n, m.v, m.t, within=Binary) # Assign VM's to machines\n",
    "m.y = Var(m.n, m.v, within=Binary)\n",
    "m.z = Var(m.n, m.t, within=Binary) # Number of Machine\n",
    "\n",
    "@m.Constraint(m.n, m.t)\n",
    "def cpu_constraint(m, n, t):\n",
    "    return sum(m.x[n, v, t] * m.cpu_demand[v] \n",
    "               for v in m.v) - m.cpu_limit <= 0\n",
    "\n",
    "@m.Constraint(m.n, m.t)\n",
    "def mem_constraint(m, n, t):\n",
    "    return sum(m.x[n, v, t] * m.mem_demand[v]\n",
    "               for v in m.v) - m.mem_limit <= 0\n",
    "\n",
    "@m.Constraint(m.n, m.v)\n",
    "def duration_constraint(m, n, v):\n",
    "    return sum(m.x[n, v, t] \n",
    "            for t in m.t)- m.y[n, v] * m.durations[v] == 0\n",
    "\n",
    "@m.Constraint(m.v)\n",
    "def vm_machine_assignment(m, v):\n",
    "    return sum(m.y[n, v] for n in m.n) == 1\n",
    "\n",
    "@m.Constraint(m.v, m.t)\n",
    "def assignment_constraint(m, v, t):\n",
    "    if t >= v:\n",
    "        return sum(m.x[n, v, t] for n in m.n) <= 1\n",
    "    else:\n",
    "        return sum(m.x[n, v, t] for n in m.n) == 0\n",
    "    \n",
    "@m.Constraint(m.n, m.v, m.t)\n",
    "def time_constraint(m, n, v, t):\n",
    "    return (m.z[n, t] - m.x[n, v, t]) >= 0\n",
    "    \n",
    "# Maximize PM Packing\n",
    "# m.obj = Objective(expr=(\n",
    "#     sum(m.y[n, v] for v in m.v for n in m.n)),\n",
    "#     sense=minimize)\n",
    "# m.obj = Objective(expr=(\n",
    "#     sum(m.x[n, v, t]\n",
    "#         for n in m.n\n",
    "#         for v in m.v\n",
    "#         for t in m.t)),\n",
    "#     sense=minimize)\n",
    "m.obj = Objective(expr=(\n",
    "    sum(sum(m.x[n, v, t] * (m.cpu_demand[v] + m.mem_demand[v])\n",
    "        for v in m.v) - 2 * m.z[n, t]\n",
    "        for n in m.n\n",
    "        for t in m.t)),\n",
    "    sense=maximize)\n",
    "\n",
    "solver = SolverFactory('gurobi')\n",
    "solver.options['MIPGap'] = 0.05\n",
    "solver.options['Threads'] = 4\n",
    "# solver.options\n",
    "results = solver.solve(m, tee=True)\n",
    "\n",
    "plan = []\n",
    "for v in m.v:\n",
    "    for t in m.t:\n",
    "        if v == t:\n",
    "            for n in m.n:\n",
    "                if m.x[n, v, t].value is None:\n",
    "                    continue\n",
    "                if m.x[n, v, t].value > 0:\n",
    "                    plan.append([n, v, t])\n",
    "\n",
    "plan = np.vstack(plan)\n",
    "print(plan)\n",
    "rewards = []\n",
    "actions = []\n",
    "states = []\n",
    "done = False\n",
    "for a in plan:\n",
    "    t = a[1]\n",
    "    action = a[0]\n",
    "    state, r, done, _ = env.step(action)\n",
    "    states.append(copy.deepcopy(state))\n",
    "    actions.append(action)\n",
    "    rewards.append(r)\n",
    "    if done:\n",
    "        print(sum(rewards), len(rewards), t)\n",
    "        break\n",
    "        \n",
    "print(m.obj.expr())"
   ]
  },
  {
   "cell_type": "code",
   "execution_count": 90,
   "metadata": {},
   "outputs": [],
   "source": [
    "def build_online_vm_opt(env):\n",
    "    m = ConcreteModel()\n",
    "    \n",
    "    m.t0 = env.current_step # Current time\n",
    "    m.n = Set(initialize=[i for i in range(env.n_pms)]) # Num Physical Machines\n",
    "    # One new VM at each time step\n",
    "    m.v = Set(initialize=[v for v in range(env.current_step+1)])\n",
    "    m.t = Set(initialize=[t for t in range(env.step_limit)])\n",
    "    \n",
    "    m.cpu_demand = Param(m.v,\n",
    "        initialize={i: j[1] for i, j in enumerate(env.demand[:m.t0+1])})\n",
    "    m.mem_demand = Param(m.v,\n",
    "        initialize={i: j[2] for i, j in enumerate(env.demand[:m.t0+1])})\n",
    "    m.durations = Param(m.v,\n",
    "        initialize={v: env.step_limit - v for v in m.v})\n",
    "    m.cpu_limit = env.cpu_capacity\n",
    "    m.mem_limit = env.mem_capacity\n",
    "\n",
    "    m.x = Var(m.n, m.v, m.t, within=Binary) # Assign VM's to machines at t\n",
    "    m.y = Var(m.n, m.v, within=Binary) # Assign VM's to machine\n",
    "    m.z = Var(m.n, m.t, within=Binary) # Time when machine is occupied\n",
    "    \n",
    "    # Fix variables for pre-existing values\n",
    "    if m.t0 > 0:\n",
    "        for k in env.assignment: # Times\n",
    "            n = env.assignment[k]\n",
    "            m.y[n, k].fix(1)\n",
    "            for t in m.t:\n",
    "                m.x[n, k, t].fix(1)\n",
    "        \n",
    "    @m.Constraint(m.n, m.t)\n",
    "    def cpu_constraint(m, n, t):\n",
    "        return sum(m.x[n, v, t] * m.cpu_demand[v] \n",
    "                   for v in m.v) - m.cpu_limit <= 0\n",
    "\n",
    "    @m.Constraint(m.n, m.t)\n",
    "    def mem_constraint(m, n, t):\n",
    "        return sum(m.x[n, v, t] * m.mem_demand[v]\n",
    "                   for v in m.v) - m.mem_limit <= 0\n",
    "\n",
    "    @m.Constraint(m.n, m.v)\n",
    "    def duration_constraint(m, n, v):\n",
    "        return sum(m.x[n, v, t] \n",
    "                for t in m.t)- m.y[n, v] * m.durations[v] == 0\n",
    "\n",
    "    @m.Constraint(m.v)\n",
    "    def vm_machine_assignment(m, v):\n",
    "        return sum(m.y[n, v] for n in m.n) == 1\n",
    "\n",
    "    @m.Constraint(m.v, m.t)\n",
    "    def assignment_constraint(m, v, t):\n",
    "        if t >= v:\n",
    "            return sum(m.x[n, v, t] for n in m.n) <= 1\n",
    "        else:\n",
    "            return sum(m.x[n, v, t] for n in m.n) == 0\n",
    "\n",
    "    @m.Constraint(m.n, m.v, m.t)\n",
    "    def time_constraint(m, n, v, t):\n",
    "        return (m.z[n, t] - m.x[n, v, t]) >= 0\n",
    "\n",
    "    # Maximize PM Packing\n",
    "    m.obj = Objective(expr=(\n",
    "        sum(sum(m.x[n, v, t] * (m.cpu_demand[v] + m.mem_demand[v])\n",
    "            for v in m.v) - 2 * m.z[n, t]\n",
    "            for n in m.n\n",
    "            for t in m.t)),\n",
    "        sense=maximize)\n",
    "    return m"
   ]
  },
  {
   "cell_type": "code",
   "execution_count": 44,
   "metadata": {},
   "outputs": [],
   "source": [
    "solver = SolverFactory('gurobi')\n",
    "env.reset()\n",
    "m = build_online_vm_opt(env)\n",
    "results = solver.solve(m)\n",
    "action = extract_plan(m)[0]\n",
    "out = env.step(action)"
   ]
  },
  {
   "cell_type": "code",
   "execution_count": 46,
   "metadata": {},
   "outputs": [
    {
     "name": "stdout",
     "output_type": "stream",
     "text": [
      "WARNING: Loading a SolverResults object with a warning status into\n",
      "    model=unknown;\n",
      "        message from solver=Problem proven to be infeasible or unbounded.\n"
     ]
    }
   ],
   "source": [
    "m = build_online_vm_opt(env)\n",
    "results = solver.solve(m)\n",
    "action = extract_plan(m)[0]\n",
    "out = env.step(action)"
   ]
  },
  {
   "cell_type": "code",
   "execution_count": 64,
   "metadata": {},
   "outputs": [
    {
     "name": "stdout",
     "output_type": "stream",
     "text": [
      "x vars\n",
      "N=0\tV=0\tt=1\tx=1\n",
      "N=0\tV=0\tt=2\tx=1\n",
      "N=0\tV=0\tt=3\tx=1\n",
      "N=0\tV=0\tt=4\tx=1\n",
      "\n",
      "y vars\n",
      "N=0\tV=0\ty=1\n",
      "\n",
      "z vars\n"
     ]
    }
   ],
   "source": [
    "print('x vars')\n",
    "_ = [print(\"N={}\\tV={}\\tt={}\\tx={}\".format(idx[0], idx[1], idx[2], m.x[idx].value))\n",
    "     for idx in m.x if m.x[idx].value is not None]\n",
    "print('\\ny vars')\n",
    "_ = [print(\"N={}\\tV={}\\ty={}\".format(idx[0], idx[1], m.y[idx].value)) \n",
    "     for idx in m.y if m.y[idx].value is not None]\n",
    "print('\\nz vars')\n",
    "_ = [print(\"N={}\\tt={}\\tz={}\".format(idx[0], idx[1], m.z[idx].value)) \n",
    "     for idx in m.z if m.z[idx].value is not None]"
   ]
  },
  {
   "cell_type": "code",
   "execution_count": 65,
   "metadata": {},
   "outputs": [],
   "source": [
    "if m.t0 > 0:\n",
    "    for k in env.assignment: # Times\n",
    "        n = env.assignment[k]\n",
    "        for t in m.t:\n",
    "            m.x[n, k, t].fix(1)\n",
    "        m.y[n, k].fix(1)"
   ]
  },
  {
   "cell_type": "code",
   "execution_count": 56,
   "metadata": {},
   "outputs": [
    {
     "data": {
      "text/plain": [
       "[0.15515643529097686, 0.16309118762937813]"
      ]
     },
     "execution_count": 56,
     "metadata": {},
     "output_type": "execute_result"
    }
   ],
   "source": [
    "[m.cpu_demand[idx] for idx in m.cpu_demand]"
   ]
  },
  {
   "cell_type": "code",
   "execution_count": 58,
   "metadata": {},
   "outputs": [
    {
     "data": {
      "text/plain": [
       "[0.11428571, 0.45714286]"
      ]
     },
     "execution_count": 58,
     "metadata": {},
     "output_type": "execute_result"
    }
   ],
   "source": [
    "[m.mem_demand[idx] for idx in m.mem_demand]"
   ]
  },
  {
   "cell_type": "code",
   "execution_count": 73,
   "metadata": {},
   "outputs": [],
   "source": [
    "env.reset()\n",
    "_ = env.step(0)"
   ]
  },
  {
   "cell_type": "code",
   "execution_count": 87,
   "metadata": {},
   "outputs": [
    {
     "data": {
      "text/plain": [
       "{0: 0}"
      ]
     },
     "execution_count": 87,
     "metadata": {},
     "output_type": "execute_result"
    }
   ],
   "source": [
    "env.assignment"
   ]
  },
  {
   "cell_type": "code",
   "execution_count": 86,
   "metadata": {},
   "outputs": [
    {
     "name": "stdout",
     "output_type": "stream",
     "text": [
      "WARNING: Loading a SolverResults object with a warning status into\n",
      "    model=unknown;\n",
      "        message from solver=Problem proven to be infeasible or unbounded.\n"
     ]
    }
   ],
   "source": [
    "m = ConcreteModel()\n",
    "    \n",
    "m.t0 = env.current_step # Current time\n",
    "m.n = Set(initialize=[i for i in range(env.n_pms)]) # Num Physical Machines\n",
    "# One new VM at each time step\n",
    "m.v = Set(initialize=[v for v in range(m.t0+1)])\n",
    "m.t = Set(initialize=[t for t in range(m.t0, env.step_limit)])\n",
    "\n",
    "m.cpu_demand = Param(m.v,\n",
    "    initialize={i: j[1] for i, j in enumerate(env.demand[:m.t0+1])})\n",
    "m.mem_demand = Param(m.v,\n",
    "    initialize={i: j[2] for i, j in enumerate(env.demand[:m.t0+1])})\n",
    "m.durations = Param(m.v,\n",
    "    initialize={v: env.step_limit - v for v in m.v})\n",
    "m.cpu_limit = env.cpu_capacity\n",
    "m.mem_limit = env.mem_capacity\n",
    "\n",
    "m.x = Var(m.n, m.v, m.t, within=Binary) # Assign VM's to machines at t\n",
    "m.y = Var(m.n, m.v, within=Binary) # Assign VM's to machine\n",
    "m.z = Var(m.n, m.t, within=Binary) # Time when machine is occupied\n",
    "\n",
    "# Fix variables for pre-existing values\n",
    "if m.t0 > 0:\n",
    "    for k in env.assignment:\n",
    "        n = env.assignment[k]\n",
    "        m.y[n, k].fix(1)\n",
    "        for t in m.t:\n",
    "            if t >= k:\n",
    "                m.x[n, k, t].fix(1)\n",
    "            else:\n",
    "                m.x[n, k, t].fix(0)\n",
    "\n",
    "@m.Constraint(m.n, m.t)\n",
    "def cpu_constraint(m, n, t):\n",
    "    return sum(m.x[n, v, t] * m.cpu_demand[v] \n",
    "               for v in m.v) - m.cpu_limit <= 0\n",
    "\n",
    "@m.Constraint(m.n, m.t)\n",
    "def mem_constraint(m, n, t):\n",
    "    return sum(m.x[n, v, t] * m.mem_demand[v]\n",
    "               for v in m.v) - m.mem_limit <= 0\n",
    "\n",
    "@m.Constraint(m.n, m.v)\n",
    "def duration_constraint(m, n, v):\n",
    "    return sum(m.x[n, v, t] \n",
    "            for t in m.t)- m.y[n, v] * m.durations[v] == 0\n",
    "\n",
    "@m.Constraint(m.v)\n",
    "def vm_machine_assignment(m, v):\n",
    "    return sum(m.y[n, v] for n in m.n) == 1\n",
    "\n",
    "@m.Constraint(m.v, m.t)\n",
    "def assignment_constraint(m, v, t):\n",
    "    if t >= v:\n",
    "        return sum(m.x[n, v, t] for n in m.n) <= 1\n",
    "    else:\n",
    "        return sum(m.x[n, v, t] for n in m.n) == 0\n",
    "\n",
    "@m.Constraint(m.n, m.v, m.t)\n",
    "def time_constraint(m, n, v, t):\n",
    "    return (m.z[n, t] - m.x[n, v, t]) >= 0\n",
    "\n",
    "# Maximize PM Packing\n",
    "m.obj = Objective(expr=(\n",
    "    sum(sum(m.x[n, v, t] * (m.cpu_demand[v] + m.mem_demand[v])\n",
    "        for v in m.v) - 2 * m.z[n, t]\n",
    "        for n in m.n\n",
    "        for t in m.t)),\n",
    "    sense=maximize)\n",
    "\n",
    "results = solver.solve(m)"
   ]
  },
  {
   "cell_type": "code",
   "execution_count": 84,
   "metadata": {},
   "outputs": [
    {
     "data": {
      "text/plain": [
       "{0: 0}"
      ]
     },
     "execution_count": 84,
     "metadata": {},
     "output_type": "execute_result"
    }
   ],
   "source": [
    "env.assignment"
   ]
  },
  {
   "cell_type": "code",
   "execution_count": 80,
   "metadata": {},
   "outputs": [
    {
     "data": {
      "text/plain": [
       "[(1, array([0.        , 0.14914529, 0.45714286]))]"
      ]
     },
     "execution_count": 80,
     "metadata": {},
     "output_type": "execute_result"
    }
   ],
   "source": [
    "[(i, j) for i, j in enumerate(env.demand[m.t0:m.t0+1], m.t0)]"
   ]
  },
  {
   "cell_type": "code",
   "execution_count": 91,
   "metadata": {},
   "outputs": [
    {
     "name": "stdout",
     "output_type": "stream",
     "text": [
      "WARNING: Loading a SolverResults object with a warning status into\n",
      "    model=unknown;\n",
      "        message from solver=Problem proven to be infeasible or unbounded.\n",
      "ERROR: evaluating object as numeric value: x[0,2,0]\n",
      "        (object: <class 'pyomo.core.base.var._GeneralVarData'>)\n",
      "    No value for uninitialized NumericValue object x[0,2,0]\n"
     ]
    },
    {
     "ename": "ValueError",
     "evalue": "No value for uninitialized NumericValue object x[0,2,0]",
     "output_type": "error",
     "traceback": [
      "\u001b[0;31m---------------------------------------------------------------------------\u001b[0m",
      "\u001b[0;31mValueError\u001b[0m                                Traceback (most recent call last)",
      "\u001b[0;32m<ipython-input-91-fda75f6dd914>\u001b[0m in \u001b[0;36m<module>\u001b[0;34m\u001b[0m\n\u001b[1;32m     24\u001b[0m     \u001b[0mcount\u001b[0m \u001b[0;34m+=\u001b[0m \u001b[0;36m1\u001b[0m\u001b[0;34m\u001b[0m\u001b[0;34m\u001b[0m\u001b[0m\n\u001b[1;32m     25\u001b[0m     \u001b[0mtimes\u001b[0m\u001b[0;34m.\u001b[0m\u001b[0mappend\u001b[0m\u001b[0;34m(\u001b[0m\u001b[0mt2\u001b[0m\u001b[0;34m-\u001b[0m\u001b[0mt1\u001b[0m\u001b[0;34m)\u001b[0m\u001b[0;34m\u001b[0m\u001b[0;34m\u001b[0m\u001b[0m\n\u001b[0;32m---> 26\u001b[0;31m     \u001b[0mobj_vals\u001b[0m\u001b[0;34m.\u001b[0m\u001b[0mappend\u001b[0m\u001b[0;34m(\u001b[0m\u001b[0mm\u001b[0m\u001b[0;34m.\u001b[0m\u001b[0mobj\u001b[0m\u001b[0;34m.\u001b[0m\u001b[0mexpr\u001b[0m\u001b[0;34m(\u001b[0m\u001b[0;34m)\u001b[0m\u001b[0;34m)\u001b[0m\u001b[0;34m\u001b[0m\u001b[0;34m\u001b[0m\u001b[0m\n\u001b[0m\u001b[1;32m     27\u001b[0m     \u001b[0mbin_vars\u001b[0m\u001b[0;34m.\u001b[0m\u001b[0mappend\u001b[0m\u001b[0;34m(\u001b[0m\u001b[0mresults\u001b[0m\u001b[0;34m[\u001b[0m\u001b[0;34m'Problem'\u001b[0m\u001b[0;34m]\u001b[0m\u001b[0;34m[\u001b[0m\u001b[0;36m0\u001b[0m\u001b[0;34m]\u001b[0m\u001b[0;34m[\u001b[0m\u001b[0;34m'Number of binary variables'\u001b[0m\u001b[0;34m]\u001b[0m\u001b[0;34m)\u001b[0m\u001b[0;34m\u001b[0m\u001b[0;34m\u001b[0m\u001b[0m\n\u001b[1;32m     28\u001b[0m     \u001b[0;32mif\u001b[0m \u001b[0mcount\u001b[0m \u001b[0;34m%\u001b[0m \u001b[0;36m10\u001b[0m \u001b[0;34m==\u001b[0m \u001b[0;36m0\u001b[0m\u001b[0;34m:\u001b[0m\u001b[0;34m\u001b[0m\u001b[0;34m\u001b[0m\u001b[0m\n",
      "\u001b[0;32m~/anaconda3/lib/python3.6/site-packages/pyomo/core/expr/expr_pyomo5.py\u001b[0m in \u001b[0;36m__call__\u001b[0;34m(self, exception)\u001b[0m\n\u001b[1;32m   1591\u001b[0m             \u001b[0mThe\u001b[0m \u001b[0mvalue\u001b[0m \u001b[0mof\u001b[0m \u001b[0mthe\u001b[0m \u001b[0mexpression\u001b[0m \u001b[0;32mor\u001b[0m \u001b[0;34m:\u001b[0m\u001b[0mconst\u001b[0m\u001b[0;34m:\u001b[0m\u001b[0;31m`\u001b[0m\u001b[0;32mNone\u001b[0m\u001b[0;31m`\u001b[0m\u001b[0;34m.\u001b[0m\u001b[0;34m\u001b[0m\u001b[0;34m\u001b[0m\u001b[0m\n\u001b[1;32m   1592\u001b[0m         \"\"\"\n\u001b[0;32m-> 1593\u001b[0;31m         \u001b[0;32mreturn\u001b[0m \u001b[0mevaluate_expression\u001b[0m\u001b[0;34m(\u001b[0m\u001b[0mself\u001b[0m\u001b[0;34m,\u001b[0m \u001b[0mexception\u001b[0m\u001b[0;34m)\u001b[0m\u001b[0;34m\u001b[0m\u001b[0;34m\u001b[0m\u001b[0m\n\u001b[0m\u001b[1;32m   1594\u001b[0m \u001b[0;34m\u001b[0m\u001b[0m\n\u001b[1;32m   1595\u001b[0m     \u001b[0;32mdef\u001b[0m \u001b[0m__str__\u001b[0m\u001b[0;34m(\u001b[0m\u001b[0mself\u001b[0m\u001b[0;34m)\u001b[0m\u001b[0;34m:\u001b[0m\u001b[0;34m\u001b[0m\u001b[0;34m\u001b[0m\u001b[0m\n",
      "\u001b[0;32m~/anaconda3/lib/python3.6/site-packages/pyomo/core/expr/expr_pyomo5.py\u001b[0m in \u001b[0;36mevaluate_expression\u001b[0;34m(exp, exception, constant)\u001b[0m\n\u001b[1;32m   1157\u001b[0m         \u001b[0mvisitor\u001b[0m \u001b[0;34m=\u001b[0m \u001b[0m_EvaluationVisitor\u001b[0m\u001b[0;34m(\u001b[0m\u001b[0;34m)\u001b[0m\u001b[0;34m\u001b[0m\u001b[0;34m\u001b[0m\u001b[0m\n\u001b[1;32m   1158\u001b[0m     \u001b[0;32mtry\u001b[0m\u001b[0;34m:\u001b[0m\u001b[0;34m\u001b[0m\u001b[0;34m\u001b[0m\u001b[0m\n\u001b[0;32m-> 1159\u001b[0;31m         \u001b[0;32mreturn\u001b[0m \u001b[0mvisitor\u001b[0m\u001b[0;34m.\u001b[0m\u001b[0mdfs_postorder_stack\u001b[0m\u001b[0;34m(\u001b[0m\u001b[0mexp\u001b[0m\u001b[0;34m)\u001b[0m\u001b[0;34m\u001b[0m\u001b[0;34m\u001b[0m\u001b[0m\n\u001b[0m\u001b[1;32m   1160\u001b[0m \u001b[0;34m\u001b[0m\u001b[0m\n\u001b[1;32m   1161\u001b[0m     \u001b[0;32mexcept\u001b[0m \u001b[0mNonConstantExpressionError\u001b[0m\u001b[0;34m:\u001b[0m  \u001b[0;31m#pragma: no cover\u001b[0m\u001b[0;34m\u001b[0m\u001b[0;34m\u001b[0m\u001b[0m\n",
      "\u001b[0;32m~/anaconda3/lib/python3.6/site-packages/pyomo/core/expr/expr_pyomo5.py\u001b[0m in \u001b[0;36mdfs_postorder_stack\u001b[0;34m(self, node)\u001b[0m\n\u001b[1;32m    702\u001b[0m                 \u001b[0m_sub\u001b[0m \u001b[0;34m=\u001b[0m \u001b[0m_argList\u001b[0m\u001b[0;34m[\u001b[0m\u001b[0m_idx\u001b[0m\u001b[0;34m]\u001b[0m\u001b[0;34m\u001b[0m\u001b[0;34m\u001b[0m\u001b[0m\n\u001b[1;32m    703\u001b[0m                 \u001b[0m_idx\u001b[0m \u001b[0;34m+=\u001b[0m \u001b[0;36m1\u001b[0m\u001b[0;34m\u001b[0m\u001b[0;34m\u001b[0m\u001b[0m\n\u001b[0;32m--> 704\u001b[0;31m                 \u001b[0mflag\u001b[0m\u001b[0;34m,\u001b[0m \u001b[0mvalue\u001b[0m \u001b[0;34m=\u001b[0m \u001b[0mself\u001b[0m\u001b[0;34m.\u001b[0m\u001b[0mvisiting_potential_leaf\u001b[0m\u001b[0;34m(\u001b[0m\u001b[0m_sub\u001b[0m\u001b[0;34m)\u001b[0m\u001b[0;34m\u001b[0m\u001b[0;34m\u001b[0m\u001b[0m\n\u001b[0m\u001b[1;32m    705\u001b[0m                 \u001b[0;32mif\u001b[0m \u001b[0mflag\u001b[0m\u001b[0;34m:\u001b[0m\u001b[0;34m\u001b[0m\u001b[0;34m\u001b[0m\u001b[0m\n\u001b[1;32m    706\u001b[0m                     \u001b[0m_result\u001b[0m\u001b[0;34m.\u001b[0m\u001b[0mappend\u001b[0m\u001b[0;34m(\u001b[0m \u001b[0mvalue\u001b[0m \u001b[0;34m)\u001b[0m\u001b[0;34m\u001b[0m\u001b[0;34m\u001b[0m\u001b[0m\n",
      "\u001b[0;32m~/anaconda3/lib/python3.6/site-packages/pyomo/core/expr/expr_pyomo5.py\u001b[0m in \u001b[0;36mvisiting_potential_leaf\u001b[0;34m(self, node)\u001b[0m\n\u001b[1;32m   1077\u001b[0m \u001b[0;34m\u001b[0m\u001b[0m\n\u001b[1;32m   1078\u001b[0m         \u001b[0;32mif\u001b[0m \u001b[0mnode\u001b[0m\u001b[0;34m.\u001b[0m\u001b[0mis_variable_type\u001b[0m\u001b[0;34m(\u001b[0m\u001b[0;34m)\u001b[0m\u001b[0;34m:\u001b[0m\u001b[0;34m\u001b[0m\u001b[0;34m\u001b[0m\u001b[0m\n\u001b[0;32m-> 1079\u001b[0;31m             \u001b[0;32mreturn\u001b[0m \u001b[0;32mTrue\u001b[0m\u001b[0;34m,\u001b[0m \u001b[0mvalue\u001b[0m\u001b[0;34m(\u001b[0m\u001b[0mnode\u001b[0m\u001b[0;34m)\u001b[0m\u001b[0;34m\u001b[0m\u001b[0;34m\u001b[0m\u001b[0m\n\u001b[0m\u001b[1;32m   1080\u001b[0m \u001b[0;34m\u001b[0m\u001b[0m\n\u001b[1;32m   1081\u001b[0m         \u001b[0;32mif\u001b[0m \u001b[0;32mnot\u001b[0m \u001b[0mnode\u001b[0m\u001b[0;34m.\u001b[0m\u001b[0mis_expression_type\u001b[0m\u001b[0;34m(\u001b[0m\u001b[0;34m)\u001b[0m\u001b[0;34m:\u001b[0m\u001b[0;34m\u001b[0m\u001b[0;34m\u001b[0m\u001b[0m\n",
      "\u001b[0;32m~/anaconda3/lib/python3.6/site-packages/pyomo/core/expr/numvalue.py\u001b[0m in \u001b[0;36mvalue\u001b[0;34m(obj, exception)\u001b[0m\n\u001b[1;32m    227\u001b[0m                 raise ValueError(\n\u001b[1;32m    228\u001b[0m                     \u001b[0;34m\"No value for uninitialized NumericValue object %s\"\u001b[0m\u001b[0;34m\u001b[0m\u001b[0;34m\u001b[0m\u001b[0m\n\u001b[0;32m--> 229\u001b[0;31m                     % (obj.name,))\n\u001b[0m\u001b[1;32m    230\u001b[0m             \u001b[0;32mreturn\u001b[0m \u001b[0mtmp\u001b[0m\u001b[0;34m\u001b[0m\u001b[0;34m\u001b[0m\u001b[0m\n\u001b[1;32m    231\u001b[0m         \u001b[0;32mexcept\u001b[0m \u001b[0mTemplateExpressionError\u001b[0m\u001b[0;34m:\u001b[0m\u001b[0;34m\u001b[0m\u001b[0;34m\u001b[0m\u001b[0m\n",
      "\u001b[0;31mValueError\u001b[0m: No value for uninitialized NumericValue object x[0,2,0]"
     ]
    }
   ],
   "source": [
    "env = or_gym.make('VMPacking-v0')\n",
    "env.n_pms = 10\n",
    "env.step_limit = 5\n",
    "solver = SolverFactory('gurobi')\n",
    "env.reset()\n",
    "\n",
    "done = False\n",
    "actions = []\n",
    "rewards = []\n",
    "times, obj_vals, bin_vars = [], [], []\n",
    "count = 0\n",
    "t0 = time.time()\n",
    "while done==False:\n",
    "    t1 = time.time()\n",
    "    m = build_online_vm_opt(env)\n",
    "    results = solver.solve(m)\n",
    "    # Get action plan\n",
    "    plan = extract_plan(m)\n",
    "    action = plan[-1] #.take(0)\n",
    "    s, r, done, _ = env.step(action)\n",
    "    actions.append(action)\n",
    "    rewards.append(r)\n",
    "    t2 = time.time()\n",
    "    count += 1\n",
    "    times.append(t2-t1)\n",
    "    obj_vals.append(m.obj.expr())\n",
    "    bin_vars.append(results['Problem'][0]['Number of binary variables'])\n",
    "    if count % 10 == 0:\n",
    "        print(\"Ep: {}\\tSteps/s: {:.2f}\\tTotal time (s): {:.2f}\\tProjected Reward: {:.2f}\".format(\n",
    "            count, 10/np.mean(times[-10:]), t2-t0, obj_vals[-1]))\n",
    "        \n",
    "print(\"Total Time (s):\\t\\t{:.2f}\\t\".format(t2-t0))\n",
    "print(\"Mean Binary Variables:\\t{:.0f}\".format(np.mean(bin_vars)))"
   ]
  },
  {
   "cell_type": "code",
   "execution_count": 10,
   "metadata": {},
   "outputs": [],
   "source": [
    "# Get plan\n",
    "def extract_vm_packing_plan(model):\n",
    "    plan = []\n",
    "    for v in m.v:\n",
    "        for t in m.t:\n",
    "            if v == t:\n",
    "                for n in m.n:\n",
    "                    if m.x[n, v, t].value is None:\n",
    "                        continue\n",
    "                    if m.x[n, v, t].value > 0:\n",
    "                        plan.append(n)\n",
    "\n",
    "    return np.vstack(plan)"
   ]
  },
  {
   "cell_type": "code",
   "execution_count": 34,
   "metadata": {},
   "outputs": [],
   "source": [
    "def extract_plan(model):\n",
    "    plan = []\n",
    "    for n in m.n:\n",
    "        for v in m.v:\n",
    "            if m.x[n, v, m.t0].value is None:\n",
    "                continue\n",
    "            elif m.x[n, v, m.t0].value > 0:\n",
    "                plan.append(n)\n",
    "    return plan"
   ]
  },
  {
   "cell_type": "code",
   "execution_count": 38,
   "metadata": {},
   "outputs": [
    {
     "name": "stdout",
     "output_type": "stream",
     "text": [
      "ERROR: evaluating object as numeric value: x[0,1,1]\n",
      "        (object: <class 'pyomo.core.base.var._GeneralVarData'>)\n",
      "    No value for uninitialized NumericValue object x[0,1,1]\n"
     ]
    },
    {
     "ename": "ValueError",
     "evalue": "No value for uninitialized NumericValue object x[0,1,1]",
     "output_type": "error",
     "traceback": [
      "\u001b[0;31m---------------------------------------------------------------------------\u001b[0m",
      "\u001b[0;31mValueError\u001b[0m                                Traceback (most recent call last)",
      "\u001b[0;32m<ipython-input-38-cf68e3654ed0>\u001b[0m in \u001b[0;36m<module>\u001b[0;34m\u001b[0m\n\u001b[0;32m----> 1\u001b[0;31m \u001b[0mm\u001b[0m\u001b[0;34m.\u001b[0m\u001b[0mobj\u001b[0m\u001b[0;34m.\u001b[0m\u001b[0mexpr\u001b[0m\u001b[0;34m(\u001b[0m\u001b[0;34m)\u001b[0m\u001b[0;34m\u001b[0m\u001b[0;34m\u001b[0m\u001b[0m\n\u001b[0m",
      "\u001b[0;32m~/anaconda3/lib/python3.6/site-packages/pyomo/core/expr/expr_pyomo5.py\u001b[0m in \u001b[0;36m__call__\u001b[0;34m(self, exception)\u001b[0m\n\u001b[1;32m   1591\u001b[0m             \u001b[0mThe\u001b[0m \u001b[0mvalue\u001b[0m \u001b[0mof\u001b[0m \u001b[0mthe\u001b[0m \u001b[0mexpression\u001b[0m \u001b[0;32mor\u001b[0m \u001b[0;34m:\u001b[0m\u001b[0mconst\u001b[0m\u001b[0;34m:\u001b[0m\u001b[0;31m`\u001b[0m\u001b[0;32mNone\u001b[0m\u001b[0;31m`\u001b[0m\u001b[0;34m.\u001b[0m\u001b[0;34m\u001b[0m\u001b[0;34m\u001b[0m\u001b[0m\n\u001b[1;32m   1592\u001b[0m         \"\"\"\n\u001b[0;32m-> 1593\u001b[0;31m         \u001b[0;32mreturn\u001b[0m \u001b[0mevaluate_expression\u001b[0m\u001b[0;34m(\u001b[0m\u001b[0mself\u001b[0m\u001b[0;34m,\u001b[0m \u001b[0mexception\u001b[0m\u001b[0;34m)\u001b[0m\u001b[0;34m\u001b[0m\u001b[0;34m\u001b[0m\u001b[0m\n\u001b[0m\u001b[1;32m   1594\u001b[0m \u001b[0;34m\u001b[0m\u001b[0m\n\u001b[1;32m   1595\u001b[0m     \u001b[0;32mdef\u001b[0m \u001b[0m__str__\u001b[0m\u001b[0;34m(\u001b[0m\u001b[0mself\u001b[0m\u001b[0;34m)\u001b[0m\u001b[0;34m:\u001b[0m\u001b[0;34m\u001b[0m\u001b[0;34m\u001b[0m\u001b[0m\n",
      "\u001b[0;32m~/anaconda3/lib/python3.6/site-packages/pyomo/core/expr/expr_pyomo5.py\u001b[0m in \u001b[0;36mevaluate_expression\u001b[0;34m(exp, exception, constant)\u001b[0m\n\u001b[1;32m   1157\u001b[0m         \u001b[0mvisitor\u001b[0m \u001b[0;34m=\u001b[0m \u001b[0m_EvaluationVisitor\u001b[0m\u001b[0;34m(\u001b[0m\u001b[0;34m)\u001b[0m\u001b[0;34m\u001b[0m\u001b[0;34m\u001b[0m\u001b[0m\n\u001b[1;32m   1158\u001b[0m     \u001b[0;32mtry\u001b[0m\u001b[0;34m:\u001b[0m\u001b[0;34m\u001b[0m\u001b[0;34m\u001b[0m\u001b[0m\n\u001b[0;32m-> 1159\u001b[0;31m         \u001b[0;32mreturn\u001b[0m \u001b[0mvisitor\u001b[0m\u001b[0;34m.\u001b[0m\u001b[0mdfs_postorder_stack\u001b[0m\u001b[0;34m(\u001b[0m\u001b[0mexp\u001b[0m\u001b[0;34m)\u001b[0m\u001b[0;34m\u001b[0m\u001b[0;34m\u001b[0m\u001b[0m\n\u001b[0m\u001b[1;32m   1160\u001b[0m \u001b[0;34m\u001b[0m\u001b[0m\n\u001b[1;32m   1161\u001b[0m     \u001b[0;32mexcept\u001b[0m \u001b[0mNonConstantExpressionError\u001b[0m\u001b[0;34m:\u001b[0m  \u001b[0;31m#pragma: no cover\u001b[0m\u001b[0;34m\u001b[0m\u001b[0;34m\u001b[0m\u001b[0m\n",
      "\u001b[0;32m~/anaconda3/lib/python3.6/site-packages/pyomo/core/expr/expr_pyomo5.py\u001b[0m in \u001b[0;36mdfs_postorder_stack\u001b[0;34m(self, node)\u001b[0m\n\u001b[1;32m    702\u001b[0m                 \u001b[0m_sub\u001b[0m \u001b[0;34m=\u001b[0m \u001b[0m_argList\u001b[0m\u001b[0;34m[\u001b[0m\u001b[0m_idx\u001b[0m\u001b[0;34m]\u001b[0m\u001b[0;34m\u001b[0m\u001b[0;34m\u001b[0m\u001b[0m\n\u001b[1;32m    703\u001b[0m                 \u001b[0m_idx\u001b[0m \u001b[0;34m+=\u001b[0m \u001b[0;36m1\u001b[0m\u001b[0;34m\u001b[0m\u001b[0;34m\u001b[0m\u001b[0m\n\u001b[0;32m--> 704\u001b[0;31m                 \u001b[0mflag\u001b[0m\u001b[0;34m,\u001b[0m \u001b[0mvalue\u001b[0m \u001b[0;34m=\u001b[0m \u001b[0mself\u001b[0m\u001b[0;34m.\u001b[0m\u001b[0mvisiting_potential_leaf\u001b[0m\u001b[0;34m(\u001b[0m\u001b[0m_sub\u001b[0m\u001b[0;34m)\u001b[0m\u001b[0;34m\u001b[0m\u001b[0;34m\u001b[0m\u001b[0m\n\u001b[0m\u001b[1;32m    705\u001b[0m                 \u001b[0;32mif\u001b[0m \u001b[0mflag\u001b[0m\u001b[0;34m:\u001b[0m\u001b[0;34m\u001b[0m\u001b[0;34m\u001b[0m\u001b[0m\n\u001b[1;32m    706\u001b[0m                     \u001b[0m_result\u001b[0m\u001b[0;34m.\u001b[0m\u001b[0mappend\u001b[0m\u001b[0;34m(\u001b[0m \u001b[0mvalue\u001b[0m \u001b[0;34m)\u001b[0m\u001b[0;34m\u001b[0m\u001b[0;34m\u001b[0m\u001b[0m\n",
      "\u001b[0;32m~/anaconda3/lib/python3.6/site-packages/pyomo/core/expr/expr_pyomo5.py\u001b[0m in \u001b[0;36mvisiting_potential_leaf\u001b[0;34m(self, node)\u001b[0m\n\u001b[1;32m   1077\u001b[0m \u001b[0;34m\u001b[0m\u001b[0m\n\u001b[1;32m   1078\u001b[0m         \u001b[0;32mif\u001b[0m \u001b[0mnode\u001b[0m\u001b[0;34m.\u001b[0m\u001b[0mis_variable_type\u001b[0m\u001b[0;34m(\u001b[0m\u001b[0;34m)\u001b[0m\u001b[0;34m:\u001b[0m\u001b[0;34m\u001b[0m\u001b[0;34m\u001b[0m\u001b[0m\n\u001b[0;32m-> 1079\u001b[0;31m             \u001b[0;32mreturn\u001b[0m \u001b[0;32mTrue\u001b[0m\u001b[0;34m,\u001b[0m \u001b[0mvalue\u001b[0m\u001b[0;34m(\u001b[0m\u001b[0mnode\u001b[0m\u001b[0;34m)\u001b[0m\u001b[0;34m\u001b[0m\u001b[0;34m\u001b[0m\u001b[0m\n\u001b[0m\u001b[1;32m   1080\u001b[0m \u001b[0;34m\u001b[0m\u001b[0m\n\u001b[1;32m   1081\u001b[0m         \u001b[0;32mif\u001b[0m \u001b[0;32mnot\u001b[0m \u001b[0mnode\u001b[0m\u001b[0;34m.\u001b[0m\u001b[0mis_expression_type\u001b[0m\u001b[0;34m(\u001b[0m\u001b[0;34m)\u001b[0m\u001b[0;34m:\u001b[0m\u001b[0;34m\u001b[0m\u001b[0;34m\u001b[0m\u001b[0m\n",
      "\u001b[0;32m~/anaconda3/lib/python3.6/site-packages/pyomo/core/expr/numvalue.py\u001b[0m in \u001b[0;36mvalue\u001b[0;34m(obj, exception)\u001b[0m\n\u001b[1;32m    227\u001b[0m                 raise ValueError(\n\u001b[1;32m    228\u001b[0m                     \u001b[0;34m\"No value for uninitialized NumericValue object %s\"\u001b[0m\u001b[0;34m\u001b[0m\u001b[0;34m\u001b[0m\u001b[0m\n\u001b[0;32m--> 229\u001b[0;31m                     % (obj.name,))\n\u001b[0m\u001b[1;32m    230\u001b[0m             \u001b[0;32mreturn\u001b[0m \u001b[0mtmp\u001b[0m\u001b[0;34m\u001b[0m\u001b[0;34m\u001b[0m\u001b[0m\n\u001b[1;32m    231\u001b[0m         \u001b[0;32mexcept\u001b[0m \u001b[0mTemplateExpressionError\u001b[0m\u001b[0;34m:\u001b[0m\u001b[0;34m\u001b[0m\u001b[0;34m\u001b[0m\u001b[0m\n",
      "\u001b[0;31mValueError\u001b[0m: No value for uninitialized NumericValue object x[0,1,1]"
     ]
    }
   ],
   "source": []
  },
  {
   "cell_type": "code",
   "execution_count": null,
   "metadata": {},
   "outputs": [],
   "source": []
  }
 ],
 "metadata": {
  "kernelspec": {
   "display_name": "Python 3",
   "language": "python",
   "name": "python3"
  },
  "language_info": {
   "codemirror_mode": {
    "name": "ipython",
    "version": 3
   },
   "file_extension": ".py",
   "mimetype": "text/x-python",
   "name": "python",
   "nbconvert_exporter": "python",
   "pygments_lexer": "ipython3",
   "version": "3.6.10"
  }
 },
 "nbformat": 4,
 "nbformat_minor": 4
}
